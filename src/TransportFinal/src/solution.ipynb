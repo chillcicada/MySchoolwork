{
 "cells": [
  {
   "cell_type": "code",
   "execution_count": 2,
   "metadata": {},
   "outputs": [],
   "source": [
    "# import numpy as np\n",
    "# import matplotlib.pyplot as plt"
   ]
  },
  {
   "cell_type": "code",
   "execution_count": 3,
   "metadata": {},
   "outputs": [],
   "source": [
    "# define constants\n",
    "r = 0.05  # m\n",
    "delta1 = 0.025  # m\n",
    "delta2 = 0.05  # m\n",
    "\n",
    "rho1 = 2600  # kg/m^3\n",
    "cp1 = 1150  # J/kg-K\n",
    "k1 = 3.0  # W/m-K\n",
    "\n",
    "rho2 = 600  # kg/m^3\n",
    "cp2 = 200  # J/kg-K\n",
    "k2 = 0.2  # W/m-K\n",
    "\n",
    "T0 = 300  # K\n",
    "Tw = 1500  # K\n",
    "Tinf = 298  # K\n",
    "h1 = 500  # W/m^2-K\n",
    "h2 = 10  # W/m^2-K"
   ]
  },
  {
   "cell_type": "code",
   "execution_count": null,
   "metadata": {},
   "outputs": [],
   "source": []
  }
 ],
 "metadata": {
  "kernelspec": {
   "display_name": ".venv",
   "language": "python",
   "name": "python3"
  },
  "language_info": {
   "codemirror_mode": {
    "name": "ipython",
    "version": 3
   },
   "file_extension": ".py",
   "mimetype": "text/x-python",
   "name": "python",
   "nbconvert_exporter": "python",
   "pygments_lexer": "ipython3",
   "version": "3.12.3"
  }
 },
 "nbformat": 4,
 "nbformat_minor": 2
}
