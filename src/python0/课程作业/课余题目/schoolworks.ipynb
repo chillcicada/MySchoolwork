{
 "cells": [
  {
   "cell_type": "markdown",
   "id": "8ddf8dccaafb26cf",
   "metadata": {
    "collapsed": false
   },
   "source": [
    "coding: utf-8\n",
    "\n",
    "This jupyter note is a collection of single python files.\n",
    "\n",
    "You can run them in your own environment.\n",
    "\n",
    "If you want to run it in a single python file, please enable the comment of 'import...' when copying it to a single python file.\n",
    "\n",
    "The course homework is in the `/doc/Python 程序设计/课程作业` folder"
   ]
  },
  {
   "cell_type": "code",
   "execution_count": null,
   "id": "initial_id",
   "metadata": {
    "collapsed": true
   },
   "outputs": [],
   "source": [
    "import numpy as np\n",
    "import pandas as pd\n",
    "import scipy.linalg as la\n",
    "import matplotlib.pyplot as plt\n",
    "from scipy.optimize import minimize\n",
    "from scipy.interpolate import interp1d"
   ]
  },
  {
   "cell_type": "markdown",
   "id": "8eb2c024baaf51e0",
   "metadata": {
    "collapsed": false
   },
   "source": [
    "题 1-1 查找一段 DNA 序列中重复出现的定长序列，要求用类实现"
   ]
  },
  {
   "cell_type": "code",
   "execution_count": null,
   "id": "643163088429082f",
   "metadata": {
    "collapsed": false
   },
   "outputs": [],
   "source": [
    "# solution 1-1.py\n",
    "class Solution:\n",
    "    def __init__(self, s: str):\n",
    "        self.s = s\n",
    "\n",
    "    def findRepeatDnaSequences(self, n: int = 10) -> list:\n",
    "        strLen = len(self.s)\n",
    "        ans = []\n",
    "        if strLen > n:\n",
    "            data = {}\n",
    "            for i in range(strLen - n + 1):\n",
    "                key = self.s[i : i + n]\n",
    "                data[key] = 1 if key not in data else data[key] + 1\n",
    "            ans.append(key for key in data if data[key] > 1)\n",
    "        return ans\n",
    "\n",
    "\n",
    "obj = Solution(input())\n",
    "print(obj.findRepeatDnaSequences())"
   ]
  },
  {
   "cell_type": "markdown",
   "id": "afd7a9fa1b194c85",
   "metadata": {
    "collapsed": false
   },
   "source": [
    "题 1-2 根据日期输出对应天数"
   ]
  },
  {
   "cell_type": "code",
   "execution_count": null,
   "id": "f6d10833505c04fe",
   "metadata": {
    "collapsed": false
   },
   "outputs": [],
   "source": [
    "# solution 1-2.py\n",
    "(year1, year2), (yyyy, mm, dd) = (\n",
    "    (\n",
    "        [31, 28, 31, 30, 31, 30, 31, 31, 30, 31, 30, 31],\n",
    "        [31, 29, 31, 30, 31, 30, 31, 31, 30, 31, 30, 31],\n",
    "    ),\n",
    "    input(':) 请输入 \"year.month.day\" 形式的合法日期: ').split(\".\"),\n",
    ")\n",
    "print(\n",
    "    \"📅 这一天是 %d 年的第 %d 天\" % (int(yyyy), (sum(year2[: int(mm) - 1]) + int(dd)))\n",
    ") if int(yyyy) % 4 == 0 and int(yyyy) % 100 != 0 or int(yyyy) % 400 == 0 else print(\n",
    "    \"📅 这一天是 %d 年的第 %d 天\" % (int(yyyy), sum(year1[: int(mm) - 1]) + int(dd))\n",
    ")"
   ]
  },
  {
   "cell_type": "markdown",
   "id": "b7626f197b34e739",
   "metadata": {
    "collapsed": false
   },
   "source": [
    "题 1-3 逆波兰数运算"
   ]
  },
  {
   "cell_type": "code",
   "execution_count": null,
   "id": "e6d25127a124b64c",
   "metadata": {
    "collapsed": false
   },
   "outputs": [],
   "source": [
    "# solution 1-3.py\n",
    "def calcRPN(s: str):\n",
    "    \"\"\"\n",
    "    使用 str.split() 方法分割输入的逆波兰表达式为列表\n",
    "    使用 str.count() 方法统计运算符的个数\n",
    "    将列表长度存储为变量避免重复调用 len() 函数\n",
    "    判断输入的逆波兰表达式是否合法，若不合法则返回错误信息\n",
    "    考虑到前两位总为数字，count 从列表第三位开始计数并遍历搜索运算符\n",
    "    若搜索到运算符则使用 eval() 函数将字符串转换为表达式并计算，反之，则搜索下一位\n",
    "    合并数据树，删除已计算的数据，更新列表长度，回退 count\n",
    "    直至列表长度为 1，运算完毕，返回结果\n",
    "    \"\"\"\n",
    "    dataAll = s.split()\n",
    "    dataOperator = (\n",
    "        dataAll.count(\"+\")\n",
    "        + dataAll.count(\"-\")\n",
    "        + dataAll.count(\"*\")\n",
    "        + dataAll.count(\"/\")\n",
    "    )\n",
    "    dataLen = len(dataAll)\n",
    "    if dataOperator * 2 + 1 != dataLen:\n",
    "        return \"输入的逆波兰表达式有误！\"\n",
    "    count = 2\n",
    "    while dataLen > 1:\n",
    "        if dataAll[count] in (\"+\", \"-\", \"*\", \"/\"):\n",
    "            dataAll[count] = str(\n",
    "                eval(dataAll[count - 2] + dataAll[count] + dataAll[count - 1])\n",
    "            )\n",
    "            dataAll.pop(count - 1)\n",
    "            dataAll.pop(count - 2)\n",
    "            dataLen -= 2\n",
    "            count -= 1\n",
    "        else:\n",
    "            count += 1\n",
    "    return dataAll[0]\n",
    "\n",
    "\n",
    "print(calcRPN(input()))"
   ]
  },
  {
   "cell_type": "markdown",
   "id": "603ac40da39fa8b2",
   "metadata": {
    "collapsed": false
   },
   "source": [
    "题 2-1 构造一个 10x10 的随机数组，并取出所有 3x3 子矩阵"
   ]
  },
  {
   "cell_type": "code",
   "execution_count": null,
   "id": "4fa63448ad43a09",
   "metadata": {
    "collapsed": false
   },
   "outputs": [],
   "source": [
    "# solution 2-1.py\n",
    "# import numpy as np  # 导入numpy库\n",
    "\n",
    "# 生成一个10行10列的随机数组\n",
    "arr = np.empty((10, 10), dtype=np.float64)\n",
    "\n",
    "# 由行到列的顺序取出所有 3x3 的子数组\n",
    "for column in range(8):\n",
    "    for row in range(8):\n",
    "        print(arr[column : column + 3, row : row + 3])"
   ]
  },
  {
   "cell_type": "markdown",
   "id": "565fa1e5aa669c1d",
   "metadata": {
    "collapsed": false
   },
   "source": [
    "题 2-2 拟合一个二次函数"
   ]
  },
  {
   "cell_type": "code",
   "execution_count": null,
   "id": "cd45a18e6f830abc",
   "metadata": {
    "collapsed": false
   },
   "outputs": [],
   "source": [
    "# solution 2-2.py\n",
    "# import matplotlib.pyplot as plt\n",
    "# import numpy as np\n",
    "# import scipy.linalg as la\n",
    "\n",
    "(a, b, c) = (30, -20, 1)  # 预定义函数系数\n",
    "\n",
    "# 生成 100 个随机的样品数据，并添加噪音\n",
    "x = np.linspace(-100, 100, 100)\n",
    "y = a + b * x + c * x**2 + 1000 * np.random.randn(100)\n",
    "\n",
    "# 用最小二乘法拟合\n",
    "A = np.vstack([x**0, x**1, x**2])\n",
    "sol = la.lstsq(A.T, y)[0]\n",
    "yFit = sol[0] + sol[1] * x + sol[2] * x**2\n",
    "print(\"拟合函数为：y = %f + %f * x + %f * x^2\" % (sol[0], sol[1], sol[2]))\n",
    "\n",
    "# 画图\n",
    "plt.plot(x, y, \"go\")\n",
    "plt.plot(x, yFit, \"b\")\n",
    "plt.show()"
   ]
  },
  {
   "cell_type": "markdown",
   "id": "2f4ffb86efeb02d2",
   "metadata": {
    "collapsed": false
   },
   "source": [
    "题 2-3 用三阶样条曲线插值法拟合数据"
   ]
  },
  {
   "cell_type": "code",
   "execution_count": null,
   "id": "80002d62feb2b024",
   "metadata": {
    "collapsed": false
   },
   "outputs": [],
   "source": [
    "# solution 2-3.py\n",
    "# import numpy as np\n",
    "# import pandas as pd\n",
    "# import matplotlib.pyplot as plt\n",
    "# from scipy.interpolate import interp1d\n",
    "\n",
    "# 读取 csv 文件，并转化为 numpy 数组\n",
    "arrData = np.transpose(np.array(pd.read_csv(\"./assets/car.csv\")))\n",
    "arrX, arrY = arrData[0], arrData[1]\n",
    "\n",
    "# 用三阶样条曲线插值法拟合数据\n",
    "x2y = interp1d(arrX, arrY, \"cubic\")\n",
    "arrXNew = np.linspace(0, 1440, 1441)\n",
    "arrYNew = x2y(arrXNew)\n",
    "\n",
    "# 梯形积分法求车辆数\n",
    "print(\"车辆总数估计为:\", int(sum(arrYNew) - arrYNew[0] / 2 - arrYNew[-1] / 2))\n",
    "\n",
    "# 绘图\n",
    "plt.plot(arrXNew, arrYNew, color=\"blue\", label=\"carForecast\")\n",
    "plt.show()"
   ]
  },
  {
   "cell_type": "markdown",
   "id": "e30e924d24619c68",
   "metadata": {
    "collapsed": false
   },
   "source": [
    "题 2-4 绘制一个 3D 图像并用优化方法找出最值"
   ]
  },
  {
   "cell_type": "code",
   "execution_count": null,
   "id": "ac2d30504144b7c1",
   "metadata": {
    "collapsed": false
   },
   "outputs": [],
   "source": [
    "# import numpy as np\n",
    "# from scipy.optimize import minimize\n",
    "# import matplotlib.pyplot as plt\n",
    "\n",
    "\n",
    "def himmelblau(_x):\n",
    "    # 定义 himmelblau 函数，并将数组/矩阵作为一个参数传入\n",
    "    return (_x[0] ** 2 + _x[1] - 11) ** 2 + (_x[0] + _x[1] ** 2 - 7) ** 2\n",
    "\n",
    "\n",
    "# 利用 scipy.optimize.minimize 求解极小值并输出大小和坐标\n",
    "intMin = minimize(\n",
    "    himmelblau, np.array([0.0, 0.0]), method=\"nelder-mead\", options={\"disp\": True}\n",
    ")\n",
    "print(\"极小值为:\", int(intMin.fun))\n",
    "print(\"极小值坐标为:\", intMin.x)\n",
    "\n",
    "# 绘制 3D 图像\n",
    "x = np.linspace(-6, 6, 256, endpoint=True)\n",
    "y = np.linspace(-6, 6, 256, endpoint=True)\n",
    "X, Y = np.meshgrid(x, y)\n",
    "Z = himmelblau([X, Y])\n",
    "\n",
    "ax = plt.axes(projection=\"3d\")\n",
    "ax.plot_surface(X, Y, Z, rstride=1, cstride=1, cmap=\"rainbow\", alpha=0.5)\n",
    "plt.show()"
   ]
  }
 ],
 "metadata": {
  "kernelspec": {
   "display_name": "Python 3",
   "language": "python",
   "name": "python3"
  },
  "language_info": {
   "codemirror_mode": {
    "name": "ipython",
    "version": 2
   },
   "file_extension": ".py",
   "mimetype": "text/x-python",
   "name": "python",
   "nbconvert_exporter": "python",
   "pygments_lexer": "ipython2",
   "version": "2.7.6"
  }
 },
 "nbformat": 4,
 "nbformat_minor": 5
}
