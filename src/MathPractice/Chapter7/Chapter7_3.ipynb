{
 "cells": [
  {
   "cell_type": "raw",
   "metadata": {
    "vscode": {
     "languageId": "raw"
    }
   },
   "source": [
    "---\n",
    "title: 'Chapter 7-3'\n",
    "format: typst\n",
    "jupyter: python3\n",
    "---"
   ]
  },
  {
   "cell_type": "markdown",
   "metadata": {},
   "source": [
    "```{=typst}\n",
    "#set text(\n",
    "  font: (\"Times New Roman\", \"LXGW WenKai\"),\n",
    "  size: 11pt,\n",
    ")\n",
    "\n",
    "= 问题\n",
    "\n",
    "#h(2em) （易拉罐的下料）某公司采用一套冲压设备生产一种罐装饮料的易拉罐，这种易拉罐是用镀锡板冲压制成的。易拉罐为圆柱形，包括罐身、上盖和下底，罐身高 10cm，上盖和下底的直径均为 5cm。该公司使用两种不同规格的镀锡板原料，规格 1 的镀锡板为正方形，边长 24cm；规格 2 的镀锡板为长方形，长、宽分别为 32cm 和 28cm。由于生产设备和生产工艺的限制，对于规格 1 的镀锡板原料，只可以按照图 10.7 中的模式 1，2 或 3 进行冲压；对于规格 2 的镀锡板原料只能按照模式 4 进行冲压。使用模式 1，2，3，4 进行每次冲压所需要的时间分别为 1.5s，2s，1s，3s。\n",
    "\n",
    "#image(\"Chapter7_3_1.png\")\n",
    "\n",
    "#h(2em) 该工厂每周工作 40h，每周可供使用的规格 1，2 的镀锡板原料分别为 5 万张和 2 万张，目前每只易拉罐的利润为 0.10 元，原料余料损失为 0.001元/cm²（如果周末有罐身、上盖或下底不能配套组装成易拉罐出售，也看作是原料余料损失）。问工厂应如何安排每周的生产？\n",
    "\n",
    "= 思路\n",
    "\n",
    "对于盖和底，$S_1 = (pi d^2) / 4 approx 19.6 \"cm²\"$\n",
    "\n",
    "对于罐身，$S_2 = pi d h approx 157.1 \"cm²\"$\n",
    "\n",
    "#table(\n",
    "  columns: (1fr, 1fr, 1fr, 1fr, 1fr),\n",
    "  stroke: none,\n",
    "  align: center,\n",
    "  table.hline(),\n",
    "  table.header([模式], [罐身], [盖底], [损失/cm²], [时间/s]),\n",
    "  table.hline(stroke: 0.8pt),\n",
    "  [模式1],\n",
    "  [1],\n",
    "  [10],\n",
    "  [222.6],\n",
    "  [1.5],\n",
    "  [模式2],\n",
    "  [2],\n",
    "  [4],\n",
    "  [183.3],\n",
    "  [2],\n",
    "  [模式3],\n",
    "  [0],\n",
    "  [16],\n",
    "  [261.8],\n",
    "  [1],\n",
    "  [模式4],\n",
    "  [4],\n",
    "  [5],\n",
    "  [169.5],\n",
    "  [3],\n",
    "  table.hline(),\n",
    ")\n",
    "\n",
    "#h(2em) 设模式 1，2，3，4 使用的原料依次为 $x_1, x_2, x_3, x_4$ 万张；$y_1$ 表示一周生产易拉罐的个数。计算不能配套组装的罐身和底、盖造成的原料损失，用 $y_2$ 表示不配套的罐身个数，$y_3$ 表示不配套的底、盖个数。计量单位均以万计，将值看作实数处理。\n",
    "\n",
    "#h(2em) 即求解：\n",
    "\n",
    "$max(0.1 y_1 - 0.001 (222.6 x_1 + 183.3 x_2 + 261.8 x_3 + 169.5 x_4 + 157.1 y_2 + 19.6 y_3))$\n",
    "\n",
    "S.T.\n",
    "\n",
    "$\n",
    "  1.5 x_1 + 2 x_2 + x_3 + 3 x_4 &<= (40 times 3600) / 10^4 = 14.4 \\\n",
    "  x_1 + x_2 + x_3 &<= 5 \\\n",
    "  x_4 &<= 2 \\\n",
    "  y_1 &<= x_1 + 2 x_2 + 4 x_4 \\\n",
    "  y_1 &<= (9x_1 + 3 x_2 + 12 x_3 + 4 x_4) / 2 \\\n",
    "  y_2 &= x_1 + 2 x_2 + 4 x_4 - y_1 \\\n",
    "  y_3 &= 10 x_1 + 4 x_2 + 16 x_3 + 5 x_4 - 2 y_1 \\\n",
    "$\n",
    "\n",
    "#h(2em) 下面是代码实现：\n",
    "\n",
    "```\n"
   ]
  },
  {
   "cell_type": "code",
   "execution_count": null,
   "metadata": {},
   "outputs": [],
   "source": [
    "import numpy as np\n",
    "import scipy.optimize as opt"
   ]
  },
  {
   "cell_type": "code",
   "execution_count": null,
   "metadata": {},
   "outputs": [],
   "source": [
    "# prepare data\n",
    "d = 5  # cm\n",
    "h = 10  # cm\n",
    "a1 = 24  # cm (= b1)\n",
    "a2 = 32  # cm\n",
    "b2 = 28  # cm\n",
    "\n",
    "coff0 = [1.5, 2, 1, 3]\n",
    "coff1 = [10, 4, 16, 5]\n",
    "coff2 = [1, 2, 0, 4]\n",
    "\n",
    "S1 = np.pi * d * d / 4  # cm^2\n",
    "print('S1:', S1)\n",
    "S2 = np.pi * d * h  # cm^2\n",
    "print('S2:', S2)\n",
    "\n",
    "dp = [\n",
    "  a1 * a1 - 10 * S1 - S2,\n",
    "  a1 * a1 - 4 * S1 - 2 * S2,\n",
    "  a1 * a1 - 16 * S1,\n",
    "  a2 * b2 - 5 * S1 - 4 * S2,\n",
    "]\n",
    "\n",
    "print('dp:', dp)"
   ]
  },
  {
   "cell_type": "code",
   "execution_count": null,
   "metadata": {},
   "outputs": [],
   "source": [
    "# 定义相关函数\n",
    "def totalTime(a):  # 10^4 s\n",
    "  return coff0[0] * a[0] + coff0[1] * a[1] + coff0[2] * a[2] + coff0[3] * a[3]\n",
    "\n",
    "\n",
    "def y1(a):  # 10^4\n",
    "  return min(\n",
    "    # use coff2\n",
    "    coff2[0] * a[0] + coff2[1] * a[1] + coff2[2] * a[2] + coff2[3] * a[3],\n",
    "    # use coff1\n",
    "    (coff1[0] * a[0] + coff1[1] * a[1] + coff1[2] * a[2] + coff1[3] * a[3]) / 2,\n",
    "  )\n",
    "\n",
    "\n",
    "def y2(a):  # 10^4, use coff2\n",
    "  return coff2[0] * a[0] + coff2[1] * a[1] + coff2[2] * a[2] + coff2[3] * a[3] - y1(a)\n",
    "\n",
    "\n",
    "def y3(a):  # 10^4, use coff1\n",
    "  return coff1[0] * a[0] + coff1[1] * a[1] + coff1[2] * a[2] + coff1[3] * a[3] - 2 * y1(a)\n",
    "\n",
    "\n",
    "def target(a):  # 取反，求最小值\n",
    "  return -0.1 * y1(a) + 0.001 * (dp[0] * a[0] + dp[1] * a[1] + dp[2] * a[2] + dp[3] * a[3] + S2 * y2(a) + S1 * y3(a))"
   ]
  },
  {
   "cell_type": "code",
   "execution_count": null,
   "metadata": {},
   "outputs": [],
   "source": [
    "# 定义约束条件\n",
    "nlc0 = opt.NonlinearConstraint(totalTime, 0, 14.4)\n",
    "nlc1 = opt.NonlinearConstraint(y2, 0, np.inf)\n",
    "nlc2 = opt.NonlinearConstraint(y3, 0, np.inf)\n",
    "\n",
    "nlc3 = opt.NonlinearConstraint(lambda a: sum(a[0:3]), 0, 5)\n",
    "nlc4 = opt.NonlinearConstraint(lambda a: a[0:3], np.zeros(3), np.ones(3) * np.inf)\n",
    "nlc5 = opt.NonlinearConstraint(lambda a: a[3], 0, 2)\n",
    "\n",
    "result = opt.minimize(target, np.ones(4), constraints=[nlc0, nlc1, nlc2, nlc3, nlc4, nlc5])\n",
    "\n",
    "print(result)"
   ]
  },
  {
   "cell_type": "markdown",
   "metadata": {},
   "source": [
    "```{=typst}\n",
    "\n",
    "= 结论\n",
    "\n",
    "#h(2em) 0.62 万张用于模式一，4.254 万张用于模式二，0.0 万张用于模式三，1.654 万张用于模式四，利润为 0.3762 万元。\n",
    "\n",
    "```\n"
   ]
  }
 ],
 "metadata": {
  "kernelspec": {
   "display_name": ".venv",
   "language": "python",
   "name": "python3"
  },
  "language_info": {
   "codemirror_mode": {
    "name": "ipython",
    "version": 3
   },
   "file_extension": ".py",
   "mimetype": "text/x-python",
   "name": "python",
   "nbconvert_exporter": "python",
   "pygments_lexer": "ipython3",
   "version": "3.12.1"
  }
 },
 "nbformat": 4,
 "nbformat_minor": 2
}
