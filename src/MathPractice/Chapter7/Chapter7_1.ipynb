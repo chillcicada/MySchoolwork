{
 "cells": [
  {
   "cell_type": "raw",
   "metadata": {
    "vscode": {
     "languageId": "raw"
    }
   },
   "source": [
    "---\n",
    "title: 'Chapter 7-1'\n",
    "format: typst\n",
    "jupyter: python3\n",
    "---"
   ]
  },
  {
   "cell_type": "markdown",
   "metadata": {},
   "source": [
    "```{=typst}\n",
    "#set text(\n",
    "  font: (\"Times New Roman\", \"LXGW WenKai\"),\n",
    "  size: 11pt,\n",
    ")\n",
    "\n",
    "= 问题\n",
    "\n",
    "#h(2em) （二次指派问题）某公司指派n个员工到n个城市工作（每个城市单独一人），希望使所花费的总电话费用尽可能少。n 个员工两两之间每个月通话的时间表示在下面的矩阵的上三角部分（因为通话的时间矩阵是对称的，没有必要写出下三角部分），n 个城市两两之间通话费率表示在下面矩阵的下三角部分（同样道理，因为通话的费率矩阵是对称的，没有必要写出上三角部分）。试求解该二次指派问题（如果你的软件解不了这么大规模的问题，那就只考虑最前面的若干员工和城市）。\n",
    "\n",
    "= 思路\n",
    "\n",
    "$\n",
    "  \"target\" = (sum_(i, j, m, n = 1)^(i, j, m, n = 10) x_(i j) x_(m n) \"time\"_(i m) \"rate\"_(j n)) / 2\n",
    "$\n",
    "\n",
    "即求 $\"target\"$ 最小值。\n",
    "\n",
    "S.T.\n",
    "\n",
    "$\n",
    "  sum_(i = 1)^(i = 10) x_(i j) = 1 \\\n",
    "  sum_(j = 1)^(j = 10) x_(i j) = 1 \\\n",
    "  x_(i j) = 0, 1 \\\n",
    "$\n",
    "\n",
    "#h(2em) 由于 scipy 的 scipy.optimize.quadratic_assignment 接口能解决的问题有限（scipy 无法解决 0-1 决策问题），尝试调用 scipy.optimize.minimize 作为一般规划问题求解，多次尝试无果后调用 gurobipy 库进行求解。\n",
    "\n",
    "```\n"
   ]
  },
  {
   "cell_type": "code",
   "execution_count": null,
   "metadata": {},
   "outputs": [],
   "source": [
    "import numpy as np\n",
    "import scipy.optimize as opt"
   ]
  },
  {
   "cell_type": "code",
   "execution_count": null,
   "metadata": {},
   "outputs": [],
   "source": [
    "# 导入数据\n",
    "data = np.array(\n",
    "  [\n",
    "    [0, 5, 3, 7, 9, 3, 9, 2, 9, 0],\n",
    "    [7, 0, 7, 8, 3, 2, 3, 3, 5, 7],\n",
    "    [4, 8, 0, 9, 3, 5, 3, 3, 9, 3],\n",
    "    [6, 2, 10, 0, 8, 4, 1, 8, 0, 4],\n",
    "    [8, 6, 4, 6, 0, 8, 8, 7, 5, 9],\n",
    "    [8, 5, 4, 6, 6, 0, 4, 8, 0, 3],\n",
    "    [8, 6, 7, 9, 4, 3, 0, 7, 9, 5],\n",
    "    [6, 8, 2, 3, 8, 8, 6, 0, 5, 5],\n",
    "    [0, 3, 6, 2, 8, 3, 7, 8, 0, 5],\n",
    "    [5, 6, 7, 6, 6, 2, 8, 8, 9, 0],\n",
    "  ],\n",
    "  dtype=np.int32,\n",
    ")\n",
    "\n",
    "N: int = 10\n",
    "\n",
    "time = np.triu(data)\n",
    "time = time + time.T\n",
    "\n",
    "rate = np.tril(data)\n",
    "rate = rate + rate.T"
   ]
  },
  {
   "cell_type": "code",
   "execution_count": null,
   "metadata": {},
   "outputs": [],
   "source": [
    "# 定义目标函数\n",
    "def target(_x: np.ndarray):\n",
    "  x = _x.reshape(N, N)\n",
    "  temp = 0\n",
    "  for i in range(N):\n",
    "    for j in range(N):\n",
    "      for m in range(N):\n",
    "        for n in range(N):\n",
    "          temp = temp + x[i, j] * x[m, n] * time[i, m] * rate[j, n]\n",
    "  return -temp\n",
    "\n",
    "\n",
    "useArr0 = np.zeros(N, dtype=np.int32)\n",
    "useArr1 = np.ones(N, dtype=np.int32)\n",
    "\n",
    "nlc0 = opt.NonlinearConstraint(lambda x: np.sum(x.reshape(N, N), axis=0), useArr0, useArr1)\n",
    "nlc1 = opt.NonlinearConstraint(lambda x: np.sum(x.reshape(N, N), axis=1), useArr0, useArr1)\n",
    "\n",
    "x0 = np.array(\n",
    "  [\n",
    "    [0, 0, 0, 0, 0, 0, 0, 0, 1, 0],\n",
    "    [1, 0, 0, 0, 0, 0, 0, 0, 0, 0],\n",
    "    [0, 0, 0, 0, 0, 0, 0, 1, 0, 0],\n",
    "    [0, 0, 1, 0, 0, 0, 0, 0, 0, 0],\n",
    "    [0, 0, 0, 0, 0, 1, 0, 0, 0, 0],\n",
    "    [0, 0, 0, 0, 0, 0, 1, 0, 0, 0],\n",
    "    [0, 1, 0, 0, 0, 0, 0, 0, 0, 0],\n",
    "    [0, 0, 0, 0, 1, 0, 0, 0, 0, 0],\n",
    "    [0, 0, 0, 1, 0, 0, 0, 0, 0, 0],\n",
    "    [0, 0, 0, 0, 0, 0, 0, 0, 0, 1],\n",
    "  ],\n",
    "  dtype=np.int32,\n",
    ").flatten()\n",
    "\n",
    "res = opt.minimize(target, x0, constraints=[nlc0, nlc1])\n",
    "\n",
    "print(res)"
   ]
  },
  {
   "cell_type": "code",
   "execution_count": null,
   "metadata": {},
   "outputs": [],
   "source": [
    "import gurobipy as gp\n",
    "\n",
    "model = gp.Model('model')\n",
    "\n",
    "x = model.addVars(N, N, vtype=gp.GRB.BINARY, name='x')\n",
    "\n",
    "objective = gp.quicksum(\n",
    "  x[i, j] * x[m, n] * time[i, m] * rate[j, n] for i in range(N) for j in range(N) for m in range(N) for n in range(N)\n",
    ")\n",
    "\n",
    "model.setObjective(objective / 2, gp.GRB.MINIMIZE)\n",
    "\n",
    "model.addConstrs((x.sum(i, '*') == 1 for i in range(N)), name='row')\n",
    "model.addConstrs((x.sum('*', j) == 1 for j in range(N)), name='col')\n",
    "\n",
    "model.optimize()\n",
    "\n",
    "if model.status == gp.GRB.OPTIMAL:\n",
    "  for i in range(N):\n",
    "    for j in range(N):\n",
    "      if x[i, j].x > 0.5:\n",
    "        print(f'{i} -> {j}')\n",
    "        pass\n",
    "      pass\n",
    "    pass\n",
    "  pass"
   ]
  },
  {
   "cell_type": "markdown",
   "metadata": {},
   "source": [
    "指派结果如下（前面为人，后面为前往的城市）：\n",
    "\n",
    "```txt\n",
    "0 -> 8\n",
    "1 -> 0\n",
    "2 -> 7\n",
    "3 -> 2\n",
    "4 -> 5\n",
    "5 -> 6\n",
    "6 -> 1\n",
    "7 -> 4\n",
    "8 -> 3\n",
    "9 -> 9\n",
    "```\n"
   ]
  }
 ],
 "metadata": {
  "kernelspec": {
   "display_name": ".venv",
   "language": "python",
   "name": "python3"
  },
  "language_info": {
   "codemirror_mode": {
    "name": "ipython",
    "version": 3
   },
   "file_extension": ".py",
   "mimetype": "text/x-python",
   "name": "python",
   "nbconvert_exporter": "python",
   "pygments_lexer": "ipython3",
   "version": "3.12.1"
  }
 },
 "nbformat": 4,
 "nbformat_minor": 2
}
