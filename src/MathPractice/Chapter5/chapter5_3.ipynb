{
 "cells": [
  {
   "cell_type": "raw",
   "metadata": {
    "vscode": {
     "languageId": "raw"
    }
   },
   "source": [
    "---\n",
    "title: \"Chapter 5-3\"\n",
    "format: typst\n",
    "jupyter: python3\n",
    "---"
   ]
  },
  {
   "cell_type": "markdown",
   "metadata": {},
   "source": [
    "```{=typst}\n",
    "#set text(\n",
    "  font: (\"Times New Roman\", \"LXGW WenKai\"),\n",
    "  size: 11pt,\n",
    ")\n",
    "\n",
    "设投资证券 A，B，C，D，E 的金额分别为 $x_1, x_2, x_3, x_4, x_5$（百万元），按照规定、限制和 1000 万元（10 百万元）资金约束，列出如下模型：\n",
    "\n",
    "$\n",
    "max quad &0.043 x_1 + 0.035 x_2 + 0.025 x_3 + 0.022 x_4 + 0.045 x_5 \\\n",
    "s.t. quad &x_2 + x_3 + x_4 >= 4 \\\n",
    "&x_1 + x_2 + x_3 + x_4 + x_5 <= 10 \\\n",
    "&2 x_1 + 2 x_2 + x_3 + x_4 + 5x_5 <= 1.4(x_1 + x_2 + x_3 + x_4 + x_5) \\\n",
    "&quad => 6 x_1 + 6 x_2 - 4 x_3 - 4 x_4 + 36 x_5 <= 0 \\\n",
    "&9 x_1 + 15 x_2 + 4 x_3 + 3 x_4 + 2 x_5 <= 5(x_1 + x_2 + x_3 + x_4 + x_5) \\\n",
    "&quad => 4 x_1 + 10 x_2 - x_3 - 2 x_4 - 3 x_5 <= 0 \\\n",
    "&x_1, x_2, x_3, x_4, x_5 >= 0\n",
    "$\n",
    "\n",
    "```\n"
   ]
  },
  {
   "cell_type": "code",
   "execution_count": null,
   "metadata": {},
   "outputs": [],
   "source": [
    "import numpy as np\n",
    "import scipy.optimize as opt"
   ]
  },
  {
   "cell_type": "code",
   "execution_count": null,
   "metadata": {},
   "outputs": [],
   "source": [
    "# data\n",
    "A = np.array([0.043, 0.035, 0.025, 0.022, 0.045])\n",
    "\n",
    "A_ub = np.array([[0, -1, -1, -1, 0], [1, 1, 1, 1, 1], [6, 6, -4, -4, 36], [4, 10, -1, -2, -3]])\n",
    "\n",
    "B_ub = np.array([-4, 10, 0, 0])\n",
    "\n",
    "# bounds\n",
    "bounds = [(0, 6), (0, 10), (0, 10), (0, 10), (0, 6)]\n",
    "\n",
    "# solve\n",
    "res = opt.linprog(-A, A_ub, B_ub, bounds=bounds)\n",
    "print(res)"
   ]
  },
  {
   "cell_type": "markdown",
   "metadata": {},
   "source": [
    "（1）即证券 A，C，E 分别投资 2.182 百万元，7.364 百万元，0.454 百万元时，能获得最大税后收益 0.298 百万元.\n"
   ]
  },
  {
   "cell_type": "code",
   "execution_count": null,
   "metadata": {},
   "outputs": [],
   "source": [
    "# modified data for (2)\n",
    "B_ub_2 = np.array([-4, 11, 0, 0])\n",
    "\n",
    "# solve\n",
    "res_2 = opt.linprog(-A, A_ub, B_ub_2, bounds=bounds)\n",
    "print(res_2)"
   ]
  },
  {
   "cell_type": "markdown",
   "metadata": {},
   "source": [
    "（2）由（1）的结果中影子价格可知，若资金增加 100 万元，收益可增加 0.0298 百万元.大于以 2.75% 的利率借到 100 万元资金的利息 0.0275 百万元，换言之，获得最大收益的方案是借贷。投资方案需将上面模型第 2 个约束右端改为 11 即可，重新求解得到：证券 A，C，E 分别投资 2.40 百万元，8.10 百万元，0.50 百万元时，能获得最大税后收益 0.3282 百万元.\n",
    "\n",
    "（3）由（1）的结果中目标函数系数的允许范围（最优解不变）可知，证券 A 的税前收益可增 0.35%，故若证券 A 的税前收益增加为 4.5%，投资不应改变；证券 C 的税前收益可减 0.112%，由按 50%的税率纳税，故若证券 C 的税前收益减少为 4.8%，此时投资应该改变。\n"
   ]
  }
 ],
 "metadata": {
  "kernelspec": {
   "display_name": ".venv",
   "language": "python",
   "name": "python3"
  },
  "language_info": {
   "codemirror_mode": {
    "name": "ipython",
    "version": 3
   },
   "file_extension": ".py",
   "mimetype": "text/x-python",
   "name": "python",
   "nbconvert_exporter": "python",
   "pygments_lexer": "ipython3",
   "version": "3.12.2"
  }
 },
 "nbformat": 4,
 "nbformat_minor": 2
}
