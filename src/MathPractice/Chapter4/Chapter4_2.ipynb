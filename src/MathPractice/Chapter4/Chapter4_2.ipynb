{
 "cells": [
  {
   "cell_type": "raw",
   "id": "dd857658",
   "metadata": {
    "vscode": {
     "languageId": "raw"
    }
   },
   "source": [
    "---\n",
    "title: \"Chapter 4-2\"\n",
    "format: typst\n",
    "jupyter: python3\n",
    "---"
   ]
  },
  {
   "cell_type": "code",
   "execution_count": null,
   "id": "initial_id",
   "metadata": {
    "ExecuteTime": {
     "end_time": "2024-04-06T11:47:36.916678Z",
     "start_time": "2024-04-06T11:47:36.494501Z"
    },
    "collapsed": true
   },
   "outputs": [],
   "source": [
    "from scipy import optimize as opt\n",
    "import numpy as np"
   ]
  },
  {
   "cell_type": "code",
   "execution_count": null,
   "id": "46ddc5fd13f0ea48",
   "metadata": {
    "ExecuteTime": {
     "end_time": "2024-04-06T11:52:18.793562Z",
     "start_time": "2024-04-06T11:52:18.789804Z"
    },
    "collapsed": false
   },
   "outputs": [],
   "source": [
    "# 提取数据\n",
    "n = 4  # 组分数\n",
    "P = 760  # 气相压力，单位 mmHg\n",
    "\n",
    "# 导入数据\n",
    "a = np.array([18.607, 15.841, 20.443, 19.293])\n",
    "b = np.array([3643.31, 2755.64, 4628.96, 4117.07])\n",
    "c = np.array([239.73, 219.16, 252.64, 227.44])\n",
    "\n",
    "Q = np.array(\n",
    "  [[1.0, 0.192, 2.169, 1.611], [0.316, 1.0, 0.477, 0.524], [0.377, 0.360, 1.0, 0.296], [0.524, 0.282, 2.065, 1.0]]\n",
    ")"
   ]
  },
  {
   "cell_type": "code",
   "execution_count": null,
   "id": "ca69db24a7e20059",
   "metadata": {
    "ExecuteTime": {
     "end_time": "2024-04-06T13:47:29.345765Z",
     "start_time": "2024-04-06T13:47:29.309805Z"
    },
    "collapsed": false
   },
   "outputs": [],
   "source": [
    "# 定义目标函数\n",
    "def func(_XT_):\n",
    "  _XT = _XT_.reshape(1, n)\n",
    "\n",
    "  T = _XT[0, n - 1]\n",
    "  X = np.append(_XT[0, 0 : (n - 1)], [1 - sum(_XT[0, 0 : (n - 1)])]).reshape(1, n)\n",
    "\n",
    "  d = np.zeros((1, n))\n",
    "  dd = np.zeros((1, n))\n",
    "\n",
    "  for i in range(n):\n",
    "    d[0, i] = X @ np.array(Q[i])\n",
    "    dd[0, i] = X[0, i] / d[0, i]\n",
    "\n",
    "  res = np.zeros(n)\n",
    "\n",
    "  for i in range(n):\n",
    "    res[i] = (\n",
    "      X[0, i] * (b[i] / (T + c[i]))\n",
    "      + np.log(X @ Q[i].reshape(n, 1))\n",
    "      + dd @ Q[0:n, i].reshape(n, 1)\n",
    "      - a[i]\n",
    "      - 1\n",
    "      - np.log(P)\n",
    "    )\n",
    "\n",
    "  return res\n",
    "\n",
    "\n",
    "# 定义 X 和 T 的初始值\n",
    "XT0 = np.array([0.25, 0.25, 0.25, 50])\n",
    "\n",
    "XT, ier = opt.fsolve(func, XT0, full_output=True)[:2]\n",
    "\n",
    "print(XT)"
   ]
  },
  {
   "cell_type": "markdown",
   "id": "c46d77bb",
   "metadata": {},
   "source": [
    "组分比例依次为 0.29，0.19，0.32 和 0.20，温度为 -197 度"
   ]
  }
 ],
 "metadata": {
  "kernelspec": {
   "display_name": "Python 3",
   "language": "python",
   "name": "python3"
  },
  "language_info": {
   "codemirror_mode": {
    "name": "ipython",
    "version": 3
   },
   "file_extension": ".py",
   "mimetype": "text/x-python",
   "name": "python",
   "nbconvert_exporter": "python",
   "pygments_lexer": "ipython3",
   "version": "3.12.1"
  }
 },
 "nbformat": 4,
 "nbformat_minor": 5
}
