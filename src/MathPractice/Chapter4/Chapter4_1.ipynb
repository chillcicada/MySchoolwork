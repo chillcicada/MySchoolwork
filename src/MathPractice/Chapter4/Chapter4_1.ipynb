{
 "cells": [
  {
   "cell_type": "raw",
   "id": "a1782fd9",
   "metadata": {
    "vscode": {
     "languageId": "raw"
    }
   },
   "source": [
    "---\n",
    "title: \"Chapter 4-1\"\n",
    "format: typst\n",
    "jupyter: python3\n",
    "---"
   ]
  },
  {
   "cell_type": "code",
   "execution_count": null,
   "id": "daf3d60caa727fb0",
   "metadata": {
    "collapsed": false
   },
   "outputs": [],
   "source": [
    "from scipy import optimize as opt\n",
    "import numpy as np"
   ]
  },
  {
   "cell_type": "code",
   "execution_count": null,
   "id": "2f34893e",
   "metadata": {},
   "outputs": [],
   "source": [
    "# problem 1\n",
    "def func(r):\n",
    "  return 150000 * np.power((1 + r), 180) * r / (np.power((1 + r), 180) - 1) - 1000\n",
    "\n",
    "\n",
    "res = opt.fsolve(func, 0.01)[0]\n",
    "\n",
    "print(res)"
   ]
  },
  {
   "cell_type": "markdown",
   "id": "428010bf",
   "metadata": {},
   "source": [
    "利率为 0.208%"
   ]
  },
  {
   "cell_type": "code",
   "execution_count": null,
   "id": "initial_id",
   "metadata": {
    "collapsed": true
   },
   "outputs": [],
   "source": [
    "# problem 2\n",
    "def func1(r):\n",
    "  return 500000 * np.power((1 + r), 180) * r / (np.power((1 + r), 180) - 1) - 4500\n",
    "\n",
    "\n",
    "def func2(r):\n",
    "  return 500000 * np.power((1 + r), 20) * r / (np.power((1 + r), 20) - 1) - 45000\n",
    "\n",
    "\n",
    "r1 = opt.fsolve(func1, 0.01)[0]\n",
    "r2 = opt.fsolve(func2, 0.01)[0] / 12\n",
    "\n",
    "print(r1, r2)"
   ]
  },
  {
   "cell_type": "markdown",
   "id": "29c7f8fa",
   "metadata": {},
   "source": [
    "第二家银行优惠"
   ]
  }
 ],
 "metadata": {
  "kernelspec": {
   "display_name": "Python 3",
   "language": "python",
   "name": "python3"
  },
  "language_info": {
   "codemirror_mode": {
    "name": "ipython",
    "version": 3
   },
   "file_extension": ".py",
   "mimetype": "text/x-python",
   "name": "python",
   "nbconvert_exporter": "python",
   "pygments_lexer": "ipython3",
   "version": "3.12.1"
  }
 },
 "nbformat": 4,
 "nbformat_minor": 5
}
