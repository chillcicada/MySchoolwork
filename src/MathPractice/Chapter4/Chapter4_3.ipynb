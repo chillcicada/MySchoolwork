{
 "cells": [
  {
   "cell_type": "raw",
   "id": "f8ec856b",
   "metadata": {
    "vscode": {
     "languageId": "raw"
    }
   },
   "source": [
    "---\n",
    "title: \"Chapter 4-3\"\n",
    "format: typst\n",
    "jupyter: python3\n",
    "---"
   ]
  },
  {
   "cell_type": "code",
   "execution_count": null,
   "id": "initial_id",
   "metadata": {
    "collapsed": true
   },
   "outputs": [],
   "source": [
    "from matplotlib import pyplot as plt\n",
    "import numpy as np"
   ]
  },
  {
   "cell_type": "markdown",
   "id": "eb418e38",
   "metadata": {},
   "source": [
    "```{=typst}\n",
    "#set text(\n",
    "  font: (\"Times New Roman\", \"LXGW WenKai\"),\n",
    "  size: 11pt,\n",
    ")\n",
    "\n",
    "由题意可得：\n",
    "\n",
    "$\n",
    "D(p(t)) = c - d p(t) \\\n",
    "S(q(t)) = D(p(t)) \\\n",
    "q(t + 1) -q(t) = r[p(t) -q(t)]\n",
    "$\n",
    "\n",
    "消去 $p(t)$ 可得：\n",
    "\n",
    "$\n",
    "q(t + 1) - q(t) = (r c) / d - r / c S(q(t)) - r q(t)\n",
    "$\n",
    "\n",
    "此即 $q(t)$ 的递推方程。\n",
    "```"
   ]
  },
  {
   "cell_type": "code",
   "execution_count": null,
   "id": "8f14b3f9",
   "metadata": {},
   "outputs": [],
   "source": [
    "# 定义常量\n",
    "const_mu = 4.8\n",
    "const_d = 0.25\n",
    "const_r = 0.3\n",
    "\n",
    "\n",
    "# 定义函数\n",
    "def S(_x):\n",
    "  \"\"\"\n",
    "  供应函数\n",
    "  :param _x = q(t)\n",
    "  \"\"\"\n",
    "  return np.arctan(_x * const_mu)\n",
    "\n",
    "\n",
    "len_x = 1000\n",
    "arr_x = np.zeros((1, len_x))\n",
    "arr_x[0, 0] = 1  # 假设 q(0) = 1，不影响收敛结果\n",
    "\n",
    "lt_c = [0.1, 0.3, 0.6, 0.8, 0.9, 1, 1.1, 1.2, 1.5, 1.8, 2, 4]\n",
    "len_c = len(lt_c)\n",
    "dt_res = {}\n",
    "\n",
    "for c in lt_c:\n",
    "  for i in range(1, len_x):\n",
    "    arr_x[0, i] = (1 - const_r) * arr_x[0, i - 1] + const_r * c / const_d - const_r * S(arr_x[0, i - 1]) / const_d\n",
    "  dt_res[c] = arr_x.copy()\n",
    "\n",
    "\n",
    "plt.figure(figsize=(10, 40))\n",
    "\n",
    "for c in lt_c:\n",
    "  plt.subplot(len_c, 2, lt_c.index(c) + 1)\n",
    "  plt.plot(dt_res[c][0], label=f'c={c}')\n",
    "  plt.legend()\n",
    "  plt.grid()\n",
    "  plt.xlabel('t')\n",
    "  plt.ylabel('q(t)')\n",
    "  plt.subplots_adjust(hspace=0.25)\n",
    "\n",
    "plt.show()"
   ]
  },
  {
   "cell_type": "code",
   "execution_count": null,
   "id": "7bfcc655",
   "metadata": {},
   "outputs": [],
   "source": [
    "cc = np.linspace(0, 2, 2001)\n",
    "interval_res = np.zeros((1, 401))\n",
    "\n",
    "plt.figure(figsize=(20, 20))\n",
    "for c in cc:\n",
    "  for i in range(1, len_x):\n",
    "    arr_x[0, i] = (1 - const_r) * arr_x[0, i - 1] + const_r * c / const_d - const_r * S(arr_x[0, i - 1]) / const_d\n",
    "  for i in range(int(len_x / 2), len_x):\n",
    "    plt.plot(c, arr_x[0, i], 'r.')"
   ]
  },
  {
   "cell_type": "markdown",
   "id": "3cfc933c",
   "metadata": {},
   "source": [
    "```{=typst}\n",
    "#set text(\n",
    "  font: (\"Times New Roman\", \"LXGW WenKai\"),\n",
    "  size: 11pt,\n",
    ")\n",
    "\n",
    "结合 $q(t) - t$ 图像和 $q(t) - c$ 图像可知，随着 $c$ 的减小，出现混沌现象，同时，从 $q(t) - t$ 图像可知，在 $c$ 较小时，$q(t)$ 剧烈震荡，在 $c$ 接近零时，抖动频率大于采样频率，同时结合递推关系可知，反而稳定在极大值和极小值附近。\n",
    "```"
   ]
  }
 ],
 "metadata": {
  "kernelspec": {
   "display_name": "Python 3",
   "language": "python",
   "name": "python3"
  },
  "language_info": {
   "codemirror_mode": {
    "name": "ipython",
    "version": 3
   },
   "file_extension": ".py",
   "mimetype": "text/x-python",
   "name": "python",
   "nbconvert_exporter": "python",
   "pygments_lexer": "ipython3",
   "version": "3.12.1"
  }
 },
 "nbformat": 4,
 "nbformat_minor": 5
}
