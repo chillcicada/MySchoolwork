{
 "cells": [
  {
   "cell_type": "code",
   "execution_count": null,
   "metadata": {},
   "outputs": [],
   "source": [
    "import gurobipy as gp\n",
    "import numpy as np\n",
    "import scipy.stats as stats"
   ]
  },
  {
   "cell_type": "code",
   "execution_count": null,
   "metadata": {},
   "outputs": [],
   "source": [
    "from utils.itp import lagrange"
   ]
  },
  {
   "cell_type": "code",
   "execution_count": null,
   "metadata": {},
   "outputs": [],
   "source": [
    "x = [-2, 0, 2]\n",
    "\n",
    "\n",
    "def y(_x):\n",
    "  return _x**2 + 2 * _x + 5\n",
    "\n",
    "\n",
    "_y = [y(i) for i in x]\n",
    "\n",
    "print(lagrange(x, _y, 0))\n",
    "print(lagrange(x, _y, 1))\n",
    "print(lagrange(x, _y, -1))"
   ]
  },
  {
   "cell_type": "code",
   "execution_count": null,
   "metadata": {},
   "outputs": [],
   "source": [
    "import statsmodels.api as sm"
   ]
  },
  {
   "cell_type": "code",
   "execution_count": null,
   "metadata": {},
   "outputs": [],
   "source": [
    "x1 = np.array([0.5, 1, 1.5, 2])\n",
    "useX1 = np.ones(4) / x1\n",
    "_x1 = sm.add_constant(useX1)\n",
    "y1 = np.array([11.2491, 6.5759, 4.9747, 4.1539])\n",
    "m1 = sm.OLS(y1, _x1).fit()\n",
    "print(m1.summary())"
   ]
  },
  {
   "cell_type": "code",
   "execution_count": null,
   "metadata": {},
   "outputs": [],
   "source": [
    "print(1.8224 / 2)\n",
    "print(4.7194 / 0.9112)"
   ]
  },
  {
   "cell_type": "code",
   "execution_count": null,
   "metadata": {},
   "outputs": [],
   "source": [
    "# 3.2\n",
    "n = 16\n",
    "x_avg = 20.68\n",
    "val_sq = 6.56\n",
    "\n",
    "\n",
    "def Phi(mu, sigma, x):\n",
    "  return stats.norm(mu, sigma, x)"
   ]
  },
  {
   "cell_type": "code",
   "execution_count": null,
   "metadata": {},
   "outputs": [],
   "source": [
    "import scipy.optimize as opt\n",
    "\n",
    "\n",
    "def target(_X):\n",
    "  return _X[0] ** 2 + 2 * _X[1]\n",
    "\n",
    "\n",
    "nlc1 = opt.NonlinearConstraint(lambda X: X[0] ** 2 + X[1] ** 2, -np.inf, 9)\n",
    "nlc2 = opt.NonlinearConstraint(lambda X: sum(X), -np.inf, 1)\n",
    "\n",
    "result = opt.minimize(target, np.zeros(2), constraints=[nlc1, nlc2])\n",
    "\n",
    "print(result)"
   ]
  },
  {
   "cell_type": "code",
   "execution_count": null,
   "metadata": {},
   "outputs": [],
   "source": [
    "def A(a):\n",
    "  arr = np.array([[a, 4], [-1, a]])\n",
    "  return np.linalg.cond(arr, 1)\n",
    "\n",
    "\n",
    "print(A(-1))\n",
    "print(A(1.1))\n",
    "print(A(1))"
   ]
  },
  {
   "cell_type": "code",
   "execution_count": null,
   "metadata": {},
   "outputs": [],
   "source": [
    "import scipy.optimize as opt\n",
    "import numpy as np\n",
    "\n",
    "\n",
    "def target(X):\n",
    "  return 0.8 * (120 + 110 + 100 + 90 + 4 * X[0] + 3 * X[1] + 2 * X[2] + X[3])\n",
    "\n",
    "\n",
    "def _nlc2(x):\n",
    "  if x[0] >= 0:\n",
    "    return 120 * 65 + 60 * x[0]\n",
    "  else:\n",
    "    return (120 + x[0]) * 65\n",
    "\n",
    "\n",
    "def _nlc3(x):\n",
    "  if x[1] >= 0:\n",
    "    return (110 + x[0]) * 65 + 60 * x[1]\n",
    "  else:\n",
    "    return (110 + x[0] + x[1]) * 65\n",
    "\n",
    "\n",
    "def _nlc4(x):\n",
    "  if x[2] >= 0:\n",
    "    return (100 + x[0] + x[1]) * 65 + 60 * x[2]\n",
    "  else:\n",
    "    return (100 + x[0] + x[1] + x[2]) * 65\n",
    "\n",
    "\n",
    "def _nlc5(x):\n",
    "  if x[3] >= 0:\n",
    "    return (90 + x[0] + x[1] + x[2]) * 65 + 60 * x[3]\n",
    "  else:\n",
    "    return (90 + x[0] + x[1] + x[2] + x[3]) * 65\n",
    "\n",
    "\n",
    "nlc2 = opt.NonlinearConstraint(_nlc2, 6000, np.inf)\n",
    "nlc3 = opt.NonlinearConstraint(_nlc3, 7500, np.inf)\n",
    "nlc4 = opt.NonlinearConstraint(_nlc4, 5500, np.inf)\n",
    "nlc5 = opt.NonlinearConstraint(_nlc5, 9000, np.inf)\n",
    "\n",
    "\n",
    "res = opt.minimize(target, np.zeros(4), constraints=[nlc2, nlc3, nlc4, nlc5])\n",
    "\n",
    "print(res)\n",
    "print(res.x)"
   ]
  },
  {
   "cell_type": "code",
   "execution_count": null,
   "metadata": {},
   "outputs": [],
   "source": [
    "# 4.1\n",
    "mod = gp.Model('m4')\n",
    "x = mod.addVars(4, vtype=gp.GRB.INTEGER, name='human')\n",
    "\n",
    "\n",
    "def target(X):\n",
    "  return 0.8 * (120 + 110 + 100 + 90 - 4 * X[0] + 3 * X[1] - 2 * X[2] + X[3])\n",
    "\n",
    "\n",
    "mod.setObjective(target(x), gp.GRB.MINIMIZE)\n",
    "\n",
    "\n",
    "mod.addConstr((120 + -x[0]) * 65 >= 6000, name='n2')\n",
    "mod.addConstr((110 + -x[0]) * 65 + 60 * x[1] >= 7500, name='n3')\n",
    "mod.addConstr((100 + -x[0] + x[1] + -x[2]) * 65 >= 5500, name='n4')\n",
    "mod.addConstr((90 + -x[0] + x[1] + -x[2]) * 65 + 60 * x[3] >= 9000, name='n5')\n",
    "\n",
    "mod.optimize()\n",
    "\n",
    "print('obj =', mod.objVal)\n",
    "print('x =', [x[i].x for i in range(4)])"
   ]
  },
  {
   "cell_type": "code",
   "execution_count": null,
   "metadata": {},
   "outputs": [],
   "source": [
    "import numpy as np\n",
    "import statsmodels.api as sm"
   ]
  },
  {
   "cell_type": "code",
   "execution_count": null,
   "metadata": {},
   "outputs": [],
   "source": [
    "data_x = np.array([20, 30, 40, 50, 60, 70, 80, 90, 100, 120, 150, 180, 200])\n",
    "data_y = np.array([15.8, 36.1, 51.3, 77.3, 98.2, 108.3, 138.5, 163.8, 195.9, 259.3, 368.1, 484.0, 585.6])\n",
    "\n",
    "data_x_sq = data_x**2\n",
    "\n",
    "print(data_x_sq)"
   ]
  },
  {
   "cell_type": "code",
   "execution_count": null,
   "metadata": {},
   "outputs": [],
   "source": [
    "x = sm.add_constant(data_x_sq)\n",
    "\n",
    "m5 = sm.OLS(data_y, x).fit()\n",
    "print(m5.summary(alpha=0.1))"
   ]
  },
  {
   "cell_type": "code",
   "execution_count": null,
   "metadata": {},
   "outputs": [],
   "source": [
    "residuals = m5.resid\n",
    "\n",
    "std_resid = residuals / np.std(residuals)\n",
    "\n",
    "for index, item in enumerate(std_resid):\n",
    "  if abs(item) > 2:\n",
    "    print(f'异常值第{index}号:', item)\n",
    "    pass\n",
    "  pass"
   ]
  },
  {
   "cell_type": "code",
   "execution_count": null,
   "metadata": {},
   "outputs": [],
   "source": [
    "xn = np.c_[data_x, data_x_sq]\n",
    "\n",
    "m6 = sm.OLS(data_y, xn).fit()\n",
    "print(m6.summary(alpha=0.1))"
   ]
  },
  {
   "cell_type": "code",
   "execution_count": null,
   "metadata": {},
   "outputs": [],
   "source": [
    "from math import sqrt\n",
    "\n",
    "print((sqrt(6) + 6) / 15)\n",
    "\n",
    "print(-(((3 - 2 * sqrt(6)) / 15) - ((1 + sqrt(6)) / 5)) / 3)\n",
    "\n",
    "print(((3 - 2 * sqrt(6)) / 15 + 1) / 3)"
   ]
  }
 ],
 "metadata": {
  "kernelspec": {
   "display_name": ".venv",
   "language": "python",
   "name": "python3"
  },
  "language_info": {
   "codemirror_mode": {
    "name": "ipython",
    "version": 3
   },
   "file_extension": ".py",
   "mimetype": "text/x-python",
   "name": "python",
   "nbconvert_exporter": "python",
   "pygments_lexer": "ipython3",
   "version": "3.12.1"
  }
 },
 "nbformat": 4,
 "nbformat_minor": 2
}
