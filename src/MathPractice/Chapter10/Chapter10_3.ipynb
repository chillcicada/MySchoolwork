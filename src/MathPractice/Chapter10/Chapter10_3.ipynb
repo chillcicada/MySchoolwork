{
 "cells": [
  {
   "cell_type": "raw",
   "metadata": {
    "vscode": {
     "languageId": "raw"
    }
   },
   "source": [
    "---\n",
    "title: 'Chapter 10-3'\n",
    "format: typst\n",
    "jupyter: python3\n",
    "---"
   ]
  },
  {
   "cell_type": "markdown",
   "metadata": {},
   "source": [
    "```{=typst}\n",
    "#set text(\n",
    "  font: (\"Times New Roman\", \"LXGW WenKai\"),\n",
    "  size: 11pt,\n",
    ")\n",
    "\n",
    "= 题目\n",
    "\n",
    "#h(2em) 一个医药公司的新药研究部门为了掌握一种新止痛剂的疗效，设计了一个药物实验，给 24 名患有同种病痛的病人使用这种新止痛剂的以下 4 个剂量中的某一个：2，5，7，10（g），并记录每个病人病痛明显减轻的时间（min）。为了解新药的疗效与病人性别和血压有什么关系，试验过程中研究人员把病人按性别及血压的低、中、高 3 档平均分配来进行测试。通过比较每个病人血压的历史数据，从低到高分成 3 组，分别记作 0.25，0.50 和 0.75。实验结束后，公司的记录结果见表 13.32（性别以 0 表示女，1 表示男）。\n",
    "\n",
    "#image(\"Chapter10_3_1.png\")\n",
    "\n",
    "#image(\"Chapter10_3_2.png\")\n",
    "\n",
    "#h(2em) 请你为公司建立一个模型，根据病人用药的剂量、性别和血压组别，预测出服药后病痛明显减轻的时间。\n",
    "\n",
    "= 思路\n",
    "\n",
    "#h(2em) 使用 statsmodels 库中的线性回归模型进行建模。\n",
    "\n",
    "#h(2em) 下面是代码实现：\n",
    "```\n"
   ]
  },
  {
   "cell_type": "code",
   "execution_count": null,
   "metadata": {},
   "outputs": [],
   "source": [
    "import numpy as np\n",
    "import matplotlib.pyplot as plt\n",
    "import statsmodels.api as sm"
   ]
  },
  {
   "cell_type": "code",
   "execution_count": null,
   "metadata": {},
   "outputs": [],
   "source": [
    "# 导入数据\n",
    "data = np.loadtxt('Chapter10_3_1.csv', delimiter=',', skiprows=1)\n",
    "\n",
    "idx = data[:, 0]  # 病人编号\n",
    "time = data[:, 1]  # 病痛减轻时间\n",
    "dosage = data[:, 2]  # 用药剂量\n",
    "gender = data[:, 3]  # 性别\n",
    "category = data[:, 4]  # 血压组别\n",
    "\n",
    "# 数据可视化\n",
    "plt.plot(dosage, time, '.')\n",
    "plt.xlabel('Dosage')\n",
    "plt.ylabel('Time')\n",
    "plt.title('Dosage - Time')\n",
    "plt.show()\n",
    "\n",
    "plt.plot(gender, time, '.')\n",
    "plt.xlabel('Gender')\n",
    "plt.ylabel('Time')\n",
    "plt.title('Gender - Time')\n",
    "plt.show()\n",
    "\n",
    "plt.plot(category, time, '.')\n",
    "plt.xlabel('Category')\n",
    "plt.ylabel('Time')\n",
    "plt.title('Category - Time')\n",
    "plt.show()"
   ]
  },
  {
   "cell_type": "markdown",
   "metadata": {},
   "source": [
    "```{=typst}\n",
    "#h(2em) 根据常识，我们知道病人的病痛减轻时间与用药量有直接的关系，除此之外，一般的话，病人病痛减轻时间与性别，血压也有明显的关系。我们假设病痛减轻时间为 $y$，用药剂量为 $x_1$，性别为 $x_2$，血压组别为 $x_3$。\n",
    "\n",
    "#h(2em) 根据散点图，我们可以建立如下的线性回归模型：\n",
    "\n",
    "$\n",
    "  y = beta_0 + beta_1 x_1 + beta_2 x_2 + beta_3 x_3 + sum_(i j)(beta_(i j) x_i x_j) + epsilon\n",
    "$\n",
    "```"
   ]
  },
  {
   "cell_type": "code",
   "execution_count": null,
   "metadata": {},
   "outputs": [],
   "source": [
    "# 由于 gender 和 category 是分类变量，不引入二次项\n",
    "x_cross = [gender * category, dosage * gender, dosage * category, dosage**2]\n",
    "X = np.c_[np.ones(data.shape[0]), dosage, gender, category, *x_cross]\n",
    "\n",
    "model1 = sm.OLS(time, X).fit()\n",
    "\n",
    "print(model1.summary())"
   ]
  },
  {
   "cell_type": "markdown",
   "metadata": {},
   "source": [
    "注意到 gender 和 gender * category 的系数明显越过零点，将其舍去，重新建模。"
   ]
  },
  {
   "cell_type": "code",
   "execution_count": null,
   "metadata": {},
   "outputs": [],
   "source": [
    "x_cross_n = [dosage * gender, dosage * category, dosage**2]\n",
    "Xn = np.c_[np.ones(data.shape[0]), dosage, category, *x_cross_n]\n",
    "\n",
    "model1n = sm.OLS(time, Xn).fit()\n",
    "\n",
    "print(model1n.summary())"
   ]
  },
  {
   "cell_type": "markdown",
   "metadata": {},
   "source": [
    "```{=typst}\n",
    "$\n",
    "  \"time\" = 43.3742 - 6.9834 \"dosage\" + 43.6765 \"category\" + 0.9551 \"dosage\" \"gender\" - 7.5294 \"dosage\" \"category\" + 0.5111 \"dosage\"^2\n",
    "$\n",
    "\n",
    "time: 病痛减轻的时间\n",
    "\n",
    "dosage: 用药剂量\n",
    "\n",
    "category: 血压组别\n",
    "\n",
    "gender: 性别\n",
    "\n",
    "```"
   ]
  },
  {
   "cell_type": "code",
   "execution_count": null,
   "metadata": {},
   "outputs": [],
   "source": [
    "residuals = model1n.resid\n",
    "\n",
    "std_resid = residuals / np.std(residuals)\n",
    "\n",
    "for index, item in enumerate(std_resid):\n",
    "  if abs(item) > 2:\n",
    "    print(f'异常值第{index}号:', item)\n",
    "    pass\n",
    "  pass\n",
    "\n",
    "plt.plot(idx, std_resid, '.', label='std_resid')\n",
    "plt.legend()\n",
    "plt.show()"
   ]
  },
  {
   "cell_type": "markdown",
   "metadata": {},
   "source": [
    "存在异常值第 22 号样本，将其舍去，重新建模。"
   ]
  },
  {
   "cell_type": "code",
   "execution_count": null,
   "metadata": {},
   "outputs": [],
   "source": [
    "Xm = np.delete(Xn, 22, axis=0)\n",
    "time_m = np.delete(time, 22, axis=0)\n",
    "\n",
    "model2 = sm.OLS(time_m, Xm).fit()\n",
    "\n",
    "print(model2.summary())"
   ]
  },
  {
   "cell_type": "markdown",
   "metadata": {},
   "source": [
    "```{=typst}\n",
    "$\n",
    "  \"time\" = 42.5896 - 6.4070 \"dosage\" + 43.6765 \"category\" + 0.7637 \"dosage\" \"gender\" - 7.5294 \"dosage\" \"category\" + 0.4544 \"dosage\"^2\n",
    "$\n",
    "\n",
    "time: 病痛减轻的时间\n",
    "\n",
    "dosage: 用药剂量\n",
    "\n",
    "category: 血压组别\n",
    "\n",
    "gender: 性别\n",
    "\n",
    "```"
   ]
  }
 ],
 "metadata": {
  "kernelspec": {
   "display_name": ".venv",
   "language": "python",
   "name": "python3"
  },
  "language_info": {
   "codemirror_mode": {
    "name": "ipython",
    "version": 3
   },
   "file_extension": ".py",
   "mimetype": "text/x-python",
   "name": "python",
   "nbconvert_exporter": "python",
   "pygments_lexer": "ipython3",
   "version": "3.12.1"
  }
 },
 "nbformat": 4,
 "nbformat_minor": 2
}
