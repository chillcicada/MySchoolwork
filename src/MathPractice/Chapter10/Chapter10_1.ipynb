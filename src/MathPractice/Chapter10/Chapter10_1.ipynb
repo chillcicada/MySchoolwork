{
 "cells": [
  {
   "cell_type": "raw",
   "metadata": {},
   "source": [
    "---\n",
    "title: 'Chapter 10-1'\n",
    "format: typst\n",
    "jupyter: python3\n",
    "---"
   ]
  },
  {
   "cell_type": "markdown",
   "metadata": {},
   "source": [
    "```{=typst}\n",
    "#set text(\n",
    "  font: (\"Times New Roman\", \"LXGW WenKai\"),\n",
    "  size: 11pt,\n",
    ")\n",
    "\n",
    "= 题目\n",
    "\n",
    "#h(2em) 社会学家认为犯罪与收人低、失业及人口规模有关，对 20 个城市的犯罪率 $y$（每 10 万人中犯罪的人数）与年收人低于 5000 美元家庭的百分比 $x_1$、失业率 $x_2$ 和人口总数 $x_3$ （千人）进行了调查，结果如表 13.26 所示。\n",
    "\n",
    "#image(\"Chapter10_1_1.png\")\n",
    "\n",
    "#h(2em) （1）若 $x_1 ～ x_3$ 中至多只许选择 2 个变量，最好的模型是什么？\n",
    "\n",
    "#h(2em) （2）包含3个自变量的模型比上面的模型好吗？确定最终模型.\n",
    "\n",
    "#h(2em) （3）对最终模型观察残差，有无异常点，若有，剔除后如何。\n",
    "\n",
    "= 思路\n",
    "\n",
    "#h(2em) 使用 scikit-learn 库中的线性回归模型进行建模，也可以使用 statsmodels 库中的线性回归模型进行建模。\n",
    "\n",
    "#h(2em) 下面是代码实现：\n",
    "```\n"
   ]
  },
  {
   "cell_type": "code",
   "execution_count": null,
   "metadata": {},
   "outputs": [],
   "source": [
    "import numpy as np\n",
    "import matplotlib.pyplot as plt\n",
    "import statsmodels.api as sm"
   ]
  },
  {
   "cell_type": "code",
   "execution_count": null,
   "metadata": {},
   "outputs": [],
   "source": [
    "# 导入数据\n",
    "data = np.loadtxt('Chapter10_1_1.csv', delimiter=',', skiprows=1)\n",
    "\n",
    "N = len(data)\n",
    "y = data[:, 1]\n",
    "x1 = data[:, 2]\n",
    "x2 = data[:, 3]\n",
    "x3 = data[:, 4]\n",
    "\n",
    "# 数据可视化\n",
    "plt.plot(x1, y, '+', label='x1')\n",
    "plt.legend()\n",
    "plt.show()\n",
    "\n",
    "plt.plot(x2, y, '+', label='x2')\n",
    "plt.legend()\n",
    "plt.show()\n",
    "\n",
    "plt.plot(x3, y, '+', label='x3')\n",
    "plt.legend()\n",
    "plt.show()"
   ]
  },
  {
   "cell_type": "markdown",
   "metadata": {},
   "source": [
    "由图像可知，$y$ 与 $x_1$ 和 $x_2$ 呈现线性关系，因此选择 $x_1$ 和 $x_2$ 与 $y$ 构建二元线性回归模型。"
   ]
  },
  {
   "cell_type": "code",
   "execution_count": null,
   "metadata": {},
   "outputs": [],
   "source": [
    "# 第一问\n",
    "_x = np.c_[x1, x2]\n",
    "x = sm.add_constant(_x)\n",
    "model1 = sm.OLS(y, x).fit()\n",
    "\n",
    "print(model1.summary())"
   ]
  },
  {
   "cell_type": "markdown",
   "metadata": {},
   "source": [
    "```{=typst}\n",
    "$\n",
    "  y = -34.0725 + 1.2239 x_1 + 4.3989 x_2 \\\n",
    "  R^2 = 0.802 \\\n",
    "  F = 34.43 \\\n",
    "$\n",
    "```"
   ]
  },
  {
   "cell_type": "code",
   "execution_count": null,
   "metadata": {},
   "outputs": [],
   "source": [
    "# 第二问\n",
    "_xn = np.c_[x1, x2, x3]\n",
    "xn = sm.add_constant(_xn)\n",
    "model2 = sm.OLS(y, xn).fit()\n",
    "\n",
    "print(model2.summary())"
   ]
  },
  {
   "cell_type": "markdown",
   "metadata": {},
   "source": [
    "```{=typst}\n",
    "$x_3$ 的置信区间为 $(-0.0001, 0.0001)$，因此 $x_3$ 对 $y$ 的影响不显著，可以剔除。\n",
    "\n",
    "$\n",
    "  y = -36.7649 + 1.1922 x_1 + 4.7198 x_2 + 0.0008 x_3 \\\n",
    "  R^2 = 0.818 \\\n",
    "  F = 24.02 \\\n",
    "$\n",
    "\n",
    "F 值降低，预测效果下降。\n",
    "\n",
    "```"
   ]
  },
  {
   "cell_type": "code",
   "execution_count": null,
   "metadata": {},
   "outputs": [],
   "source": [
    "# 第三问\n",
    "# 复用第一问的模型\n",
    "residuals = model1.resid\n",
    "\n",
    "std_resid = residuals / np.std(residuals)\n",
    "\n",
    "for index, item in enumerate(std_resid):\n",
    "  if abs(item) > 2:\n",
    "    print(f'异常值第{index}号:', item)\n",
    "    pass\n",
    "  pass\n",
    "\n",
    "plt.plot(x1, std_resid, '.', label='std_resid')\n",
    "plt.legend()\n",
    "plt.show()"
   ]
  },
  {
   "cell_type": "markdown",
   "metadata": {},
   "source": [
    "有两个异常值第 7 号和第 19 号，可以剔除。"
   ]
  },
  {
   "cell_type": "code",
   "execution_count": null,
   "metadata": {},
   "outputs": [],
   "source": [
    "xm = np.delete(x, [7, 19], axis=0)\n",
    "ym = np.delete(y, [7, 19])\n",
    "\n",
    "model1m = sm.OLS(ym, xm).fit()\n",
    "\n",
    "print(model1m.summary())"
   ]
  },
  {
   "cell_type": "markdown",
   "metadata": {},
   "source": [
    "```{=typst}\n",
    "\n",
    "$\n",
    "  y = -35.7095 + 1.6023 x_1 + 3.3926 x_2 \\\n",
    "  R^2 = 0.913 \\\n",
    "  F = 78.39\n",
    "$\n",
    "\n",
    "```"
   ]
  }
 ],
 "metadata": {
  "kernelspec": {
   "display_name": ".venv",
   "language": "python",
   "name": "python3"
  },
  "language_info": {
   "codemirror_mode": {
    "name": "ipython",
    "version": 3
   },
   "file_extension": ".py",
   "mimetype": "text/x-python",
   "name": "python",
   "nbconvert_exporter": "python",
   "pygments_lexer": "ipython3",
   "version": "3.12.1"
  }
 },
 "nbformat": 4,
 "nbformat_minor": 2
}
