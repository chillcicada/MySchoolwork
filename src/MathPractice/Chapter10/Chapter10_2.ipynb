{
 "cells": [
  {
   "cell_type": "raw",
   "metadata": {
    "vscode": {
     "languageId": "raw"
    }
   },
   "source": [
    "---\n",
    "title: 'Chapter 10-2'\n",
    "format: typst\n",
    "jupyter: python3\n",
    "---"
   ]
  },
  {
   "cell_type": "markdown",
   "metadata": {},
   "source": [
    "```{=typst}\n",
    "#set text(\n",
    "  font: (\"Times New Roman\", \"LXGW WenKai\"),\n",
    "  size: 11pt,\n",
    ")\n",
    "\n",
    "= 题目\n",
    "\n",
    "#h(2em) 车销售商认为汽车销售量与汽油价格、贷款利率有关，两种类型汽车（普通型和豪华型）18 个月的调查资料见表 13.29，其中 $y_1$ 是普通型汽车售量（千辆），$y_2$ 是豪华型汽车售量（千辆），$x_1$ 是汽油价格（元/gal），$x_2$ 是贷款利率（%）。\n",
    "\n",
    "#image(\"Chapter10_2_1.png\")\n",
    "\n",
    "#image(\"Chapter10_2_2.png\")\n",
    "\n",
    "#h(2em) （1）普通型和豪华型汽车分别建立如下模型：\n",
    "\n",
    "$\n",
    "  y_1 = beta_0^((1)) + beta_1^((1)) x_1 + beta_2^((1)) x_2, quad\n",
    "  y_2 = beta_0^((2)) + beta_1^((2)) x_1 + beta_2^((2)) x_2,\n",
    "$\n",
    "\n",
    "给出 $beta$ 的估计值和置信区间，决定系数 $R^2, F$ 值及剩余方差等。\n",
    "\n",
    "#h(2em) （2）用 $x_3=0, 1$ 表示汽车类型，建立统一模型：$y=beta_0 + beta_1 x_1 + beta_2 x_2 + beta_3 x_3$，给出 $beta$ 的估计值和置信区间，决定系数 $R^2, F$ 值及剩余方差等。以 $x_3=0,1$ 代入统一模型，将结果与（1）的两个模型的结果比较，解释二者的区别。\n",
    "\n",
    "#h(2em) （3）对统一模型就每种类型汽车分别作 $x_1$ 和 $x_2$ 与残差的散点图，有什么现象，说明模型有何缺陷？\n",
    "\n",
    "#h(2em) （4）统一模型增加二次项和交互项，考察结果有什么改进。\n",
    "\n",
    "= 思路\n",
    "\n",
    "#h(2em) 使用 scikit-learn 库中的线性回归模型进行建模，也可以使用 statsmodels 库中的线性回归模型进行建模。\n",
    "\n",
    "#h(2em) 下面是代码实现：\n",
    "```\n"
   ]
  },
  {
   "cell_type": "code",
   "execution_count": null,
   "metadata": {},
   "outputs": [],
   "source": [
    "import numpy as np\n",
    "import matplotlib.pyplot as plt\n",
    "import statsmodels.api as sm"
   ]
  },
  {
   "cell_type": "code",
   "execution_count": null,
   "metadata": {},
   "outputs": [],
   "source": [
    "# 导入数据\n",
    "data = np.loadtxt('Chapter10_2_1.csv', delimiter=',', skiprows=1)\n",
    "\n",
    "idx = data[:, 0]\n",
    "y1 = data[:, 1]\n",
    "y2 = data[:, 2]\n",
    "x1 = data[:, 3]\n",
    "x2 = data[:, 4]\n",
    "_X = data[:, 3:5]\n",
    "N = len(idx)\n",
    "\n",
    "# 数据可视化\n",
    "plt.plot(idx, y1, '.', label='y1')\n",
    "plt.legend()\n",
    "plt.show()\n",
    "\n",
    "plt.plot(idx, y2, '.', label='y2')\n",
    "plt.legend()\n",
    "plt.show()\n",
    "\n",
    "plt.plot(idx, x1, '.', label='x1')\n",
    "plt.legend()\n",
    "plt.show()\n",
    "\n",
    "plt.plot(idx, x2, '.', label='x2')\n",
    "plt.legend()\n",
    "plt.show()\n",
    "\n",
    "# 数据预处理\n",
    "X = sm.add_constant(_X)"
   ]
  },
  {
   "cell_type": "code",
   "execution_count": null,
   "metadata": {},
   "outputs": [],
   "source": [
    "# 第一问\n",
    "model1 = sm.OLS(y1, X).fit()\n",
    "\n",
    "print(model1.summary())"
   ]
  },
  {
   "cell_type": "code",
   "execution_count": null,
   "metadata": {},
   "outputs": [],
   "source": [
    "residuals = model1.resid\n",
    "\n",
    "std_resid = residuals / np.std(residuals)\n",
    "\n",
    "for index, item in enumerate(std_resid):\n",
    "  if abs(item) > 2:\n",
    "    print(f'异常值第{index}号:', item)\n",
    "    pass\n",
    "  pass\n",
    "\n",
    "plt.plot(idx, std_resid, '.', label='std_resid')\n",
    "plt.legend()\n",
    "plt.show()"
   ]
  },
  {
   "cell_type": "markdown",
   "metadata": {},
   "source": [
    "注意到第 13 号数据为异常值，将其删除。"
   ]
  },
  {
   "cell_type": "code",
   "execution_count": null,
   "metadata": {},
   "outputs": [],
   "source": [
    "y1m = np.delete(y1, 13)\n",
    "Xm = np.delete(X, 13, axis=0)\n",
    "\n",
    "model1m = sm.OLS(y1m, Xm).fit()\n",
    "\n",
    "print(model1m.summary())\n",
    "\n",
    "residuals = model1m.resid\n",
    "\n",
    "print('剩余方差为：', np.var(residuals))"
   ]
  },
  {
   "cell_type": "code",
   "execution_count": null,
   "metadata": {},
   "outputs": [],
   "source": [
    "model2 = sm.OLS(y2, X).fit()\n",
    "\n",
    "print(model2.summary())"
   ]
  },
  {
   "cell_type": "code",
   "execution_count": null,
   "metadata": {},
   "outputs": [],
   "source": [
    "residuals = model2.resid\n",
    "\n",
    "std_resid = residuals / np.std(residuals)\n",
    "\n",
    "for index, item in enumerate(std_resid):\n",
    "  if abs(item) > 2:\n",
    "    print(f'异常值第{index}号:', item)\n",
    "    pass\n",
    "  pass\n",
    "\n",
    "plt.plot(idx, std_resid, '.', label='std_resid')\n",
    "plt.legend()\n",
    "plt.show()"
   ]
  },
  {
   "cell_type": "markdown",
   "metadata": {},
   "source": [
    "注意到第 13 号数据同样为异常值，将其删除。"
   ]
  },
  {
   "cell_type": "code",
   "execution_count": null,
   "metadata": {},
   "outputs": [],
   "source": [
    "y2m = np.delete(y2, 13)\n",
    "Xm = np.delete(X, 13, axis=0)\n",
    "\n",
    "model2m = sm.OLS(y2m, Xm).fit()\n",
    "\n",
    "print(model2m.summary())\n",
    "\n",
    "residuals = model2m.resid\n",
    "\n",
    "print('剩余方差为：', np.var(residuals))"
   ]
  },
  {
   "cell_type": "markdown",
   "metadata": {},
   "source": [
    "```{=typst}\n",
    "\n",
    "#h(2em) 综上：\n",
    "\n",
    "$\n",
    "  beta = mat(104.6455, -35.4983, -3.2563;31.3254, -8.3022, -8.3022;) \\\n",
    "  \"置信区间\" = mat(\n",
    "    (63.349, 145.942),\n",
    "    (-60.460, -10.537),\n",
    "    (-4.185, -2.327);\n",
    "    (14.595, 48.056),\n",
    "    (-18.415, 1.811),\n",
    "    (-1.825, -1.073);\n",
    "  ) \\\n",
    "  y_1 = 104.6455 - 35.4983 x_1 - 3.2563 x_2 \\\n",
    "  y_2 = 31.3254 - 8.3022 x_1 - 8.3022 x_2 \\\n",
    "$\n",
    "\n",
    "#h(2em) 对于 $y_1$，$R^2 = 0.897, F = 61.14$，剩余方差为： 13.315568691316656\n",
    "\n",
    "#h(2em) 对于 $y_2$，$R^2 = 0.894, F = 58.96$，剩余方差为： 2.1855609333960766\n",
    "\n",
    "```"
   ]
  },
  {
   "cell_type": "code",
   "execution_count": null,
   "metadata": {},
   "outputs": [],
   "source": [
    "# 第二问\n",
    "yn = np.hstack((y1m, y2m))\n",
    "_x1 = np.delete(x1, 13)\n",
    "x1n = np.hstack((_x1, _x1))\n",
    "_x2 = np.delete(x2, 13)\n",
    "x2n = np.hstack((_x2, _x2))\n",
    "x3 = np.hstack((np.ones(N - 1), np.zeros(N - 1)))\n",
    "_Xn = np.c_[x1n, x2n, x3]\n",
    "Xn = sm.add_constant(_Xn)\n",
    "\n",
    "model3 = sm.OLS(yn, Xn).fit()\n",
    "\n",
    "print(model3.summary())\n",
    "\n",
    "residuals = model3.resid\n",
    "\n",
    "print('剩余方差为：', np.var(residuals))"
   ]
  },
  {
   "cell_type": "markdown",
   "metadata": {},
   "source": [
    "```{=typst}\n",
    "$\n",
    "  beta = mat(60.8707, -21.9003, -21.9003, 14.2294;) \\\n",
    "  \"置信区间\" = mat( \\\n",
    "    (29.208, 92.533),\n",
    "    (-41.014, -2.787),\n",
    "    (-3.064, -1.641),\n",
    "    (11.026, 17.433); \\\n",
    "  ) \\\n",
    "  R^2 = 0.853 \\\n",
    "  F = 58.14 \\\n",
    "  \"剩余方差\" = 18.45176017386221 \\\n",
    "  y = 60.8707 - 21.9003 x_1 - 21.9003 x_2 + 14.2294 x_3 \\\n",
    "$\n",
    "\n",
    "剩余方差增大，$R^2$ 减小，$F$ 值减小，说明模型拟合效果变差。\n",
    "\n",
    "```"
   ]
  },
  {
   "cell_type": "code",
   "execution_count": null,
   "metadata": {},
   "outputs": [],
   "source": [
    "# 第三问\n",
    "residuals = model3.resid\n",
    "\n",
    "std_resid = residuals / np.std(residuals)\n",
    "\n",
    "_idx = np.delete(idx, 13)\n",
    "\n",
    "plt.plot(_idx, std_resid[:17], '.', label='std_resid_x1')\n",
    "plt.legend()\n",
    "plt.show()\n",
    "\n",
    "plt.plot(_idx, std_resid[17:], '.', label='std_resid_x2')\n",
    "plt.legend()\n",
    "plt.show()"
   ]
  },
  {
   "cell_type": "markdown",
   "metadata": {},
   "source": [
    "```{=typst}\n",
    "注意到在第一问的求解中，我们已经剔除了各自模型的异常点，但在统一模型中，会增加对 $x_1$ 的异常点（第 17 号数据），说明模型无法耦合两种类型汽车的销售情况（$x_1$ 和 $x_2$），同时 $x_1$ 和 $x_2$ 各自趋势不同，说明其与 $x_3$ 存在交互作用，需要引入交互项乃至二次项。\n",
    "```"
   ]
  },
  {
   "cell_type": "code",
   "execution_count": null,
   "metadata": {},
   "outputs": [],
   "source": [
    "# 第四问\n",
    "# 此处 x3**2 与 x3 等价，因而忽略\n",
    "_x = [x1n * x3, x2n * x3, x1n**2, x2n**2, x1n * x2n]\n",
    "\n",
    "_Xnn = np.c_[x1n, x2n, x3, *_x]\n",
    "Xnn = sm.add_constant(_Xnn)\n",
    "\n",
    "model4 = sm.OLS(yn, Xnn).fit()\n",
    "\n",
    "print(model4.summary())"
   ]
  },
  {
   "cell_type": "markdown",
   "metadata": {},
   "source": [
    "```{=typst}\n",
    "注意到 $x_1, x_2, x_1^2$ 和 $x_1 x_2$ 的系数置信区间经过零点，将其忽略。\n",
    "```"
   ]
  },
  {
   "cell_type": "code",
   "execution_count": null,
   "metadata": {},
   "outputs": [],
   "source": [
    "_x = [x1n * x3, x2n * x3, x2n**2]\n",
    "\n",
    "_Xnn = np.c_[x3, *_x]\n",
    "Xnn = sm.add_constant(_Xnn)\n",
    "\n",
    "Xnm = np.delete(Xnn, 17, axis=0)\n",
    "\n",
    "ynm = np.delete(yn, 17)\n",
    "\n",
    "model4 = sm.OLS(ynm, Xnm).fit()\n",
    "\n",
    "print(model4.summary())"
   ]
  },
  {
   "cell_type": "markdown",
   "metadata": {},
   "source": [
    "```{=typst}\n",
    "最终的模型为：\n",
    "\n",
    "$\n",
    "  y = 12.4633 + 94.7619 x_3 - 39.0984 x_1 x_3 -1.9003 x_2 x_3 -0.1025 x_2^2\n",
    "$\n",
    "\n",
    "注意此处普通型对应 $x_3=1$，豪华型对应 $x_3=0$。\n",
    "\n",
    "```"
   ]
  }
 ],
 "metadata": {
  "kernelspec": {
   "display_name": ".venv",
   "language": "python",
   "name": "python3"
  },
  "language_info": {
   "codemirror_mode": {
    "name": "ipython",
    "version": 3
   },
   "file_extension": ".py",
   "mimetype": "text/x-python",
   "name": "python",
   "nbconvert_exporter": "python",
   "pygments_lexer": "ipython3",
   "version": "3.12.1"
  }
 },
 "nbformat": 4,
 "nbformat_minor": 2
}
