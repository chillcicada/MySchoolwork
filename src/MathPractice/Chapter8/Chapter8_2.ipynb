{
 "cells": [
  {
   "cell_type": "raw",
   "metadata": {
    "vscode": {
     "languageId": "raw"
    }
   },
   "source": [
    "---\n",
    "title: 'Chapter 8-3'\n",
    "format: typst\n",
    "jupyter: python3\n",
    "---"
   ]
  },
  {
   "cell_type": "markdown",
   "metadata": {},
   "source": [
    "```{=typst}\n",
    "#set text(\n",
    "  font: (\"Times New Roman\", \"LXGW WenKai\"),\n",
    "  size: 11pt,\n",
    ")\n",
    "\n",
    "= 题目\n",
    "\n",
    "#h(2em) 对于报童问题，如果报纸的需求量服从正态分布 $N(mu，sigma^2)$，且批发价为 $a=A(1- n/K)$，其中 $n$ 为购进报纸的数量，$K$ 为一个给定的常数。建立报童为获得最大利润的数学模型。当已知 $mu=2000$，$sigma=50$，$A=0.5$，$K=50000$，$b=0.5$，$c=0.35$ 时，为了获得最大的利润，求解报童每天购进的报纸数量 $n$。\n",
    "\n",
    "= 思路\n",
    "\n",
    "#h(2em) 设每天的报纸需求量为 $x tilde.op N(mu, sigma^2)$，报童每天购进报纸 $n$ 份，购进价为 $a = A (1 - n/k)$\n",
    "\n",
    "#h(2em) 当 $x<n$ 时，报童的利润为 $(b - a) x - (a - c) (n - x)$元；当 $x >= n$时，利润为 $n (b - a)$ 元。而 $r$ 是呈正态分布的，因此将两种情况下将利润与需求概率 $f(x)$ 相乘并求和即得报童每天的平均利润 $V(n)$，即：\n",
    "\n",
    "$\n",
    "  V(n)=sum_(x=0)^(n-1)((b - a) x - (a - c) (n - x)) f(x) + sum_(x=n)^(infinity) n (b - a) f(x)\n",
    "$\n",
    "\n",
    "#h(2em) 此处忽略了 $x < 0$ 的情况，这是根据实际问题所做的忽略，当 $u$ 很大而且 $o$ 很小时，$x < 0$ 时的概率十分接近于 0，可以省略。\n",
    "\n",
    "#h(2em) 另一方面，从上式可见，虽然 $x$ 是离散值，但是由于其值较大，可以将它看做连续随机变量 $x$，因而报童每天的平均利润可以写作：\n",
    "\n",
    "$\n",
    "  V(n)\n",
    "  &= integral_0^n ((b - a) x - (a - c) (n - x)) p(x) dif x + integral_n^(+infinity) n (b - a) p(x) dif x \\\n",
    "  &= integral_0^n ((b - A (1 - n / k)) x - (A (1 - n / k) - c) (n - x)) p(x) dif x + integral_n^(+infinity) n (\n",
    "    b - A (1 - n / k)\n",
    "  ) p(x) dif x \\\n",
    "  &= integral_0^n ((b - c) x - A n (1 - n / K) + c n) p(x) dif x + integral_n^(+infinity) (b n - A n (1 - n / k)) p(\n",
    "    x\n",
    "  ) dif x\n",
    "$\n",
    "\n",
    "#h(2em) 其中\n",
    "\n",
    "$\n",
    "  p(x) = 1 / (sqrt(2 pi) sigma) e^(- (x - mu)^2 / (2 sigma^2))\n",
    "$\n",
    "\n",
    "对 $V(n)$ 求导，令导数为 0，即可得到最优解。\n",
    "\n",
    "$\n",
    "  v^'(n) = (b - c) n - A (1 - n / K) sum_(x=0)^n p(x) + A n sum_(x=n)^(+infinity) f(x) = 0\n",
    "$\n",
    "\n",
    "#h(2em) 下面是代码实现：\n",
    "\n",
    "```\n"
   ]
  },
  {
   "cell_type": "code",
   "execution_count": 1,
   "metadata": {},
   "outputs": [],
   "source": [
    "import numpy as np\n",
    "# import matplotlib.pyplot as plt"
   ]
  },
  {
   "cell_type": "code",
   "execution_count": null,
   "metadata": {},
   "outputs": [],
   "source": [
    "# 导入数据\n",
    "mu = 2e3\n",
    "sigma = 50\n",
    "A = 0.5\n",
    "K = 5e4\n",
    "b = 0.5\n",
    "c = 0.35"
   ]
  },
  {
   "cell_type": "code",
   "execution_count": null,
   "metadata": {},
   "outputs": [],
   "source": [
    "def p(x, mu=mu, sigma=sigma):\n",
    "  return 1 / (sigma * np.sqrt(2 * np.pi)) * np.exp(-0.5 * ((x - mu) / sigma) ** 2)\n",
    "\n",
    "\n",
    "def V(x, A=A, K=K, b=b, c=c):\n",
    "  return A * K / (1 + np.exp(-b * (x - c)))"
   ]
  }
 ],
 "metadata": {
  "kernelspec": {
   "display_name": ".venv",
   "language": "python",
   "name": "python3"
  },
  "language_info": {
   "codemirror_mode": {
    "name": "ipython",
    "version": 3
   },
   "file_extension": ".py",
   "mimetype": "text/x-python",
   "name": "python",
   "nbconvert_exporter": "python",
   "pygments_lexer": "ipython3",
   "version": "3.12.1"
  }
 },
 "nbformat": 4,
 "nbformat_minor": 2
}
