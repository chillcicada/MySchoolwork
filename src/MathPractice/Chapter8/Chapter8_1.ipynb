{
 "cells": [
  {
   "cell_type": "raw",
   "metadata": {
    "vscode": {
     "languageId": "raw"
    }
   },
   "source": [
    "---\n",
    "title: 'Chapter 8-1'\n",
    "format: typst\n",
    "jupyter: python3\n",
    "---"
   ]
  },
  {
   "cell_type": "markdown",
   "metadata": {},
   "source": [
    "```{=typst}\n",
    "#set text(\n",
    "  font: (\"Times New Roman\", \"LXGW WenKai\"),\n",
    "  size: 11pt,\n",
    ")\n",
    "\n",
    "= 题目\n",
    "\n",
    "#h(2em) 与例 6 类似，但炮弹射击的目标为一半径 100m 的圆形区域，弹着点以圆心为中心呈二维正态分布，设在密度函数（31）式中 $sigma_x=80$m 和 $sigma=50$m，相关系数 $r=0.4$。求炮弹命中圆形区域的概率。\n",
    "\n",
    "= 思路\n",
    "\n",
    "#h(2em) 以原点为圆心，有 $mu_x = mu_y = 0$，建立坐标系，则目标区域为：\n",
    "\n",
    "$\n",
    "  Omega = { (x, y) | x^2 + y^2 <= 100^2 }\n",
    "$\n",
    "\n",
    "#h(2em) 炮弹落在任意一点 $(x, y)$ 的概率为：\n",
    "\n",
    "$\n",
    "  rho(x, y) = 1 / (2 pi sigma_x sigma_y sqrt(1 - r^2)) exp(-1 / (2(1 - r^2)) (x^2 / sigma_x^2 - (2r x y) / (sigma_x sigma_y) + y^2 / sigma_y^2))\n",
    "$\n",
    "\n",
    "#h(2em) 使用蒙特卡洛模拟计算落在圆内的概率。\n",
    "\n",
    "#h(2em) 下面是代码实现：\n",
    "```\n"
   ]
  },
  {
   "cell_type": "code",
   "execution_count": null,
   "metadata": {},
   "outputs": [],
   "source": [
    "import numpy as np"
   ]
  },
  {
   "cell_type": "code",
   "execution_count": null,
   "metadata": {},
   "outputs": [],
   "source": [
    "# 导入数据\n",
    "R = 100  # m\n",
    "sigma_x = 80  # m\n",
    "sigma_y = 50  # m\n",
    "r = 0.4  # 相关系数\n",
    "\n",
    "# 计算协方差矩阵\n",
    "cov = np.array([[sigma_x**2, r * sigma_x * sigma_y], [r * sigma_x * sigma_y, sigma_y**2]])"
   ]
  },
  {
   "cell_type": "code",
   "execution_count": null,
   "metadata": {},
   "outputs": [],
   "source": [
    "# 定义相关函数\n",
    "def isInCircle(x, y, R=R):\n",
    "  \"\"\"判断点 (x, y) 是否在半径为 R 的圆内\"\"\"\n",
    "  return x**2 + y**2 <= R**2"
   ]
  },
  {
   "cell_type": "code",
   "execution_count": null,
   "metadata": {},
   "outputs": [],
   "source": [
    "def MC(N=1000):\n",
    "  \"\"\"蒙特卡洛方法计算概率\"\"\"\n",
    "  # 生成 N 个点\n",
    "  points = np.random.multivariate_normal([0, 0], cov, N)\n",
    "  # 判断每个点是否在圆内\n",
    "  isIn = np.array([isInCircle(x, y) for x, y in points])\n",
    "  # 计算概率\n",
    "  return np.sum(isIn) / N\n",
    "\n",
    "\n",
    "def main():\n",
    "  \"\"\"主函数\"\"\"\n",
    "  N = 1000000\n",
    "  arr = []\n",
    "  for i in range(10):\n",
    "    res = MC(N)\n",
    "    arr.append(res)\n",
    "    print(f'The result of the {i + 1:<2}th simulation is {res:.6f}')\n",
    "    pass\n",
    "  print('=============================================')\n",
    "  print(f'The mean of all the simulations is {np.mean(arr):.6f}')\n",
    "  pass\n",
    "\n",
    "\n",
    "main()"
   ]
  },
  {
   "cell_type": "markdown",
   "metadata": {},
   "source": [
    "```{=typst}\n",
    "= 结论\n",
    "\n",
    "#h(2em) 炮弹命中圆形区域的概率约为 0.7。\n",
    "\n",
    "```\n"
   ]
  }
 ],
 "metadata": {
  "kernelspec": {
   "display_name": ".venv",
   "language": "python",
   "name": "python3"
  },
  "language_info": {
   "codemirror_mode": {
    "name": "ipython",
    "version": 3
   },
   "file_extension": ".py",
   "mimetype": "text/x-python",
   "name": "python",
   "nbconvert_exporter": "python",
   "pygments_lexer": "ipython3",
   "version": "3.12.1"
  }
 },
 "nbformat": 4,
 "nbformat_minor": 2
}
