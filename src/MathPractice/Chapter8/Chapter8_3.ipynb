{
 "cells": [
  {
   "cell_type": "raw",
   "metadata": {},
   "source": [
    "---\n",
    "title: 'Chapter 8-2'\n",
    "format: typst\n",
    "jupyter: python3\n",
    "---"
   ]
  },
  {
   "cell_type": "markdown",
   "metadata": {},
   "source": [
    "```{=typst}\n",
    "#set text(\n",
    "  font: (\"Times New Roman\", \"LXGW WenKai\"),\n",
    "  size: 11pt,\n",
    ")\n",
    "\n",
    "= 题目\n",
    "\n",
    "#h(2em) 轧钢有两道工序：粗轧和精轧。粗轧钢坯时由于各种随机因素的影响，得到的钢材的长度呈正态分布，其均值可由轧机调整，而方差是设备精度决定的，不能改变；精轧时将粗轧得到的钢材轧成规定的长度（可以认为没有误差）。如果粗轧后的钢材长度大于规定长度，精轧时要把多出的部分轧掉，造成浪费：如果粗轧后的钢材长度已经小于规定长度，则整根报废，浪费更大。问题是已知钢材规定的长度 $l$ 和粗轧后的钢材长度的均方差 $sigma$，求可以调整的粗轧时钢材长度的均值 $m$，使总的浪费最小。试从以下两种目标函数中选择一个，在 $l=2$m，$sigma=20$cm条件下求均值 $m$：\n",
    "\n",
    "#h(2em) （1）每粗轧一根钢材的浪费最小；\n",
    "\n",
    "#h(2em) （2）每得到一根规定长度钢材的浪费最小。\n",
    "\n",
    "= 思路\n",
    "\n",
    "#h(2em) 由获得的长度 $x tilde.op N(m, sigma^2)$，则浪费为：\n",
    "\n",
    "$\n",
    "  W = (x - l) I_(x > l) + x I_(x < l)\n",
    "$\n",
    "\n",
    "#h(2em) 式中 $I$ 示性函数，从而：\n",
    "\n",
    "$\n",
    "  E(W) = E((x - l) I_(x > l)) + E(x I_(x < l))\n",
    "$\n",
    "\n",
    "#h(2em) 考虑到正太分布尾部概率较小，$x$ 的取值范围近似为 $(-infinity, +infinity)$，则：\n",
    "\n",
    "$\n",
    "  E(W)\n",
    "  &= integral_l^(+infinity) (x - l) f(x) dif x + integral_(-infinity)^l x f(x) dif x \\\n",
    "  &= integral_(-infinity)^(+infinity) x f(x) dif x - l integral_l^(+infinity) f(x) dif x \\\n",
    "  &= m - l (1 - Phi((l - m) / sigma))\n",
    "$\n",
    "\n",
    "#h(2em) 其中 $Phi$ 为标准正态累积分布函数，$m$ 为粗轧时钢材长度的均值。对于问题（1），即求 $E(W)$ 最小值，下面是代码实现：\n",
    "\n",
    "```\n"
   ]
  },
  {
   "cell_type": "code",
   "execution_count": null,
   "metadata": {},
   "outputs": [],
   "source": [
    "import numpy as np\n",
    "import matplotlib.pyplot as plt\n",
    "import scipy.stats as stats\n",
    "import scipy.optimize as opt"
   ]
  },
  {
   "cell_type": "code",
   "execution_count": null,
   "metadata": {},
   "outputs": [],
   "source": [
    "# 导入数据\n",
    "l0 = 2  # m\n",
    "sigma = 0.2  # m"
   ]
  },
  {
   "cell_type": "code",
   "execution_count": null,
   "metadata": {},
   "outputs": [],
   "source": [
    "def E(m, l0=l0, sigma=sigma):\n",
    "  \"\"\"目标函数\"\"\"\n",
    "  return m - l0 * (1 - stats.norm.cdf((l0 - m) / sigma))\n",
    "\n",
    "\n",
    "def main():\n",
    "  \"\"\"主函数\"\"\"\n",
    "  m = opt.fmin(E, l0)\n",
    "  print('The optimal value of m is:', end=' ')\n",
    "  print(*m)\n",
    "  print('The optimal value of E is:', end=' ')\n",
    "  print(E(*m))\n",
    "\n",
    "  # 画图\n",
    "  x = np.linspace(2, 3, 101)\n",
    "  y = E(x)\n",
    "  plt.plot(x, y)\n",
    "  plt.xlabel('m')\n",
    "  plt.ylabel('E')\n",
    "  plt.legend(['E(m)'])\n",
    "  plt.show()\n",
    "  pass\n",
    "\n",
    "\n",
    "main()"
   ]
  },
  {
   "cell_type": "markdown",
   "metadata": {},
   "source": [
    "```{=typst}\n",
    "= 结论\n",
    "\n",
    "对于问题（1），应取 $m=2.33$m。\n",
    "\n",
    "```"
   ]
  }
 ],
 "metadata": {
  "kernelspec": {
   "display_name": ".venv",
   "language": "python",
   "name": "python3"
  },
  "language_info": {
   "codemirror_mode": {
    "name": "ipython",
    "version": 3
   },
   "file_extension": ".py",
   "mimetype": "text/x-python",
   "name": "python",
   "nbconvert_exporter": "python",
   "pygments_lexer": "ipython3",
   "version": "3.12.1"
  }
 },
 "nbformat": 4,
 "nbformat_minor": 2
}
