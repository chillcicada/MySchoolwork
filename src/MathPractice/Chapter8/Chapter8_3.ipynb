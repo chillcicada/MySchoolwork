{
 "cells": [
  {
   "cell_type": "raw",
   "metadata": {},
   "source": [
    "---\n",
    "title: 'Chapter 8-2'\n",
    "format: typst\n",
    "jupyter: python3\n",
    "---"
   ]
  },
  {
   "cell_type": "markdown",
   "metadata": {},
   "source": [
    "```{=typst}\n",
    "#set text(\n",
    "  font: (\"Times New Roman\", \"LXGW WenKai\"),\n",
    "  size: 11pt,\n",
    ")\n",
    "\n",
    "= 题目\n",
    "\n",
    "#h(2em) 轧钢有两道工序：粗轧和精轧。粗轧钢坯时由于各种随机因素的影响，得到的钢材的长度呈正态分布，其均值可由轧机调整，而方差是设备精度决定的，不能改变；精轧时将粗轧得到的钢材轧成规定的长度（可以认为没有误差）。如果粗轧后的钢材长度大于规定长度，精轧时要把多出的部分轧掉，造成浪费：如果粗轧后的钢材长度已经小于规定长度，则整根报废，浪费更大。问题是已知钢材规定的长度 $l$ 和粗轧后的钢材长度的均方差 $sigma$，求可以调整的粗轧时钢材长度的均值 $m$，使总的浪费最小。试从以下两种目标函数中选择一个，在 $l=2$m，$sigma=20$cm条件下求均值 $m$：\n",
    "\n",
    "#h(2em) （1）每粗轧-一根钢材的浪费最小；\n",
    "\n",
    "#h(2em) （2）每得到一根规定长度钢材的浪费最小。\n",
    "\n",
    "= 思路\n",
    "\n",
    "#h(2em) 由获得的长度 $x tilde.op N(m, sigma^2)$，则浪费为：\n",
    "\n",
    "$\n",
    "  W = (x - l) I(x > l) + x I(x < l)\n",
    "$\n",
    "\n",
    "#h(2em) 式中 $I$ 示性函数，从而：\n",
    "\n",
    "$\n",
    "  E(W) = E((x - l) I(x > l)) + E(x I(x < l))\n",
    "$\n",
    "\n",
    "#h(2em) 即求 $E(W)$ 最小值，下面是代码实现：\n",
    "\n",
    "```\n"
   ]
  },
  {
   "cell_type": "code",
   "execution_count": null,
   "metadata": {},
   "outputs": [],
   "source": [
    "import numpy as np"
   ]
  },
  {
   "cell_type": "code",
   "execution_count": null,
   "metadata": {},
   "outputs": [],
   "source": [
    "# 导入数据\n",
    "l0 = 2  # m\n",
    "sigma = 0.2  # m"
   ]
  },
  {
   "cell_type": "code",
   "execution_count": null,
   "metadata": {},
   "outputs": [],
   "source": [
    "def phi(x, mu, sigma=sigma):\n",
    "  return 1 / (sigma * np.sqrt(2 * np.pi)) * np.exp(-0.5 * ((x - mu) / sigma) ** 2)\n",
    "\n",
    "\n",
    "def I1(x, l0=l0) -> int:\n",
    "  \"\"\"示性函数 x > l\"\"\"\n",
    "  return 1 if x > l0 else 0\n",
    "\n",
    "\n",
    "def I2(x, l0=l0) -> int:\n",
    "  \"\"\"示性函数 x < l\"\"\"\n",
    "  return 1 if x < l0 else 0\n",
    "\n",
    "\n",
    "def target(x, l0=l0):\n",
    "  \"\"\"目标密度函数\"\"\"\n",
    "  return I1(x, l0) * (phi(x, l0) - l0) + I2(x, l0) * phi(x, l0)\n",
    "\n",
    "\n",
    "def expectation(l0=l0):\n",
    "  \"\"\"期望\"\"\"\n",
    "  return l0 + sigma**2 * (phi(l0) - l0) / (sigma**2 + 1)"
   ]
  }
 ],
 "metadata": {
  "kernelspec": {
   "display_name": ".venv",
   "language": "python",
   "name": "python3"
  },
  "language_info": {
   "name": "python",
   "version": "3.12.1"
  }
 },
 "nbformat": 4,
 "nbformat_minor": 2
}
