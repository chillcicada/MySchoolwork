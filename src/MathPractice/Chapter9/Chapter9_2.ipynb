{
 "cells": [
  {
   "cell_type": "raw",
   "metadata": {
    "vscode": {
     "languageId": "raw"
    }
   },
   "source": [
    "---\n",
    "title: 'Chapter 9-2'\n",
    "format: typst\n",
    "jupyter: python3\n",
    "---"
   ]
  },
  {
   "cell_type": "markdown",
   "metadata": {},
   "source": [
    "```{=typst}\n",
    "#set text(\n",
    "  font: (\"Times New Roman\", \"LXGW WenKai\"),\n",
    "  size: 11pt,\n",
    ")\n",
    "\n",
    "= 题目\n",
    "\n",
    "#h(2em) 学校随机抽取 100 名学生，测量他们的身高和体重，所得数据见表 12.6。\n",
    "\n",
    "#image(\"Chapter9_2_1.png\")\n",
    "\n",
    "#h(2em) （1）对这些数据给出直观的图形指述，检验分布的正态性；\n",
    "\n",
    "#h(2em) （2）根据这些数据对全校学生的平均身高和体重做出估计，并给出估计的误差范围；\n",
    "\n",
    "#h(2em) （3）学校 10 年前作过普查，学生的平均身高为 167.5cm，平均体重为 60.2kg，根据这次抽查的数据，对学生的平均身高和体重有无明显变化做出结论。\n",
    "\n",
    "= 思路\n",
    "\n",
    "#h(2em) 调用 `scipy.stats` 求解。\n",
    "\n",
    "#h(2em) 下面是代码实现：\n",
    "```\n"
   ]
  },
  {
   "cell_type": "code",
   "execution_count": null,
   "metadata": {},
   "outputs": [],
   "source": [
    "import numpy as np\n",
    "from scipy import stats\n",
    "import matplotlib.pyplot as plt"
   ]
  },
  {
   "cell_type": "code",
   "execution_count": null,
   "metadata": {},
   "outputs": [],
   "source": [
    "# 导入数据\n",
    "data = np.loadtxt('Chapter9_2_1.csv', delimiter=',', skiprows=1)\n",
    "\n",
    "height = data[:, 0]\n",
    "weight = data[:, 1]\n",
    "\n",
    "# 数据可视化\n",
    "plt.hist(height, bins=20)\n",
    "plt.xlabel('Height')\n",
    "plt.ylabel('Frequency')\n",
    "plt.show()\n",
    "\n",
    "plt.hist(weight, bins=20)\n",
    "plt.xlabel('Weight')\n",
    "plt.ylabel('Frequency')\n",
    "plt.show()\n",
    "\n",
    "plt.scatter(height, weight)\n",
    "plt.xlabel('Height')\n",
    "plt.ylabel('Weight')\n",
    "plt.show()"
   ]
  },
  {
   "cell_type": "code",
   "execution_count": null,
   "metadata": {},
   "outputs": [],
   "source": [
    "# 检验数据是否符合正态分布\n",
    "height_norm = stats.shapiro(height)\n",
    "weight_norm = stats.shapiro(weight)\n",
    "print('Height:', height_norm)\n",
    "print('Weight:', weight_norm)"
   ]
  },
  {
   "cell_type": "markdown",
   "metadata": {},
   "source": [
    "二者 p 值均大于 0.05，故可认为两组数据均服从正态分布。"
   ]
  },
  {
   "cell_type": "code",
   "execution_count": null,
   "metadata": {},
   "outputs": [],
   "source": [
    "height_mean = np.mean(height)\n",
    "height_std = np.std(height)\n",
    "height_median = np.median(height)\n",
    "height_mode = stats.mode(height)\n",
    "\n",
    "weight_mean = np.mean(weight)\n",
    "weight_std = np.std(weight)\n",
    "weight_median = np.median(weight)\n",
    "weight_mode = stats.mode(weight)\n",
    "\n",
    "print('Height Mean:', height_mean)\n",
    "print('Height Std:', height_std)\n",
    "print('Height Median:', height_median)\n",
    "print('Height Mode:', height_mode)\n",
    "\n",
    "print('Weight Mean:', weight_mean)\n",
    "print('Weight Std:', weight_std)\n",
    "print('Weight Median:', weight_median)\n",
    "print('Weight Mode:', weight_mode)"
   ]
  },
  {
   "cell_type": "code",
   "execution_count": null,
   "metadata": {},
   "outputs": [],
   "source": [
    "height_ci = stats.norm.interval(0.95, loc=height_mean, scale=height_std)\n",
    "weight_ci = stats.norm.interval(0.95, loc=weight_mean, scale=weight_std)\n",
    "\n",
    "print('Height CI:', height_ci)\n",
    "print('Weight CI:', weight_ci)"
   ]
  },
  {
   "cell_type": "code",
   "execution_count": null,
   "metadata": {},
   "outputs": [],
   "source": [
    "height_target = 167.5\n",
    "weight_target = 60.2\n",
    "\n",
    "th, ph = stats.ttest_1samp(height, height_target)\n",
    "tw, pw = stats.ttest_1samp(weight, weight_target)\n",
    "\n",
    "print('Height T-Test:', th, ph)\n",
    "print('Weight T-Test:', tw, pw)"
   ]
  },
  {
   "cell_type": "markdown",
   "metadata": {},
   "source": [
    "```{=typst}\n",
    "$\n",
    "\"ph\" = 1.89 times 10^(-6) approx 0 \\\n",
    "\"pw\" = 0.1 > 0.05\n",
    "$\n",
    "\n",
    "#h(2em) 相比之下，身高有明显变化，体重没有明显变化\n",
    "```\n"
   ]
  }
 ],
 "metadata": {
  "kernelspec": {
   "display_name": ".venv",
   "language": "python",
   "name": "python3"
  },
  "language_info": {
   "codemirror_mode": {
    "name": "ipython",
    "version": 3
   },
   "file_extension": ".py",
   "mimetype": "text/x-python",
   "name": "python",
   "nbconvert_exporter": "python",
   "pygments_lexer": "ipython3",
   "version": "3.12.1"
  }
 },
 "nbformat": 4,
 "nbformat_minor": 2
}
