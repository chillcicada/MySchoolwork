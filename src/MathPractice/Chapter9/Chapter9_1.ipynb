{
 "cells": [
  {
   "cell_type": "raw",
   "metadata": {
    "vscode": {
     "languageId": "raw"
    }
   },
   "source": [
    "---\n",
    "title: 'Chapter 9-1'\n",
    "format: typst\n",
    "jupyter: python3\n",
    "---"
   ]
  },
  {
   "cell_type": "markdown",
   "metadata": {},
   "source": [
    "```{=typst}\n",
    "#set text(\n",
    "  font: (\"Times New Roman\", \"LXGW WenKai\"),\n",
    "  size: 11pt,\n",
    ")\n",
    "\n",
    "= 题目\n",
    "\n",
    "#h(2em) 据说某地汽油的价格是 115 美分/gal，为了验证这种说法，一位司机开车随机选择了一些加油站，得到某年 1 月和 2 月的数据如下：\n",
    "\n",
    "1 月 119 117 115 116 112 121 115 122 116 118 109 112 119 112 117 113 114 109 109 118\n",
    "\n",
    "2 月 118 119 115 122 118 121 120 122 128 116 120 123 121 119 117 119 128 126 118 125\n",
    "\n",
    "#h(2em) （1）分别用两个月的数据验证这种说法的可靠性；\n",
    "\n",
    "#h(2em) （2）分别给出1月和2月汽油价格的置信区间（$a=0.05$）；\n",
    "\n",
    "#h(2em) （3）如何给出1月和2月汽油价格差的置信区间（$a=0.05$）。\n",
    "\n",
    "= 思路\n",
    "\n",
    "#h(2em) 本题是关于均值的假设检验和置信区间的问题。对于两个总体均值的差的置信区间，可以使用两个总体均值的差的置信区间的方法。\n",
    "\n",
    "#h(2em) 下面是代码实现：\n",
    "```\n"
   ]
  },
  {
   "cell_type": "code",
   "execution_count": null,
   "metadata": {},
   "outputs": [],
   "source": [
    "import numpy as np\n",
    "from scipy import stats\n",
    "import matplotlib.pyplot as plt"
   ]
  },
  {
   "cell_type": "code",
   "execution_count": null,
   "metadata": {},
   "outputs": [],
   "source": [
    "# 导入数据\n",
    "N = 20\n",
    "target = 115\n",
    "x1 = np.array([119, 117, 115, 116, 112, 121, 115, 122, 116, 118, 109, 112, 119, 112, 117, 113, 114, 109, 109, 118])\n",
    "x2 = np.array([118, 119, 115, 122, 118, 121, 120, 122, 128, 116, 120, 123, 121, 119, 117, 119, 128, 126, 118, 125])\n",
    "\n",
    "# 数据可视化\n",
    "plt.hist(x1, bins=10, alpha=0.5, label='x1')\n",
    "plt.hist(x2, bins=10, alpha=0.5, label='x2')\n",
    "plt.legend(loc='upper right')\n",
    "plt.show()\n",
    "\n",
    "# 数据预处理\n",
    "df = N - 1\n",
    "x1_mean = np.mean(x1)\n",
    "x2_mean = np.mean(x2)\n",
    "x1_std = np.std(x1)\n",
    "x2_std = np.std(x2)"
   ]
  },
  {
   "cell_type": "code",
   "execution_count": null,
   "metadata": {},
   "outputs": [],
   "source": [
    "# 检验\n",
    "t1, p1 = stats.ttest_1samp(x1, target)\n",
    "print('t1: ', t1)\n",
    "print('p1: ', p1)\n",
    "\n",
    "t2, p2 = stats.ttest_1samp(x2, target)\n",
    "print('t2: ', t2)\n",
    "print('p2: ', p2)"
   ]
  },
  {
   "cell_type": "markdown",
   "metadata": {},
   "source": [
    "```{=typst}\n",
    "$\n",
    "\"p1\" = 0.86 approx 1 \\\n",
    "\"p2\" = 1.32 times 10^(-6) approx 0\n",
    "$\n",
    "\n",
    "根据一月的数据判断，这一说法可靠；根据二月的数据判断，这种说法不可靠。\n",
    "```"
   ]
  },
  {
   "cell_type": "code",
   "execution_count": null,
   "metadata": {},
   "outputs": [],
   "source": [
    "alpha = 0.05\n",
    "\n",
    "ci1 = stats.t.interval(1 - alpha, df, x1_mean, stats.sem(x1))\n",
    "print('ci1: ', ci1)\n",
    "\n",
    "ci2 = stats.t.interval(1 - alpha, df, x2_mean, stats.sem(x2))\n",
    "print('ci2: ', ci2)"
   ]
  },
  {
   "cell_type": "markdown",
   "metadata": {},
   "source": [
    "一月汽油价格的置信区间为: (113.33881957294425, 116.96118042705577)\n",
    "\n",
    "二月汽油价格的置信区间为: (119.01289621559044, 122.48710378440956)"
   ]
  },
  {
   "cell_type": "code",
   "execution_count": null,
   "metadata": {},
   "outputs": [],
   "source": [
    "dfn = 2 * (N - 1)\n",
    "\n",
    "tc, pc = stats.ttest_ind(x1, x2)\n",
    "print('tc: ', tc)\n",
    "print('pc: ', pc)\n",
    "\n",
    "cic = stats.t.interval(1 - alpha, dfn, x1_mean - x2_mean, np.sqrt((x1_std**2 + x2_std**2) / N))\n",
    "print('cic: ', cic)"
   ]
  },
  {
   "cell_type": "markdown",
   "metadata": {},
   "source": [
    "一月和二月汽油价格差的置信区间为: (-7.965814456260355, -3.234185543739634)"
   ]
  }
 ],
 "metadata": {
  "kernelspec": {
   "display_name": ".venv",
   "language": "python",
   "name": "python3"
  },
  "language_info": {
   "codemirror_mode": {
    "name": "ipython",
    "version": 3
   },
   "file_extension": ".py",
   "mimetype": "text/x-python",
   "name": "python",
   "nbconvert_exporter": "python",
   "pygments_lexer": "ipython3",
   "version": "3.12.1"
  }
 },
 "nbformat": 4,
 "nbformat_minor": 2
}
