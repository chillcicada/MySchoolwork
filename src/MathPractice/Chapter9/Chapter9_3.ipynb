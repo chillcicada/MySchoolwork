{
 "cells": [
  {
   "cell_type": "raw",
   "metadata": {},
   "source": [
    "---\n",
    "title: 'Chapter 9-3'\n",
    "format: typst\n",
    "jupyter: python3\n",
    "---"
   ]
  },
  {
   "cell_type": "markdown",
   "metadata": {},
   "source": [
    "```{=typst}\n",
    "#set text(\n",
    "  font: (\"Times New Roman\", \"LXGW WenKai\"),\n",
    "  size: 11pt,\n",
    ")\n",
    "\n",
    "= 题目\n",
    "\n",
    "#h(2em) 研究胃溃疡的病理医院作了两组人胃液成分的试验，患胃溃疡的病人组与无胃溃疡的对照组各取 30 人，胃液中溶菌酶含量见表 12.7（溶菌酶是一种能破坏某些细菌的细胞壁的酶）。\n",
    "\n",
    "#image(\"Chapter9_3_1.png\")\n",
    "\n",
    "#h(2em) （1）根据这些数据判断患胃溃疡病人的溶菌酶含量与“正常人”有无显著差别；\n",
    "\n",
    "#h(2em) （2）若表12.7患胃溃疡病人组的最后5个数据有误，去掉后再作判断。\n",
    "\n",
    "= 思路\n",
    "\n",
    "#h(2em) 进行两样本 t 检验即可。\n",
    "\n",
    "#h(2em) 下面是代码实现：\n",
    "```"
   ]
  },
  {
   "cell_type": "code",
   "execution_count": null,
   "metadata": {},
   "outputs": [],
   "source": [
    "import numpy as np\n",
    "from scipy import stats\n",
    "import matplotlib.pyplot as plt"
   ]
  },
  {
   "cell_type": "code",
   "execution_count": null,
   "metadata": {},
   "outputs": [],
   "source": [
    "# 导入数据\n",
    "N = 30\n",
    "\n",
    "x1 = np.array(\n",
    "  [\n",
    "    0.2,\n",
    "    10.4,\n",
    "    0.3,\n",
    "    0.4,\n",
    "    10.9,\n",
    "    11.3,\n",
    "    1.1,\n",
    "    2.0,\n",
    "    12.4,\n",
    "    16.2,\n",
    "    2.1,\n",
    "    17.6,\n",
    "    18.9,\n",
    "    3.3,\n",
    "    3.8,\n",
    "    20.7,\n",
    "    4.5,\n",
    "    4.8,\n",
    "    24.0,\n",
    "    25.4,\n",
    "    4.9,\n",
    "    40.0,\n",
    "    5.0,\n",
    "    42.2,\n",
    "    5.3,\n",
    "    50.0,\n",
    "    60.0,\n",
    "    7.5,\n",
    "    9.8,\n",
    "    45.0,\n",
    "  ]\n",
    ")\n",
    "\n",
    "x2 = np.array(\n",
    "  [\n",
    "    0.2,\n",
    "    5.4,\n",
    "    0.3,\n",
    "    5.7,\n",
    "    0.4,\n",
    "    5.8,\n",
    "    0.7,\n",
    "    7.5,\n",
    "    1.2,\n",
    "    8.7,\n",
    "    1.5,\n",
    "    8.8,\n",
    "    1.5,\n",
    "    9.1,\n",
    "    1.9,\n",
    "    10.3,\n",
    "    2.0,\n",
    "    15.6,\n",
    "    2.4,\n",
    "    16.1,\n",
    "    2.5,\n",
    "    16.5,\n",
    "    2.8,\n",
    "    16.7,\n",
    "    3.6,\n",
    "    20.0,\n",
    "    4.8,\n",
    "    20.7,\n",
    "    4.8,\n",
    "    33.0,\n",
    "  ]\n",
    ")\n",
    "\n",
    "# 数据可视化\n",
    "plt.hist(x1, bins=10, alpha=0.5, label='x1')\n",
    "plt.hist(x2, bins=10, alpha=0.5, label='x2')\n",
    "plt.legend(loc='upper right')\n",
    "plt.show()"
   ]
  },
  {
   "cell_type": "code",
   "execution_count": null,
   "metadata": {},
   "outputs": [],
   "source": [
    "alpha = 0.05\n",
    "\n",
    "t1, p1 = stats.ttest_ind(x1, x2)\n",
    "\n",
    "df1 = 2 * N - 2\n",
    "\n",
    "ci1 = stats.t.interval(1 - alpha, df1, loc=np.mean(x1) - np.mean(x2), scale=stats.sem(x1 - x2))\n",
    "\n",
    "print('t:', t1)\n",
    "print('p:', p1)\n",
    "print('ci:', ci1)"
   ]
  },
  {
   "cell_type": "markdown",
   "metadata": {},
   "source": [
    "p = 0.025 < 0.05, 可认为有显著差别"
   ]
  },
  {
   "cell_type": "code",
   "execution_count": null,
   "metadata": {},
   "outputs": [],
   "source": [
    "x1n = x1[:25]\n",
    "x2n = x2[:]\n",
    "\n",
    "x1n_mean = np.mean(x1n)\n",
    "x2n_mean = np.mean(x2n)\n",
    "x1n_std = np.std(x1n)\n",
    "x2n_std = np.std(x2n)\n",
    "\n",
    "# 数据可视化\n",
    "plt.hist(x1n, bins=10, alpha=0.5, label='x1n')\n",
    "plt.hist(x2n, bins=10, alpha=0.5, label='x2n')\n",
    "plt.legend(loc='upper right')\n",
    "plt.show()\n",
    "\n",
    "t2, p2 = stats.ttest_ind(x1n, x2n)\n",
    "\n",
    "df2 = len(x1n) + len(x2n) - 2\n",
    "\n",
    "ci2 = stats.t.interval(\n",
    "  1 - alpha, df2, loc=np.mean(x1n) - np.mean(x2n), scale=x1n_std / np.sqrt(len(x1n)) + x2n_std / np.sqrt(len(x2n))\n",
    ")\n",
    "\n",
    "print('t:', t2)\n",
    "print('p:', p2)\n",
    "print('ci:', ci2)"
   ]
  },
  {
   "cell_type": "markdown",
   "metadata": {},
   "source": [
    "p = 0.156 > 0.05, 可认为无显著差别"
   ]
  }
 ],
 "metadata": {
  "kernelspec": {
   "display_name": ".venv",
   "language": "python",
   "name": "python3"
  },
  "language_info": {
   "codemirror_mode": {
    "name": "ipython",
    "version": 3
   },
   "file_extension": ".py",
   "mimetype": "text/x-python",
   "name": "python",
   "nbconvert_exporter": "python",
   "pygments_lexer": "ipython3",
   "version": "3.12.1"
  }
 },
 "nbformat": 4,
 "nbformat_minor": 2
}
