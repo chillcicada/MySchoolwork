{
 "cells": [
  {
   "cell_type": "raw",
   "metadata": {
    "vscode": {
     "languageId": "raw"
    }
   },
   "source": [
    "---\n",
    "title: 'Chapter 6-1'\n",
    "format: typst\n",
    "jupyter: python3\n",
    "---"
   ]
  },
  {
   "cell_type": "markdown",
   "metadata": {},
   "source": [
    "```{=typst}\n",
    "#set text(\n",
    "  font: (\"Times New Roman\", \"LXGW WenKai\"),\n",
    "  size: 11pt,\n",
    ")\n",
    "\n",
    "#image(\"Chapter6_1_1.jpg\")\n",
    "\n",
    "```\n"
   ]
  },
  {
   "cell_type": "code",
   "execution_count": null,
   "metadata": {},
   "outputs": [],
   "source": [
    "import numpy as np\n",
    "import scipy.optimize as opt"
   ]
  },
  {
   "cell_type": "code",
   "execution_count": null,
   "metadata": {},
   "outputs": [],
   "source": [
    "# 导入数据\n",
    "C0 = 0.8  # mg/L 上游污水浓度\n",
    "C11 = 100  # mg/L 工厂 1 的排放浓度\n",
    "C21 = 60  # mg/L 工厂 2 的排放浓度\n",
    "C31 = 50  # mg/L 工厂 3 的排放浓度\n",
    "V0 = 1000  # 10^12 L/min 上游水流量\n",
    "V = 5  # 10^12 L/min 工厂的排放流量\n",
    "b = 1  # 万元/((10^12 L/min) * (mg/L)) 处理系数\n",
    "a12 = 0.9  # 工厂 1 和工厂 2 之间的自净系数\n",
    "a23 = 0.6  # 工厂 2 和工厂 3 之间的自净系数"
   ]
  },
  {
   "cell_type": "code",
   "execution_count": null,
   "metadata": {},
   "outputs": [],
   "source": [
    "Cn1 = np.array([C11, C21, C31])\n",
    "\n",
    "\n",
    "def Cn(Cn2):\n",
    "  if Cn2.size != 3:\n",
    "    raise ValueError('Cn2 must be a 3-element array')\n",
    "\n",
    "  C12, C22, C32 = Cn2\n",
    "\n",
    "  C1 = (V0 * C0 + V * C12) / (V0 + V)\n",
    "  C2 = ((V0 + V) * C1 * a12 + V * C22) / (V0 + V * 2)\n",
    "  C3 = ((V0 + V * 2) * C2 * a23 + V * C32) / (V0 + V * 3)\n",
    "\n",
    "  return np.array([C1, C2, C3])\n",
    "\n",
    "\n",
    "def Z(Cn2):\n",
    "  if Cn2.size != 3:\n",
    "    raise ValueError('Cn2 must be a 3-element array')\n",
    "\n",
    "  return -V * b * (sum(Cn2) - C11 - C21 - C31)\n",
    "\n",
    "\n",
    "nlc0 = opt.NonlinearConstraint(lambda X: X, np.zeros(3), Cn1)\n",
    "nlc1 = opt.NonlinearConstraint(Cn, np.zeros(3), np.ones(3))\n",
    "nlc2 = opt.NonlinearConstraint(Z, 0, np.inf)\n",
    "\n",
    "result = opt.minimize(Z, Cn1, constraints=[nlc0, nlc1, nlc2])\n",
    "\n",
    "\n",
    "_1X = result.x\n",
    "print(f'最优解为：{_1X}')\n",
    "print(f'最优值为：{result.fun}')"
   ]
  },
  {
   "cell_type": "markdown",
   "metadata": {},
   "source": [
    "此时最少花费 489.5 万元。\n"
   ]
  },
  {
   "cell_type": "code",
   "execution_count": null,
   "metadata": {},
   "outputs": [],
   "source": [
    "def Cp(Cn2):\n",
    "  C1, C2 = Cn(Cn2)[0:2]\n",
    "  return np.array([C0, C1 * a12, C2 * a23])\n",
    "\n",
    "\n",
    "nlc3 = opt.NonlinearConstraint(Cp, np.zeros(3), np.ones(3))\n",
    "\n",
    "result = opt.minimize(Z, Cn1, constraints=[nlc0, nlc2, nlc3])\n",
    "\n",
    "_2X = result.x\n",
    "print(f'最优解为：{_2X}')\n",
    "print(f'最优值为：{result.fun}')"
   ]
  },
  {
   "cell_type": "markdown",
   "metadata": {},
   "source": [
    "此时最少花费 183.3 万元。\n"
   ]
  }
 ],
 "metadata": {
  "kernelspec": {
   "display_name": ".venv",
   "language": "python",
   "name": "python3"
  },
  "language_info": {
   "codemirror_mode": {
    "name": "ipython",
    "version": 3
   },
   "file_extension": ".py",
   "mimetype": "text/x-python",
   "name": "python",
   "nbconvert_exporter": "python",
   "pygments_lexer": "ipython3",
   "version": "3.12.1"
  }
 },
 "nbformat": 4,
 "nbformat_minor": 2
}
