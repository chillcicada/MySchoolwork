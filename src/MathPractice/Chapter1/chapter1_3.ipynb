{
 "cells": [
  {
   "cell_type": "markdown",
   "id": "a08e592a10d521c1",
   "metadata": {
    "collapsed": false
   },
   "source": [
    "# setup\n",
    "\n",
    "> the `export as pdf` feature of the jupyter doesn't support chinese characters, so I have to use english to write the markdown.\n",
    "\n",
    "Please refer to the `README.md` for the chinese version of the document and make sense of the setup."
   ]
  },
  {
   "cell_type": "code",
   "execution_count": null,
   "id": "initial_id",
   "metadata": {
    "collapsed": true,
    "jupyter": {
     "outputs_hidden": true
    }
   },
   "outputs": [],
   "source": [
    "import numpy as np\n",
    "import matplotlib.pyplot as plt\n",
    "from scipy import interpolate as itp, integrate as itg"
   ]
  },
  {
   "cell_type": "code",
   "execution_count": null,
   "id": "3566ae1b82425328",
   "metadata": {
    "collapsed": false
   },
   "outputs": [],
   "source": [
    "# import data\n",
    "X_origin = np.array([0, 2, 4, 5, 6, 7, 8, 9, 10.5, 11.5, 12.5, 14, 16, 17, 18, 19, 20, 21, 22, 23, 24])\n",
    "y = np.array([2, 2, 0, 2, 5, 8, 25, 12, 5, 10, 12, 7, 9, 28, 22, 10, 9, 11, 8, 9, 3])"
   ]
  },
  {
   "cell_type": "code",
   "execution_count": null,
   "id": "a2577e4e793151a8",
   "metadata": {
    "collapsed": false
   },
   "outputs": [],
   "source": [
    "# interpolate and plot\n",
    "f = itp.interp1d(X_origin, y, kind='cubic')\n",
    "\n",
    "X = np.linspace(0, 24, 3601)  # aliquot the interval to 3600 parts\n",
    "plt.plot(X, f(X), label='cubic')"
   ]
  },
  {
   "cell_type": "code",
   "execution_count": null,
   "id": "6b26c897886c7d4",
   "metadata": {
    "collapsed": false
   },
   "outputs": [],
   "source": [
    "area, deviation = itg.quad(f, 0, 24)[:2]\n",
    "\n",
    "print(f'The area is: {area:.2f}, and the deviation is: {deviation:.2e}')"
   ]
  },
  {
   "cell_type": "markdown",
   "id": "9644442b13571f3e",
   "metadata": {
    "collapsed": false
   },
   "source": [
    "# result\n",
    "\n",
    "The traffic passing through the bridge in one day is about 211 vehicles with a deviation of 2.89e-6."
   ]
  }
 ],
 "metadata": {
  "kernelspec": {
   "display_name": "Python 3 (ipykernel)",
   "language": "python",
   "name": "python3"
  },
  "language_info": {
   "codemirror_mode": {
    "name": "ipython",
    "version": 3
   },
   "file_extension": ".py",
   "mimetype": "text/x-python",
   "name": "python",
   "nbconvert_exporter": "python",
   "pygments_lexer": "ipython3",
   "version": "3.12.1"
  }
 },
 "nbformat": 4,
 "nbformat_minor": 5
}
