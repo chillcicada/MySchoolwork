{
 "cells": [
  {
   "cell_type": "markdown",
   "id": "62f545705e2fc7f3",
   "metadata": {
    "collapsed": false
   },
   "source": [
    "# setup\n",
    "\n",
    "> the `export as pdf` feature of the jupyter doesn't support chinese characters, so I have to use english to write the markdown.\n",
    "\n",
    "Please refer to the `README.md` for the chinese version of the document and make sense of the setup."
   ]
  },
  {
   "cell_type": "code",
   "execution_count": null,
   "id": "initial_id",
   "metadata": {
    "collapsed": true,
    "jupyter": {
     "outputs_hidden": true
    }
   },
   "outputs": [],
   "source": [
    "import numpy as np\n",
    "import matplotlib.pyplot as plt\n",
    "from scipy import interpolate as itp, integrate as itg"
   ]
  },
  {
   "cell_type": "code",
   "execution_count": null,
   "id": "5e19e7a440d3d24",
   "metadata": {
    "collapsed": false
   },
   "outputs": [],
   "source": [
    "# import data\n",
    "X_origin = np.array([0.0, 3.0, 5.0, 7.0, 9.0, 11.0, 12.0, 13.0, 14.0, 15.0])\n",
    "y_1 = np.array([0.0, 1.8, 2.2, 2.7, 3.0, 3.1, 2.9, 2.5, 2.0, 1.6])\n",
    "y_2 = np.array([0.0, 1.2, 1.7, 2.0, 2.1, 2.0, 1.8, 1.2, 1.0, 1.6])"
   ]
  },
  {
   "cell_type": "code",
   "execution_count": null,
   "id": "27c0c88fb82c1734",
   "metadata": {
    "collapsed": false
   },
   "outputs": [],
   "source": [
    "# interpolate and plot\n",
    "f_1 = itp.interp1d(X_origin, y_1, kind='cubic')\n",
    "f_2 = itp.interp1d(X_origin, y_2, kind='cubic')\n",
    "\n",
    "X = np.linspace(0, 15, 151)  # aliquot the interval into 150 parts\n",
    "\n",
    "plt.plot(X, f_1(X), label='f')\n",
    "plt.plot(X, f_2(X), label='g')"
   ]
  },
  {
   "cell_type": "code",
   "execution_count": null,
   "id": "49f09ea2c6920218",
   "metadata": {
    "collapsed": false
   },
   "outputs": [],
   "source": [
    "area, deviation = itg.quad(lambda x: f_1(x) - f_2(x), 0, 15)[:2]\n",
    "\n",
    "print(f'The area is: {area:.2f}, the deviation is: {deviation:.2e}')"
   ]
  },
  {
   "cell_type": "markdown",
   "id": "3209331591055f9e",
   "metadata": {
    "collapsed": false
   },
   "source": [
    "# result\n",
    "\n",
    "The area of the wing profile is 11.35, and the deviation is 1.00e-7."
   ]
  }
 ],
 "metadata": {
  "kernelspec": {
   "display_name": "Python 3 (ipykernel)",
   "language": "python",
   "name": "python3"
  },
  "language_info": {
   "codemirror_mode": {
    "name": "ipython",
    "version": 3
   },
   "file_extension": ".py",
   "mimetype": "text/x-python",
   "name": "python",
   "nbconvert_exporter": "python",
   "pygments_lexer": "ipython3",
   "version": "3.12.1"
  }
 },
 "nbformat": 4,
 "nbformat_minor": 5
}
