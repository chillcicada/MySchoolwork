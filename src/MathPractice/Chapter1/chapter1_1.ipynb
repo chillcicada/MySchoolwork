{
 "cells": [
  {
   "cell_type": "markdown",
   "id": "a0d73871e5827082",
   "metadata": {
    "collapsed": false
   },
   "source": [
    "# setup\n",
    "\n",
    "> the `export as pdf` feature of the jupyter doesn't support chinese characters, so I have to use english to write the markdown.\n",
    "\n",
    "Please refer to the `README.md` for the chinese version of the document and make sense of the setup."
   ]
  },
  {
   "cell_type": "code",
   "execution_count": null,
   "id": "initial_id",
   "metadata": {
    "collapsed": true,
    "jupyter": {
     "outputs_hidden": true
    }
   },
   "outputs": [],
   "source": [
    "from math import sqrt\n",
    "import numpy as np\n",
    "from scipy import interpolate as itp\n",
    "from utils.itp import lagrange as lag  # lagrange interpolation is implemented in the `utils` package"
   ]
  },
  {
   "cell_type": "code",
   "execution_count": null,
   "id": "b64465d2c2aa4173",
   "metadata": {
    "collapsed": false
   },
   "outputs": [],
   "source": [
    "# define the exact function\n",
    "def func_y(x: float) -> float:\n",
    "  return sqrt(x)\n",
    "\n",
    "\n",
    "# generate the sample points, use list for easy to split\n",
    "lt_X = [0.0, 1.0, 4.0, 9.0, 16.0]\n",
    "lt_y = [func_y(x) for x in lt_X]\n",
    "\n",
    "# The data below four points are meaningless for the interpolation\n",
    "# For the deviation is too large for the exact value\n",
    "# So i won't handle them in the following process\n",
    "\n",
    "lts_X = [lt_X, lt_X[1:], lt_X[:1] + lt_X[2:], lt_X[:2] + lt_X[3:], lt_X[:3] + lt_X[4:], lt_X[:4]]\n",
    "\n",
    "lts_y = [lt_y, lt_y[1:], lt_y[:1] + lt_y[2:], lt_y[:2] + lt_y[3:], lt_y[:3] + lt_y[4:], lt_y[:4]]\n",
    "\n",
    "# turn the list into numpy array\n",
    "X_origins = [np.array(lt) for lt in lts_X]\n",
    "y_origins = [np.array(lt) for lt in lts_y]\n",
    "\n",
    "# generate the target point\n",
    "X_test = np.array([5.0])\n",
    "y_exact = np.array([func_y(5.0)])\n",
    "print(f'The exact value of y at x = 5 is {y_exact[0]}')\n",
    "\n",
    "\n",
    "# define the deviation function\n",
    "def deviation(_y1: np.ndarray, _y2: np.ndarray) -> np.ndarray:\n",
    "  return np.abs(_y1 - _y2)"
   ]
  },
  {
   "cell_type": "code",
   "execution_count": null,
   "id": "d8dd33255670f897",
   "metadata": {
    "collapsed": false
   },
   "outputs": [],
   "source": [
    "# lagrange interpolation, which returns an value\n",
    "for X_origin, y_origin in zip(X_origins, y_origins):\n",
    "  y_lag = lag(X_origin, y_origin, X_test)\n",
    "  y_lag_dev = deviation(y_lag, y_exact)  # type: ignore\n",
    "  print(f'{y_lag[0]:.4f}, {y_lag_dev[0]:.4f}')  # type: ignore"
   ]
  },
  {
   "cell_type": "code",
   "execution_count": null,
   "id": "d9cbbec9051561bc",
   "metadata": {
    "collapsed": false
   },
   "outputs": [],
   "source": [
    "# cubic spline interpolation, which returns a function\n",
    "for X_origin, y_origin in zip(X_origins, y_origins):\n",
    "  f_spline = itp.interp1d(X_origin, y_origin, kind='cubic')\n",
    "  y_spline = f_spline(X_test)\n",
    "  y_spline_dev = deviation(y_spline, y_exact)\n",
    "  print(f'{y_spline[0]:.4f}, {y_spline_dev[0]:.4f}')"
   ]
  },
  {
   "cell_type": "code",
   "execution_count": null,
   "id": "5fc3c65ef824036a",
   "metadata": {
    "collapsed": false
   },
   "outputs": [],
   "source": [
    "# segmented linear interpolation, which returns a function\n",
    "for X_origin, y_origin in zip(X_origins, y_origins):\n",
    "  f_linear = itp.interp1d(X_origin, y_origin, kind='linear')\n",
    "  y_linear = f_linear(X_test)\n",
    "  y_linear_dev = deviation(y_linear, y_exact)\n",
    "  print(f'{y_linear[0]:.4f}, {y_linear_dev[0]:.4f}')"
   ]
  },
  {
   "cell_type": "markdown",
   "id": "faa1f29e1e029486",
   "metadata": {
    "collapsed": false
   },
   "source": [
    "# result\n",
    "\n",
    "|      method      |   sample    | deviation |\n",
    "|:----------------:|:-----------:|:---------:|\n",
    "|     lagrange     | no excluded |  0.1567   |\n",
    "|     lagrange     | exclude P1  |  0.0179   |\n",
    "|     lagrange     | exclude P2  |  0.0616   |\n",
    "|     lagrange     | exclude P3  |  0.7163   |\n",
    "|     lagrange     | exclude P4  |  0.3750   |\n",
    "|     lagrange     | exclude P5  |  0.2361   |\n",
    "|                  |             |           |\n",
    "|   cubic spline   | no excluded |  0.0728   |\n",
    "|   cubic spline   | exclude P1  |  0.0179   |\n",
    "|   cubic spline   | exclude P2  |  0.0616   |\n",
    "|   cubic spline   | exclude P3  |  0.7163   |\n",
    "|   cubic spline   | exclude P4  |  0.3750   |\n",
    "|   cubic spline   | exclude P5  |  0.2361   |\n",
    "|                  |             |           |\n",
    "| segmented linear | no excluded |  0.0361   |\n",
    "| segmented linear | exclude P1  |  0.0361   |\n",
    "| segmented linear | exclude P2  |  0.0361   |\n",
    "| segmented linear | exclude P3  |  0.2361   |\n",
    "| segmented linear | exclude P4  |  0.0694   |\n",
    "| segmented linear | exclude P5  |  0.0361   |\n",
    "\n",
    "- Lagrangian interpolation is strongly influenced by the outburst value.\n",
    "- Cubic spline interpolation is also influenced by the outburst value, but not as much as the Lagrangian interpolation.\n",
    "- Segmented linear interpolation is only affected by nearby values. When the interval is expanded, the deviation changes significantly.\n",
    "\n",
    "Of the three methods, segmented linear interpolation performs best while the lagrange interpolation performs worst."
   ]
  }
 ],
 "metadata": {
  "kernelspec": {
   "display_name": "Python 3 (ipykernel)",
   "language": "python",
   "name": "python3"
  },
  "language_info": {
   "codemirror_mode": {
    "name": "ipython",
    "version": 3
   },
   "file_extension": ".py",
   "mimetype": "text/x-python",
   "name": "python",
   "nbconvert_exporter": "python",
   "pygments_lexer": "ipython3",
   "version": "3.12.1"
  }
 },
 "nbformat": 4,
 "nbformat_minor": 5
}
