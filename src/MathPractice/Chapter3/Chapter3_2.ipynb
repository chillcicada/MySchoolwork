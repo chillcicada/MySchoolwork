{
 "cells": [
  {
   "cell_type": "raw",
   "id": "80501ee5",
   "metadata": {
    "vscode": {
     "languageId": "raw"
    }
   },
   "source": [
    "---\n",
    "title: \"Chapter 3-2\"\n",
    "format: typst\n",
    "jupyter: python3\n",
    "---"
   ]
  },
  {
   "cell_type": "code",
   "execution_count": null,
   "id": "initial_id",
   "metadata": {
    "ExecuteTime": {
     "end_time": "2024-04-02T12:20:09.805193Z",
     "start_time": "2024-04-02T12:20:09.802496Z"
    },
    "collapsed": true
   },
   "outputs": [],
   "source": [
    "import numpy as np"
   ]
  },
  {
   "cell_type": "code",
   "execution_count": null,
   "id": "60c6037ddd0c9d3e",
   "metadata": {
    "ExecuteTime": {
     "end_time": "2024-04-02T12:19:51.602984Z",
     "start_time": "2024-04-02T12:19:51.600329Z"
    },
    "collapsed": false
   },
   "outputs": [],
   "source": [
    "a = np.array([[15, 20, 30], [30, 10, 45], [20, 60, 0]])\n",
    "b = np.array([120, 200, 150])"
   ]
  },
  {
   "cell_type": "markdown",
   "id": "91639748672c84e6",
   "metadata": {
    "collapsed": false
   },
   "source": [
    "```{=typst}\n",
    "假设部门与部门间，部门内的相对需求不发生变化，从而：\n",
    "\n",
    "$ x = A x + b $\n",
    "\n",
    "式中，A 表示部门间和部门内的相对需求关系矩阵，b 表示外部需求。\n",
    "\n",
    "从而：$x = (I - A)^(-1) b$，进一步，$Delta x = (I - A)^(-1) Delta b$\n",
    "\n",
    "对第二问，$Delta b = I$，从而 $Delta x = (I - A)^(-1)$\n",
    "```"
   ]
  },
  {
   "cell_type": "code",
   "execution_count": null,
   "id": "9755edfbdd2ce2af",
   "metadata": {
    "ExecuteTime": {
     "end_time": "2024-04-02T12:22:27.546514Z",
     "start_time": "2024-04-02T12:22:27.541048Z"
    },
    "collapsed": false
   },
   "outputs": [],
   "source": [
    "A = np.zeros((3, 3))\n",
    "\n",
    "for i in range(3):\n",
    "  for j in range(3):\n",
    "    A[i, j] = a[i, j] / b[j]\n",
    "\n",
    "b1 = np.array([50, 150, 100])\n",
    "x1 = np.linalg.solve(np.eye(3) - A, b1)\n",
    "print(x1)"
   ]
  },
  {
   "cell_type": "markdown",
   "id": "3379ef5a",
   "metadata": {},
   "source": [
    "```{=typst}\n",
    "即三个部门的总产出依次为：131.69, 255.24, 198.52\n",
    "```"
   ]
  },
  {
   "cell_type": "code",
   "execution_count": null,
   "id": "a62fbfb565e18ff0",
   "metadata": {
    "ExecuteTime": {
     "end_time": "2024-04-02T12:25:46.502809Z",
     "start_time": "2024-04-02T12:25:46.500170Z"
    },
    "collapsed": false
   },
   "outputs": [],
   "source": [
    "x2 = np.linalg.solve(np.eye(3) - A, np.array([1, 1, 1]))\n",
    "print(x2)"
   ]
  },
  {
   "cell_type": "markdown",
   "id": "08db0230",
   "metadata": {},
   "source": [
    "```{=typst}\n",
    "即三个部门的总产出分别增加：1.83, 2.15, 1.95\n",
    "```"
   ]
  }
 ],
 "metadata": {
  "kernelspec": {
   "display_name": "Python 3",
   "language": "python",
   "name": "python3"
  },
  "language_info": {
   "codemirror_mode": {
    "name": "ipython",
    "version": 2
   },
   "file_extension": ".py",
   "mimetype": "text/x-python",
   "name": "python",
   "nbconvert_exporter": "python",
   "pygments_lexer": "ipython2",
   "version": "3.12.1"
  }
 },
 "nbformat": 4,
 "nbformat_minor": 5
}
