{
 "cells": [
  {
   "cell_type": "raw",
   "id": "2de93f1b",
   "metadata": {
    "vscode": {
     "languageId": "raw"
    }
   },
   "source": [
    "---\n",
    "title: \"Chapter 3-3\"\n",
    "format: typst\n",
    "jupyter: python3\n",
    "---"
   ]
  },
  {
   "cell_type": "code",
   "execution_count": null,
   "id": "initial_id",
   "metadata": {
    "ExecuteTime": {
     "end_time": "2024-04-02T12:26:24.248001Z",
     "start_time": "2024-04-02T12:26:24.191288Z"
    },
    "collapsed": true
   },
   "outputs": [],
   "source": [
    "import numpy as np"
   ]
  },
  {
   "cell_type": "markdown",
   "id": "05d7fbde",
   "metadata": {},
   "source": [
    "```{=typst}\n",
    "#image(\"./Chapter3_3_1.jpg\")\n",
    "```"
   ]
  },
  {
   "cell_type": "code",
   "execution_count": null,
   "id": "df042e80cadf1196",
   "metadata": {
    "ExecuteTime": {
     "end_time": "2024-04-02T12:56:00.502171Z",
     "start_time": "2024-04-02T12:56:00.497238Z"
    },
    "collapsed": false
   },
   "outputs": [],
   "source": [
    "z = np.sqrt(3)\n",
    "F = 100\n",
    "\n",
    "A = np.array(\n",
    "  [\n",
    "    [1, 0, z, 0, 0, 0],\n",
    "    [0, -2, 1, 0, 0, 0],\n",
    "    [z, 0, -1, 0, 0, 0],\n",
    "    [-z, 2, 0, 2, 0, 0],\n",
    "    [-1, 0, 0, 0, 2, 0],\n",
    "    [0, 0, -z, 0, 0, 2],\n",
    "  ]\n",
    ")\n",
    "b = np.array([2 * F, 0, 0, 0, 0, 0])\n",
    "\n",
    "x = np.linalg.solve(A, b)\n",
    "print(x)"
   ]
  },
  {
   "cell_type": "code",
   "execution_count": null,
   "id": "546f23d3896b8d2a",
   "metadata": {
    "ExecuteTime": {
     "end_time": "2024-04-02T12:57:43.103668Z",
     "start_time": "2024-04-02T12:57:43.100506Z"
    },
    "collapsed": false
   },
   "outputs": [],
   "source": [
    "dF = 1\n",
    "db = np.array([2 * dF, 0, 0, 0, 0, 0])\n",
    "\n",
    "dx = np.linalg.solve(A, db)\n",
    "print(dx)"
   ]
  },
  {
   "cell_type": "markdown",
   "id": "42f4d81b499c14e5",
   "metadata": {
    "collapsed": false
   },
   "source": [
    "```{=typst}\n",
    "$F_1$, $F_2$, $F_3$, $H_2$, $V_2$, $V_3$ 依次为 50.0, 43.3, 86.6, 0.0, 25.0, 75.0 (单位 kg)\n",
    "\n",
    "$F$ 变化 1 kg 时，$F_1$, $F_2$, $F_3$, $H_2$, $V_2$, $V_3$ 依次变化 0.5, 0.433, 0.866, 0.0, 0.25, 0.75 (单位 kg)\n",
    "\n",
    "$F_1$, $F_2$, $F_3$, $H_2$, $V_2$, $V_3$ 变化方向与 $F$ 一致\n",
    "```"
   ]
  }
 ],
 "metadata": {
  "kernelspec": {
   "display_name": "Python 3",
   "language": "python",
   "name": "python3"
  },
  "language_info": {
   "codemirror_mode": {
    "name": "ipython",
    "version": 2
   },
   "file_extension": ".py",
   "mimetype": "text/x-python",
   "name": "python",
   "nbconvert_exporter": "python",
   "pygments_lexer": "ipython2",
   "version": "3.12.1"
  }
 },
 "nbformat": 4,
 "nbformat_minor": 5
}
