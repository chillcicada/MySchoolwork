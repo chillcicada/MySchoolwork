{
 "cells": [
  {
   "cell_type": "raw",
   "metadata": {
    "vscode": {
     "languageId": "raw"
    }
   },
   "source": [
    "---\n",
    "title: \"Chapter 3-1\"\n",
    "format: typst\n",
    "jupyter: python3\n",
    "---"
   ]
  },
  {
   "cell_type": "code",
   "execution_count": null,
   "metadata": {
    "ExecuteTime": {
     "end_time": "2024-04-02T13:20:15.059683Z",
     "start_time": "2024-04-02T13:20:14.764040Z"
    }
   },
   "outputs": [],
   "source": [
    "import numpy as np\n",
    "from matplotlib import pyplot as plt\n",
    "from utils.matrix import Jacobi, GaussSeidel  # Jacobi 方法和 GaussSeidel 方法定义于此"
   ]
  },
  {
   "cell_type": "code",
   "execution_count": null,
   "metadata": {
    "ExecuteTime": {
     "end_time": "2024-04-02T13:08:56.795542Z",
     "start_time": "2024-04-02T13:08:56.788222Z"
    }
   },
   "outputs": [],
   "source": [
    "n = 20\n",
    "A = np.array(\n",
    "  [\n",
    "    [3, -0.5, -0.25, 0, 0, 0, 0, 0, 0, 0, 0, 0, 0, 0, 0, 0, 0, 0, 0, 0],\n",
    "    [-0.5, 3, -0.5, -0.25, 0, 0, 0, 0, 0, 0, 0, 0, 0, 0, 0, 0, 0, 0, 0, 0],\n",
    "    [-0.25, -0.5, 3, -0.5, -0.25, 0, 0, 0, 0, 0, 0, 0, 0, 0, 0, 0, 0, 0, 0, 0],\n",
    "    [0, -0.25, -0.5, 3, -0.5, -0.25, 0, 0, 0, 0, 0, 0, 0, 0, 0, 0, 0, 0, 0, 0],\n",
    "    [0, 0, -0.25, -0.5, 3, -0.5, -0.25, 0, 0, 0, 0, 0, 0, 0, 0, 0, 0, 0, 0, 0],\n",
    "    [0, 0, 0, -0.25, -0.5, 3, -0.5, -0.25, 0, 0, 0, 0, 0, 0, 0, 0, 0, 0, 0, 0],\n",
    "    [0, 0, 0, 0, -0.25, -0.5, 3, -0.5, -0.25, 0, 0, 0, 0, 0, 0, 0, 0, 0, 0, 0],\n",
    "    [0, 0, 0, 0, 0, -0.25, -0.5, 3, -0.5, -0.25, 0, 0, 0, 0, 0, 0, 0, 0, 0, 0],\n",
    "    [0, 0, 0, 0, 0, 0, -0.25, -0.5, 3, -0.5, -0.25, 0, 0, 0, 0, 0, 0, 0, 0, 0],\n",
    "    [0, 0, 0, 0, 0, 0, 0, -0.25, -0.5, 3, -0.5, -0.25, 0, 0, 0, 0, 0, 0, 0, 0],\n",
    "    [0, 0, 0, 0, 0, 0, 0, 0, -0.25, -0.5, 3, -0.5, -0.25, 0, 0, 0, 0, 0, 0, 0],\n",
    "    [0, 0, 0, 0, 0, 0, 0, 0, 0, -0.25, -0.5, 3, -0.5, -0.25, 0, 0, 0, 0, 0, 0],\n",
    "    [0, 0, 0, 0, 0, 0, 0, 0, 0, 0, -0.25, -0.5, 3, -0.5, -0.25, 0, 0, 0, 0, 0],\n",
    "    [0, 0, 0, 0, 0, 0, 0, 0, 0, 0, 0, -0.25, -0.5, 3, -0.5, -0.25, 0, 0, 0, 0],\n",
    "    [0, 0, 0, 0, 0, 0, 0, 0, 0, 0, 0, 0, -0.25, -0.5, 3, -0.5, -0.25, 0, 0, 0],\n",
    "    [0, 0, 0, 0, 0, 0, 0, 0, 0, 0, 0, 0, 0, -0.25, -0.5, 3, -0.5, -0.25, 0, 0],\n",
    "    [0, 0, 0, 0, 0, 0, 0, 0, 0, 0, 0, 0, 0, 0, -0.25, -0.5, 3, -0.5, -0.25, 0],\n",
    "    [0, 0, 0, 0, 0, 0, 0, 0, 0, 0, 0, 0, 0, 0, 0, -0.25, -0.5, 3, -0.5, -0.25],\n",
    "    [0, 0, 0, 0, 0, 0, 0, 0, 0, 0, 0, 0, 0, 0, 0, 0, -0.25, -0.5, 3, -0.5],\n",
    "    [0, 0, 0, 0, 0, 0, 0, 0, 0, 0, 0, 0, 0, 0, 0, 0, 0, -0.25, -0.5, 3],\n",
    "  ]\n",
    ")"
   ]
  },
  {
   "cell_type": "code",
   "execution_count": null,
   "metadata": {
    "ExecuteTime": {
     "end_time": "2024-04-02T13:13:35.086701Z",
     "start_time": "2024-04-02T13:13:35.081205Z"
    }
   },
   "outputs": [],
   "source": [
    "# question 1\n",
    "x0 = np.random.rand(n)\n",
    "print('x0:', x0)\n",
    "b = np.random.rand(n)\n",
    "print('b:', b)\n",
    "\n",
    "# Jacobi\n",
    "x, iter_times = Jacobi(A, b, x0, 1e-5)\n",
    "print(x, iter_times)\n",
    "\n",
    "# Gauss-Seidel\n",
    "x, iter_times = GaussSeidel(A, b, x0, 1e-5)\n",
    "print(x, iter_times)"
   ]
  },
  {
   "cell_type": "markdown",
   "metadata": {},
   "source": [
    "```{=typst}\n",
    "随机测试中收敛性较好，几乎都收敛，同时收敛速度也较快，GaussSeidel 方法的迭代次数小于 Jacobi 方法，收敛速度上 GaussSeidel 方法更好，迭代时间更短。\n",
    "```"
   ]
  },
  {
   "cell_type": "code",
   "execution_count": null,
   "metadata": {
    "ExecuteTime": {
     "end_time": "2024-04-02T13:20:18.686046Z",
     "start_time": "2024-04-02T13:20:18.588470Z"
    }
   },
   "outputs": [],
   "source": [
    "# question 2\n",
    "x0_0 = np.zeros(n)\n",
    "b_0 = np.ones(n)\n",
    "\n",
    "\n",
    "iter_list = []\n",
    "for k in range(1, 101):\n",
    "  A_k = A + np.eye(n) * 3 * k\n",
    "  iter_list.append(Jacobi(A_k, b_0, x0_0, 1e-5)[1])\n",
    "\n",
    "\n",
    "plt.plot(range(1, 101), iter_list)\n",
    "plt.show()"
   ]
  },
  {
   "cell_type": "markdown",
   "metadata": {
    "collapsed": false
   },
   "source": [
    "```{=typst}\n",
    "随着 $A$ 主对角线元素的增大，其占矩阵的信息量越大，而对角矩阵运算简便，因而迭代次数逐渐下降并稳定在 3 次左右。同时，$k$ 取特定时间时所用时间明显长于平均时间，即收敛速度与 $k$ 有关，但大多数情况下收敛较快。\n",
    "```"
   ]
  },
  {
   "cell_type": "markdown",
   "metadata": {},
   "source": [
    "```{=typst}\n",
    "#set text(\n",
    "  font: (\"Times New Roman\", \"LXGW WenKai\"),\n",
    "  size: 11pt,\n",
    ")\n",
    "\n",
    "附：Jacobi 方法和 GaussSeidel 方法源代码\n",
    "\n",
    "Jacobi 方法和 GaussSeidel 方法设置的最大迭代次数为 100000 次，达到此次数仍未收敛则抛出异常。其中 Jacobi 方法的源代码如下：\n",
    "```\n",
    "\n",
    "```python\n",
    "import numpy as np\n",
    "from utils.clock import clocked\n",
    "\n",
    "\n",
    "@clocked\n",
    "def Jacobi(_A, _x, _b, epsilon, max_iter=100000):\n",
    "  n = len(_b)\n",
    "  _x_ = np.copy(_x)\n",
    "  for _iter in range(max_iter):\n",
    "    x_new = np.zeros(n)\n",
    "    for i in range(n):\n",
    "      s1 = np.dot(_A[i, :i], _x_[:i])\n",
    "      s2 = np.dot(_A[i, i + 1:], _x_[i + 1:])\n",
    "      x_new[i] = (_b[i] - s1 - s2) / _A[i, i]\n",
    "    if np.linalg.norm(x_new - _x_) < epsilon:\n",
    "      return x_new, _iter\n",
    "    _x_ = np.copy(x_new)\n",
    "  raise ValueError('Jacobi method did not converge')\n",
    "```\n",
    "\n",
    "GaussSeidel 方法源代码如下：\n",
    "\n",
    "```python\n",
    "#! /usr/bin/env python3\n",
    "# -*- coding: utf-8 -*-\n",
    "\n",
    "import numpy as np\n",
    "from utils.clock import clocked\n",
    "\n",
    "\n",
    "@clocked\n",
    "def GaussSeidel(_A, _x, _b, epsilon, max_iter=100000):\n",
    "  n = len(_b)\n",
    "  _x_ = np.copy(_x)\n",
    "  for _iter in range(max_iter):\n",
    "    for i in range(n):\n",
    "      s1 = np.dot(_A[i, :i], _x_[:i])\n",
    "      s2 = np.dot(_A[i, i + 1:], _x_[i + 1:])\n",
    "      _x_[i] = (_b[i] - s1 - s2) / _A[i, i]\n",
    "    if np.linalg.norm(np.dot(_A, _x_) - _b) < epsilon:\n",
    "      return _x_, _iter\n",
    "  raise ValueError('Gauss-Seidel method did not converge')\n",
    "```\n",
    "\n",
    "`@clocked` 为计时装饰器，用于计时函数运行时间，其源码如下：\n",
    "\n",
    "```python\n",
    "#! /usr/bin/env python3\n",
    "# -*- coding: utf-8 -*-\n",
    "\n",
    "import time\n",
    "\n",
    "\n",
    "def clocked(func):\n",
    "  def clock(*args, **kwargs):\n",
    "    start = time.time()\n",
    "    result = func(*args, **kwargs)\n",
    "    end = time.time()\n",
    "    print(f'Function {func.__name__} executed in {end - start} seconds')\n",
    "    return result\n",
    "\n",
    "  return clock\n",
    "```"
   ]
  }
 ],
 "metadata": {
  "kernelspec": {
   "display_name": ".venv",
   "language": "python",
   "name": "python3"
  },
  "language_info": {
   "codemirror_mode": {
    "name": "ipython",
    "version": 3
   },
   "file_extension": ".py",
   "mimetype": "text/x-python",
   "name": "python",
   "nbconvert_exporter": "python",
   "pygments_lexer": "ipython3",
   "version": "3.12.1"
  }
 },
 "nbformat": 4,
 "nbformat_minor": 2
}
