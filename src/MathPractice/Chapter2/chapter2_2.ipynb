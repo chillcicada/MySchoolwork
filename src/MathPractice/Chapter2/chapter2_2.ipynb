{
 "cells": [
  {
   "cell_type": "raw",
   "metadata": {
    "vscode": {
     "languageId": "raw"
    }
   },
   "source": [
    "---\n",
    "title: \"Chapter 2-2\"\n",
    "format: typst\n",
    "jupyter: python3\n",
    "---"
   ]
  },
  {
   "cell_type": "markdown",
   "metadata": {},
   "source": [
    "```{=typst}\n",
    "== (1)\n",
    "\n",
    "由牛顿第二运动定律，结合题意，得：\n",
    "$ G - F - k v = m dot(v) $\n",
    "上式中，$G$ 为重力，$F$ 为浮力，$k v$ 为阻力，$v$ 为速度，$m$ 为质量，$ dot(v)$ 为加速度。\n",
    "\n",
    "== (2) 解析法\n",
    "\n",
    "经分析易得物体做加速度减小的加速运动，临界情况即分析物体速度达到临界速度时，物体的下潜深度，若下潜深度小于水深，则物体必然与海底碰撞而破裂。\n",
    "\n",
    "$\n",
    "(m dif v) / (G - F - m v) = dif t \\\n",
    "t = - ln (G - F -m v)\n",
    "$\n",
    "\n",
    "令 $v$ 为临界速度得 $t = 11.9s$，代入得此时的下潜深度为 $73.7m$，小于水深，故物体将与海底碰撞而破裂。\n",
    "```"
   ]
  },
  {
   "cell_type": "code",
   "execution_count": null,
   "metadata": {},
   "outputs": [],
   "source": [
    "import numpy as np\n",
    "from scipy import integrate as itg"
   ]
  },
  {
   "cell_type": "code",
   "execution_count": null,
   "metadata": {},
   "outputs": [],
   "source": [
    "# 初始情况\n",
    "MASS = 527.436 * 0.4536  # kg\n",
    "FORCE_GRAVITY = 527.436 * 0.4536 * 9.8  # N\n",
    "FORCE_BUOYANCY = 470.327 * 0.4536 * 9.8  # N\n",
    "RESISTANCE_COEFFICIENT = 0.08 * 0.4536 * 9.8 / 0.3048  # N*s/m\n",
    "CRITICAL_VELOCITY = 0.3048 * 40  # m/s\n",
    "DEPTH = 300 * 0.3048  # m"
   ]
  },
  {
   "cell_type": "code",
   "execution_count": null,
   "metadata": {},
   "outputs": [],
   "source": [
    "def dv_dt(t, v):\n",
    "  return (FORCE_GRAVITY - FORCE_BUOYANCY - RESISTANCE_COEFFICIENT * v) / MASS\n",
    "\n",
    "\n",
    "t_interval = (0, 100)\n",
    "res = itg.solve_ivp(dv_dt, t_interval, [0.0], dense_output=True, method='RK45')\n",
    "\n",
    "t_total = np.linspace(0, 100, 1001)\n",
    "\n",
    "\n",
    "def get_time_to_critical_velocity(t):\n",
    "  for t in t_total:\n",
    "    if res.sol(t)[0] >= CRITICAL_VELOCITY:\n",
    "      return t\n",
    "  print('No solution found')\n",
    "  return None\n",
    "\n",
    "\n",
    "t_res = get_time_to_critical_velocity(t_total)\n",
    "\n",
    "in_depth = itg.quad(res.sol, 0, t_res)[0]\n",
    "\n",
    "print('工程师正确' if in_depth < DEPTH else '原子能委员会正确')"
   ]
  }
 ],
 "metadata": {
  "kernelspec": {
   "display_name": ".venv",
   "language": "python",
   "name": "python3"
  },
  "language_info": {
   "codemirror_mode": {
    "name": "ipython",
    "version": 3
   },
   "file_extension": ".py",
   "mimetype": "text/x-python",
   "name": "python",
   "nbconvert_exporter": "python",
   "pygments_lexer": "ipython3",
   "version": "3.12.2"
  }
 },
 "nbformat": 4,
 "nbformat_minor": 2
}
