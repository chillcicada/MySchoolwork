{
 "cells": [
  {
   "cell_type": "raw",
   "id": "a67b6dac6b22b464",
   "metadata": {
    "collapsed": false,
    "vscode": {
     "languageId": "raw"
    }
   },
   "source": [
    "---\n",
    "title: \"Chapter 2-1\"\n",
    "format: typst\n",
    "jupyter: python3\n",
    "---"
   ]
  },
  {
   "cell_type": "code",
   "execution_count": null,
   "id": "initial_id",
   "metadata": {
    "collapsed": true
   },
   "outputs": [],
   "source": [
    "import numpy as np\n",
    "from matplotlib import pyplot as plt\n",
    "from scipy import integrate as itg, constants as const\n",
    "# the constants we need are `g`"
   ]
  },
  {
   "cell_type": "code",
   "execution_count": null,
   "id": "c1650f8c9b773a38",
   "metadata": {
    "collapsed": false
   },
   "outputs": [],
   "source": [
    "# 初始情况\n",
    "MASS_ORIGIN = 1400.0  # kg\n",
    "MASS_FUEL_ORIGIN = 1080.0  # kg\n",
    "FUEL_BURN_RATE = 18.0  # kg/s\n",
    "PUSH_FORCE = 32000.0  # N\n",
    "RESISTANCE_COEFFICIENT = 0.4  # kg/m\n",
    "MASS_FINAL = MASS_ORIGIN - MASS_FUEL_ORIGIN"
   ]
  },
  {
   "cell_type": "markdown",
   "id": "8cf60165",
   "metadata": {},
   "source": [
    "```{=typst}\n",
    "= 分析\n",
    "\n",
    "在 $t$ 时刻，我们有：\n",
    "\n",
    "$\n",
    "m_t = m_0 - \"rate\" t \\\n",
    "m dot(v) = F_p - m_t g - k v^2\n",
    "$\n",
    "\n",
    "初始时刻 ($t = 0$)，边界条件：\n",
    "\n",
    "$\n",
    "m = m_0 \\\n",
    "v = 0\n",
    "$\n",
    "\n",
    "上式中 $g$ 为重力加速度。\n",
    "\n",
    "引擎关闭的边界条件为燃料耗尽，即 $\"MASS_FUEL_FINAL\" = 0$，此后推力为 0，从而：\n",
    "\n",
    "$\n",
    "m = m_0 - m_f \\\n",
    "m dot(v) = - m_t g - k v^2\n",
    "$\n",
    "\n",
    "最高点的边界条件为 $v = 0$。\n",
    "```"
   ]
  },
  {
   "cell_type": "code",
   "execution_count": null,
   "id": "c1731e05",
   "metadata": {},
   "outputs": [],
   "source": [
    "# before the engine shuts off\n",
    "# dv / dt = (PUSH_FORCE - RESISTANCE_COEFFICIENT * v^2) / (MASS_ORIGIN - FUEL_BURN_RATE * t) - g\n",
    "def f1(t, v):\n",
    "  \"\"\"\n",
    "  :param t: time\n",
    "  :param v: velocity\n",
    "  :return: dv / dt\n",
    "  \"\"\"\n",
    "  return (PUSH_FORCE - RESISTANCE_COEFFICIENT * v**2) / (MASS_ORIGIN - FUEL_BURN_RATE * t) - const.g\n",
    "\n",
    "\n",
    "# the range of t (in this stage) is `0` to `MASS_FUEL_ORIGIN / FUEL_BURN_RATE`\n",
    "t_interval = MASS_FUEL_ORIGIN / FUEL_BURN_RATE\n",
    "# 0.0 is the initial velocity\n",
    "res1 = itg.solve_ivp(f1, (0.0, t_interval), [0.0], dense_output=True, method='RK45')  # RK45 is the fault method\n",
    "\n",
    "# we can get the max velocity by res1.sol(t_interval_1)\n",
    "v_max = res1.sol(t_interval)[0]\n",
    "a = f1(t_interval, v_max)\n",
    "\n",
    "# the height at t = t_interval_1\n",
    "h_f1 = itg.quad(res1.sol, 0.0, t_interval)[0]\n",
    "\n",
    "# for plot\n",
    "t_1 = np.linspace(0, int(t_interval), int(t_interval) * 100 + 1)\n",
    "h_1 = np.array([itg.quad(res1.sol, 0.0, t)[0] for t in t_1])\n",
    "a_1 = np.array(f1(t_1, res1.sol(t_1)[0]))"
   ]
  },
  {
   "cell_type": "code",
   "execution_count": null,
   "id": "42a8f396",
   "metadata": {},
   "outputs": [],
   "source": [
    "# after the engine shuts off, the mass is a constant\n",
    "# dv / dt = - RESISTANCE_COEFFICIENT * v^2 / MASS_FINAL - g\n",
    "\n",
    "\n",
    "def f2(t, v):\n",
    "  \"\"\"\n",
    "  :param t: time\n",
    "  :param v: velocity\n",
    "  :return: dv / dt\n",
    "  \"\"\"\n",
    "  return -RESISTANCE_COEFFICIENT * v**2 / MASS_FINAL - const.g\n",
    "\n",
    "\n",
    "res2 = itg.solve_ivp(f2, (t_interval, 1000), [v_max], dense_output=True, method='RK45')\n",
    "\n",
    "a_p = f2(t_interval, v_max)\n",
    "a_final = const.g\n",
    "\n",
    "t_2 = np.linspace(int(t_interval), 1000, 1001)\n",
    "\n",
    "\n",
    "def get_t_final():\n",
    "  for t in t_2:\n",
    "    if res2.sol(t)[0] < 0:\n",
    "      return t\n",
    "  print('Error: t_final not found')\n",
    "  return None\n",
    "\n",
    "\n",
    "t_final = get_t_final()\n",
    "t_2_new = np.linspace(int(t_interval), int(t_final), 1001)  # type: ignore\n",
    "h_2 = np.array([itg.quad(res2.sol, t_interval, t)[0] + h_f1 for t in t_2_new])\n",
    "a_2 = np.array(f2(t_2_new, res2.sol(t_2_new)[0]))\n",
    "h_f2 = h_2[-1]"
   ]
  },
  {
   "cell_type": "code",
   "execution_count": null,
   "id": "baf54df1",
   "metadata": {},
   "outputs": [],
   "source": [
    "# plot\n",
    "plt.figure()\n",
    "plt.subplots_adjust(hspace=0.5)\n",
    "plt.subplots_adjust(wspace=0.5)\n",
    "\n",
    "plt.subplot(2, 3, 1)\n",
    "plt.plot(t_1, res1.sol(t_1)[0], label='velocity')\n",
    "plt.grid()\n",
    "plt.legend()\n",
    "plt.xlabel('time (s)')\n",
    "plt.ylabel('velocity (m/s)')\n",
    "\n",
    "plt.subplot(2, 3, 2)\n",
    "plt.plot(t_1, h_1, label='height', color='pink')\n",
    "plt.grid()\n",
    "plt.legend()\n",
    "plt.xlabel('time (s)')\n",
    "plt.ylabel('height (m)')\n",
    "\n",
    "plt.subplot(2, 3, 3)\n",
    "plt.plot(t_1, a_1, label='acceleration', color='green')\n",
    "plt.grid()\n",
    "plt.legend()\n",
    "plt.xlabel('time (s)')\n",
    "plt.ylabel('acceleration (m/s^2)')\n",
    "\n",
    "plt.subplot(2, 3, 4)\n",
    "plt.plot(t_2_new, res2.sol(t_2_new)[0], label='velocity')\n",
    "plt.grid()\n",
    "plt.legend()\n",
    "plt.xlabel('time (s)')\n",
    "plt.ylabel('velocity (m/s)')\n",
    "\n",
    "plt.subplot(2, 3, 5)\n",
    "plt.plot(t_2_new, h_2, label='height', color='pink')\n",
    "plt.grid()\n",
    "plt.legend()\n",
    "plt.xlabel('time (s)')\n",
    "plt.ylabel('height (m)')\n",
    "\n",
    "plt.subplot(2, 3, 6)\n",
    "plt.plot(t_2_new, a_2, label='acceleration', color='green')\n",
    "plt.grid()\n",
    "plt.legend()\n",
    "plt.xlabel('time (s)')\n",
    "plt.ylabel('acceleration (m/s^2)')\n",
    "\n",
    "plt.show()"
   ]
  },
  {
   "cell_type": "markdown",
   "id": "703a16f2",
   "metadata": {},
   "source": [
    "# result\n",
    "\n",
    "引擎关闭时：\n",
    "\n",
    "- 高度：12187.48m\n",
    "- 速度：267.23m/s\n",
    "- 加速度：0.93m/s^2(向下) -> -99.07m/s^2(向下)\n",
    "\n",
    "最高点：\n",
    "\n",
    "- 高度：13111.68m\n",
    "- 加速度：-9.81m/s^2(向下)"
   ]
  }
 ],
 "metadata": {
  "kernelspec": {
   "display_name": "Python 3",
   "language": "python",
   "name": "python3"
  },
  "language_info": {
   "codemirror_mode": {
    "name": "ipython",
    "version": 3
   },
   "file_extension": ".py",
   "mimetype": "text/x-python",
   "name": "python",
   "nbconvert_exporter": "python",
   "pygments_lexer": "ipython3",
   "version": "3.12.2"
  }
 },
 "nbformat": 4,
 "nbformat_minor": 5
}
