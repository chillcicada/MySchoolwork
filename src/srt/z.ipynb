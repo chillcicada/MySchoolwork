{
 "cells": [
  {
   "cell_type": "code",
   "execution_count": null,
   "metadata": {},
   "outputs": [],
   "source": [
    "# import torch\n",
    "# import cv2\n",
    "# from segment_anything import sam_model_registry\n",
    "# from segment_anything import SamPredictor\n",
    "\n",
    "# DEVICE = torch.device(\"cuda\" if torch.cuda.is_available() else \"cpu\")\n",
    "\n",
    "# MODEL_TYPE = \"vit_h\"\n",
    "\n",
    "# sam = sam_model_registry[MODEL_TYPE](checkpoint=CHECKPOINT_PATH)\n",
    "# sam.to(device=DEVICE)\n",
    "\n",
    "# mask_predictor = SamPredictor(sam)\n",
    "\n",
    "# image_bgr = cv2.imread(IMAGE_PATH)\n",
    "# image_rgb = cv2.cvtColor(image_bgr, cv2.COLOR_BGR2RGB)\n",
    "# mask_predictor.set_image(image_rgb)\n",
    "\n",
    "# box = np.array([70, 247, 626, 926])\n",
    "# masks, scores, logits = mask_predictor.predict(box=box, multimask_output=True)"
   ]
  }
 ],
 "metadata": {
  "kernelspec": {
   "display_name": ".venv",
   "language": "python",
   "name": "python3"
  },
  "language_info": {
   "codemirror_mode": {
    "name": "ipython",
    "version": 3
   },
   "file_extension": ".py",
   "mimetype": "text/x-python",
   "name": "python",
   "nbconvert_exporter": "python",
   "pygments_lexer": "ipython3",
   "version": "3.11.10"
  }
 },
 "nbformat": 4,
 "nbformat_minor": 2
}
