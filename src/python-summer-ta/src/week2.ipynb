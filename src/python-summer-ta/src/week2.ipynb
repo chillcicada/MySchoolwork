{
 "cells": [
  {
   "cell_type": "code",
   "execution_count": 10,
   "metadata": {},
   "outputs": [],
   "source": [
    "# import numpy as np\n",
    "# import matplotlib.pyplot as plt\n",
    "import pandas as pd\n",
    "from random import randint"
   ]
  },
  {
   "cell_type": "code",
   "execution_count": 15,
   "metadata": {},
   "outputs": [],
   "source": [
    "df = pd.read_csv('train.csv')\n",
    "idx = df[['Id']]\n",
    "df = df.drop(['Id'], axis=1)"
   ]
  },
  {
   "cell_type": "code",
   "execution_count": null,
   "metadata": {},
   "outputs": [],
   "source": [
    "df_shuffled = df.sample(frac=1, random_state=42)\n",
    "df_shuffled.reset_index(drop=True, inplace=True)\n",
    "length = len(df_shuffled)\n",
    "print(length)"
   ]
  },
  {
   "cell_type": "code",
   "execution_count": null,
   "metadata": {},
   "outputs": [],
   "source": [
    "for i in range(0, length):\n",
    "    random = randint(0, 21)\n",
    "\n",
    "    if df_shuffled.loc[i, 'Intention'] == 1:\n",
    "        df_shuffled.loc[i, 'Intention'] = 'A'\n",
    "    else:\n",
    "        df_shuffled.loc[i, 'Intention'] = 'B'\n",
    "\n",
    "    if random == 0:\n",
    "        df_shuffled.loc[i, 'Intention'] = 'C'"
   ]
  },
  {
   "cell_type": "code",
   "execution_count": 16,
   "metadata": {},
   "outputs": [],
   "source": [
    "df_shuffled.insert(0, 'Id', idx)\n",
    "df_shuffled.to_csv('train_modified.csv', index=False)"
   ]
  },
  {
   "cell_type": "code",
   "execution_count": null,
   "metadata": {},
   "outputs": [],
   "source": [
    "import pandas as pd\n",
    "\n",
    "\n",
    "def interpolate_data_minutely_and_save(file_path, output_file_path):\n",
    "    # Load the uploaded CSV file\n",
    "    data = pd.read_csv(file_path)\n",
    "\n",
    "    # Convert the 'Moment' column to datetime\n",
    "    # Use the '%H:%M:%S' format to ensure correct parsing\n",
    "    data['Moment'] = pd.to_datetime(data['Moment'], format='%H:%M:%S').dt.time\n",
    "\n",
    "    # Create a time range from the minimum to the maximum moment in the dataset, with a frequency of 1 minute\n",
    "    time_range = pd.date_range(start=data['Moment'].min(), end=data['Moment'].max(), freq='T')\n",
    "\n",
    "    # Convert the time range back to time objects to match the 'Moment' column\n",
    "    time_range = time_range.time\n",
    "\n",
    "    # Create a new DataFrame with the time range as index\n",
    "    interpolated_data = pd.DataFrame(index=time_range)\n",
    "\n",
    "    # Merge the original data with the time range, forward filling missing values and then interpolating\n",
    "    interpolated_data = (\n",
    "        interpolated_data.join(data.set_index('Moment'), how='outer').fillna(method='ffill').interpolate()\n",
    "    )\n",
    "\n",
    "    # Reset index to turn 'Moment' back into a column\n",
    "    interpolated_data.reset_index(inplace=True)\n",
    "    interpolated_data.columns = ['Moment', 'Number']\n",
    "\n",
    "    # Save the interpolated data to a new CSV file\n",
    "    interpolated_data.to_csv(output_file_path, index=False)\n",
    "\n",
    "    return output_file_path\n",
    "\n",
    "\n",
    "# Example usage: output_file_path = interpolate_data_minutely_and_save('path_to_your_file.csv', 'output_path_to_your_file.csv')\n",
    "\n",
    "# Save the function to a Python file\n",
    "interpolate_data_minutely_and_save_code = interpolate_data_minutely_and_save.__code__\n",
    "interpolate_data_minutely_and_save_code\n",
    "\n",
    "\n",
    "# Example usage: output_file_path = interpolate_data_minutely_and_save('path_to_your_file.csv', 'output_path_to_your_file.csv')\n",
    "\n",
    "# Save the function to a Python file\n",
    "interpolate_data_minutely_and_save('t2.csv', 'newdata1.csv')"
   ]
  }
 ],
 "metadata": {
  "kernelspec": {
   "display_name": ".venv",
   "language": "python",
   "name": "python3"
  },
  "language_info": {
   "codemirror_mode": {
    "name": "ipython",
    "version": 3
   },
   "file_extension": ".py",
   "mimetype": "text/x-python",
   "name": "python",
   "nbconvert_exporter": "python",
   "pygments_lexer": "ipython3",
   "version": "3.12.3"
  }
 },
 "nbformat": 4,
 "nbformat_minor": 2
}
