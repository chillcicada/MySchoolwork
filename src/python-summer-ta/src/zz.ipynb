{
 "cells": [
  {
   "cell_type": "code",
   "execution_count": 1,
   "metadata": {},
   "outputs": [],
   "source": [
    "from matplotlib import pyplot as plt\n",
    "import numpy as np"
   ]
  },
  {
   "cell_type": "code",
   "execution_count": null,
   "metadata": {},
   "outputs": [],
   "source": [
    "r1 = 0.4516\n",
    "r2 = 0.0696\n",
    "\n",
    "\n",
    "def F1(f1):\n",
    "    f2 = 1 - f1\n",
    "    return (r1 * f1 * f1 + f1 * f2) / (r1 * f1 * f1 + 2 * f1 * f2 + r2 * f2 * f2)\n",
    "\n",
    "\n",
    "x = np.linspace(0, 1, 100)\n",
    "y = F1(x)\n",
    "\n",
    "plt.plot(x, y)\n",
    "plt.plot(x, x, linestyle='--')\n",
    "plt.xlabel('$\\mathregular{f_1}$')\n",
    "plt.xlim(0, 1)\n",
    "plt.ylabel('$\\mathregular{F_1}$', rotation=0)\n",
    "plt.ylim(0, 1)\n",
    "plt.grid()\n",
    "plt.show()"
   ]
  },
  {
   "cell_type": "code",
   "execution_count": null,
   "metadata": {},
   "outputs": [],
   "source": [
    "from scipy import optimize as opt\n",
    "\n",
    "f1_h = opt.newton(lambda f1: F1(f1) - f1, 0.5)\n",
    "print(f1_h)"
   ]
  }
 ],
 "metadata": {
  "kernelspec": {
   "display_name": ".venv",
   "language": "python",
   "name": "python3"
  },
  "language_info": {
   "codemirror_mode": {
    "name": "ipython",
    "version": 3
   },
   "file_extension": ".py",
   "mimetype": "text/x-python",
   "name": "python",
   "nbconvert_exporter": "python",
   "pygments_lexer": "ipython3",
   "version": "3.13.3"
  }
 },
 "nbformat": 4,
 "nbformat_minor": 2
}
