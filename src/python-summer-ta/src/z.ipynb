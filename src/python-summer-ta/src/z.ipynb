{
 "cells": [
  {
   "cell_type": "code",
   "execution_count": null,
   "metadata": {},
   "outputs": [],
   "source": [
    "a = 'i am A'\n",
    "\n",
    "print(a)  # i am A\n",
    "\n",
    "print('a is:' + a)  # a is:i am A\n",
    "\n",
    "print('a is:', a)  # a is: i am A\n",
    "print('a is:', a, sep='')  # a is:i am A\n",
    "\n",
    "print('a is: %s' % a)  # a is: i am A\n",
    "\n",
    "aa = 'a is %s'\n",
    "print(aa % a)  # a is i am A\n",
    "# aa % a a a ...\n",
    "# %s %d\n",
    "\n",
    "print('a is: {}'.format(a))  # a is: i am A\n",
    "\n",
    "aaa = 'a is: {a}'\n",
    "print(aaa.format(a=a))  # a is: i am A\n",
    "\n",
    "print('a is: {a}')  # a is: {a}\n",
    "print(f'a is: {a}')  # a is: i am A"
   ]
  },
  {
   "cell_type": "code",
   "execution_count": null,
   "metadata": {},
   "outputs": [],
   "source": [
    "# z = lambda x: x + 1\n",
    "\n",
    "# print(z(1))  # 2\n",
    "\n",
    "lt1 = [1, 2, 3]  # ... 10\n",
    "\n",
    "lt2 = [i + 1 for i in range(13)]\n",
    "\n",
    "print(lt1 if lt1 == lt2 else 'not equal')  # not equal"
   ]
  },
  {
   "cell_type": "code",
   "execution_count": null,
   "metadata": {},
   "outputs": [],
   "source": [
    "ge = (2 * i for i in range(10))  # generator\n",
    "li = [2 * i for i in range(10)]  # list\n",
    "se = {2 * i for i in range(10)}  # set\n",
    "de = {i: 2 * i for i in range(10)}  # dict\n",
    "\n",
    "print(ge.__dir__())  # print(dir(ge))\n",
    "print(li.__dir__())\n",
    "print(se.__dir__())\n",
    "print(de.__dir__())\n",
    "\n",
    "for i in ge:\n",
    "    print(i, end=' ')\n",
    "\n",
    "print()\n",
    "\n",
    "for i in li:\n",
    "    print(i, end=' ')\n",
    "\n",
    "print()\n",
    "\n",
    "for i in se:\n",
    "    print(i, end=' ')\n",
    "\n",
    "print()\n",
    "\n",
    "for i in de:\n",
    "    print(f'{i}: {de[i]}', end='; ')\n",
    "    print(f'{i}: {de.get(i)}', end=' ')"
   ]
  },
  {
   "cell_type": "code",
   "execution_count": null,
   "metadata": {},
   "outputs": [],
   "source": [
    "var1, var2 = 'a', 'b'\n",
    "var3 = var4 = 'c'  # not recommended\n",
    "var5 = 1\n",
    "var6 = 2.0\n",
    "\n",
    "print(f'{var1} {var2} {var3} {var4} {var5} {var6}')  # a b c c 1 2.0\n",
    "\n",
    "print(var1 + str(var5))\n",
    "print(var5 + var6)\n",
    "# print(var1 + var5)  # ! TypeError: can only concatenate str (not \"int\") to str\n",
    "# print(var5 + var1)  # ! TypeError: unsupported operand type(s) for +: 'int' and 'str'"
   ]
  },
  {
   "cell_type": "code",
   "execution_count": null,
   "metadata": {},
   "outputs": [],
   "source": [
    "class PointMin:\n",
    "    def __init__(self, x, y):\n",
    "        self.x = x\n",
    "        self.y = y\n",
    "\n",
    "\n",
    "pp0 = PointMin(1, 2)\n",
    "pp1 = PointMin(1, 2)\n",
    "\n",
    "print(dir(pp0))\n",
    "print(pp0)\n",
    "# pp0 + pp1  # ! TypeError: unsupported operand type(s) for +: 'PointMin' and 'PointMin'\n",
    "pp0.__add__(pp1)  # ! AttributeError: 'PointMin' object has no attribute '__add__'"
   ]
  },
  {
   "cell_type": "code",
   "execution_count": null,
   "metadata": {},
   "outputs": [],
   "source": [
    "from typing import List\n",
    "\n",
    "\n",
    "class Point:\n",
    "    def __init__(self, x, y) -> None:\n",
    "        self.x = x\n",
    "        self.y = y\n",
    "\n",
    "    def __add__(self, others: List['Point']) -> 'Point':\n",
    "        return Point(self.x + sum([i.x for i in others]), self.y + sum([i.y for i in others]))\n",
    "\n",
    "    def __str__(self) -> str:\n",
    "        return f'point({self.x}, {self.y})'\n",
    "\n",
    "\n",
    "p1 = Point(1, 2)\n",
    "p2 = Point(3, 4)\n",
    "\n",
    "# p1 + p2 + p3\n",
    "\n",
    "print(p1 + [p2])"
   ]
  },
  {
   "cell_type": "code",
   "execution_count": null,
   "metadata": {},
   "outputs": [],
   "source": [
    "class Point2:\n",
    "    def __init__(self, x, y) -> None:\n",
    "        self.x = x\n",
    "        self.y = y\n",
    "\n",
    "    def __add__(self, *others: 'Point2') -> 'Point2':\n",
    "        return Point2(self.x + sum([i.x for i in others]), self.y + sum([i.y for i in others]))\n",
    "\n",
    "    def __repr__(self) -> str:\n",
    "        return f'point2({self.x}, {self.y}) with __repr__'\n",
    "\n",
    "    def __str__(self) -> str:\n",
    "        return f'point2({self.x}, {self.y}) with __str__'\n",
    "\n",
    "\n",
    "a = '{}'\n",
    "b = r'{}'\n",
    "\n",
    "p3 = Point2(1, 2)\n",
    "p4 = Point2(3, 4)\n",
    "\n",
    "print(p3 + p4)\n",
    "# p3.__add__(p4, p5 ,p6)"
   ]
  },
  {
   "cell_type": "code",
   "execution_count": null,
   "metadata": {},
   "outputs": [],
   "source": [
    "def func(**kwargs):\n",
    "    w = kwargs.get('d')\n",
    "    # w = kwargs['d']\n",
    "    print(w)\n",
    "\n",
    "\n",
    "func(a=1, b=2, c=3)  # None\n",
    "func(a=1, b=2, c=3, d=4)  # 4"
   ]
  },
  {
   "cell_type": "code",
   "execution_count": null,
   "metadata": {},
   "outputs": [],
   "source": [
    "def newton(f, df, x0, tol=1e-5, max_iter=100):\n",
    "    x = x0\n",
    "    k = 0\n",
    "    while x - x0 <= tol or k <= max_iter:\n",
    "        pass"
   ]
  }
 ],
 "metadata": {
  "kernelspec": {
   "display_name": ".venv",
   "language": "python",
   "name": "python3"
  },
  "language_info": {
   "codemirror_mode": {
    "name": "ipython",
    "version": 3
   },
   "file_extension": ".py",
   "mimetype": "text/x-python",
   "name": "python",
   "nbconvert_exporter": "python",
   "pygments_lexer": "ipython3",
   "version": "3.12.3"
  }
 },
 "nbformat": 4,
 "nbformat_minor": 2
}
