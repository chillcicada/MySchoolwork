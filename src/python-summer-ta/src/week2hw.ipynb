{
 "cells": [
  {
   "cell_type": "code",
   "execution_count": null,
   "metadata": {},
   "outputs": [],
   "source": [
    "\"\"\"T1 示例代码\n",
    "评分标准：\n",
    "    * 此题总分十分\n",
    "    * 代码实现正确性 6 分\n",
    "\"\"\"\n",
    "print('请输入大于3的整数')\n",
    "m = int(input('请输入m：'))\n",
    "n = int(input('请输入n：'))\n",
    "k = int(input('请输入k：'))\n",
    "\n",
    "if m <= 3 and n <= 3 and k <= 3:\n",
    "    print('请输入大于3的整数！')\n",
    "else:\n",
    "    if ((m - 1) * (n - 1)) >= k:\n",
    "        print(f'最快到达终点需要{m+n-2}步')\n",
    "    else:\n",
    "        print('God No Care')"
   ]
  }
 ],
 "metadata": {
  "language_info": {
   "name": "python"
  }
 },
 "nbformat": 4,
 "nbformat_minor": 2
}
