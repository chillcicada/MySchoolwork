{
 "cells": [
  {
   "cell_type": "raw",
   "metadata": {
    "vscode": {
     "languageId": "raw"
    }
   },
   "source": [
    "---\n",
    "format: typst\n",
    "---"
   ]
  },
  {
   "cell_type": "code",
   "execution_count": null,
   "metadata": {},
   "outputs": [],
   "source": [
    "import matplotlib.pyplot as plt\n",
    "import numpy as np\n",
    "import scipy.stats as stats"
   ]
  },
  {
   "cell_type": "code",
   "execution_count": null,
   "metadata": {},
   "outputs": [],
   "source": [
    "def useLangmuir(data):\n",
    "  x = data[0]\n",
    "  y = data[0] / data[1]\n",
    "\n",
    "  plt.plot(x, y, 'o', label='data')\n",
    "\n",
    "  slope, intercept = stats.linregress(x, y)[:2]\n",
    "\n",
    "  Max = 1 / slope\n",
    "  print(f'Max: {Max}')\n",
    "\n",
    "  K = slope / intercept\n",
    "  print(f'K: {K}')\n",
    "\n",
    "  _x = np.linspace(min(x), max(x), 100)\n",
    "  _y = slope * _x + intercept\n",
    "\n",
    "  plt.plot(_x, _y, label=f'y = {slope:.8f}x + {intercept:.8f}')\n",
    "\n",
    "  plt.legend()\n",
    "  plt.show()\n",
    "\n",
    "  return (Max, K)\n",
    "\n",
    "\n",
    "def useBET(data, p0=76):\n",
    "  x = data[0] / p0\n",
    "  y = x / (data[1] * (x - 1))\n",
    "\n",
    "  plt.plot(x, y, 'o', label='data')\n",
    "\n",
    "  slope, intercept = stats.linregress(x, y)[:2]\n",
    "\n",
    "  c = slope / intercept + 1\n",
    "  print(f'c: {c}')\n",
    "\n",
    "  mom = 1 / c / intercept\n",
    "  print(f'mom: {mom}')\n",
    "\n",
    "  _x = np.linspace(min(x), max(x), 100)\n",
    "  _y = slope * _x + intercept\n",
    "\n",
    "  plt.plot(_x, _y, label=f'y = {slope:.8f}x + {intercept:.8f}')\n",
    "\n",
    "  plt.legend()\n",
    "  plt.show()\n",
    "\n",
    "  return (mom, c)"
   ]
  },
  {
   "cell_type": "code",
   "execution_count": null,
   "metadata": {},
   "outputs": [],
   "source": [
    "# 2\n",
    "data = np.array(\n",
    "  [\n",
    "    [13.3, 26.7, 40.0, 53.3, 66.7, 80.0, 99.3],\n",
    "    [10.2, 18.6, 25.5, 31.5, 36.9, 41.6, 46.1],\n",
    "  ]\n",
    ")\n",
    "\n",
    "useLangmuir(data)"
   ]
  },
  {
   "cell_type": "code",
   "execution_count": null,
   "metadata": {},
   "outputs": [],
   "source": [
    "# 3\n",
    "data = np.array(\n",
    "  [\n",
    "    [0.160, 1.87, 6.11, 11.67, 17.02, 21.92, 27.29],\n",
    "    [601, 720, 822, 935, 1046, 1146, 1254],\n",
    "  ]\n",
    ")\n",
    "\n",
    "useBET(data)"
   ]
  },
  {
   "cell_type": "code",
   "execution_count": null,
   "metadata": {},
   "outputs": [],
   "source": [
    "# 7\n",
    "data = np.array(\n",
    "  [\n",
    "    [31.00, 38.22, 53.03, 76.38, 101.97, 130.47, 165.06, 182.41, 205.75, 219.91],\n",
    "    [1.00, 1.17, 1.54, 2.04, 2.49, 2.90, 3.22, 3.30, 3.35, 3.36],\n",
    "  ]\n",
    ")\n",
    "\n",
    "useLangmuir(data)"
   ]
  },
  {
   "cell_type": "code",
   "execution_count": null,
   "metadata": {},
   "outputs": [],
   "source": [
    "# 8.3\n",
    "data = np.array(\n",
    "  [\n",
    "    [13.5, 53.1],\n",
    "    [111.0, 177.0],\n",
    "  ]\n",
    ")\n",
    "\n",
    "useLangmuir(data)"
   ]
  }
 ],
 "metadata": {
  "kernelspec": {
   "display_name": ".venv",
   "language": "python",
   "name": "python3"
  },
  "language_info": {
   "codemirror_mode": {
    "name": "ipython",
    "version": 3
   },
   "file_extension": ".py",
   "mimetype": "text/x-python",
   "name": "python",
   "nbconvert_exporter": "python",
   "pygments_lexer": "ipython3",
   "version": "3.12.2"
  }
 },
 "nbformat": 4,
 "nbformat_minor": 2
}
