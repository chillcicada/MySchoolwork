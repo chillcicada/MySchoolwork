{
 "cells": [
  {
   "cell_type": "code",
   "execution_count": 1,
   "metadata": {},
   "outputs": [],
   "source": [
    "import numpy as np\n",
    "import matplotlib.pyplot as plt"
   ]
  },
  {
   "cell_type": "code",
   "execution_count": 2,
   "metadata": {},
   "outputs": [],
   "source": [
    "# import data\n",
    "data = np.loadtxt('data/vapor_pressure.csv', delimiter=',', skiprows=1).T  # skip header"
   ]
  },
  {
   "cell_type": "code",
   "execution_count": 3,
   "metadata": {},
   "outputs": [],
   "source": [
    "T = data[0]  # deg C\n",
    "p = data[1]  # kPa\n",
    "\n",
    "T_reciprocal = 1 / (T + 273.15)  # K^-1\n",
    "p_logarithm = np.log(p)  # ln(kPa)\n",
    "\n",
    "with open('data/vapor_pressure_fit.csv', 'w') as f:\n",
    "    f.write('T_reciprocal, p_logarithm\\n')\n",
    "    for i in range(len(T)):\n",
    "        f.write(f'{1000 * T_reciprocal[i]:.4},{p_logarithm[i]:.4}\\n')"
   ]
  },
  {
   "cell_type": "code",
   "execution_count": null,
   "metadata": {},
   "outputs": [],
   "source": [
    "# linear fit\n",
    "coefficients = np.polyfit(T_reciprocal, p_logarithm, 1)\n",
    "print(f'y = {coefficients[0]:.4f}x + {coefficients[1]:.4f}')\n",
    "poly = np.poly1d(coefficients)"
   ]
  },
  {
   "cell_type": "code",
   "execution_count": null,
   "metadata": {},
   "outputs": [],
   "source": [
    "# plot\n",
    "plt.plot(T_reciprocal, p_logarithm, 'o')\n",
    "_T = np.linspace(T_reciprocal[0], T_reciprocal[-1], 100)\n",
    "_p = poly(_T)\n",
    "plt.plot(_T, _p, '--')\n",
    "plt.xlabel('1 / T (K$^{-1}$)')\n",
    "plt.ylabel('ln(p) (ln kPa)')\n",
    "plt.title('Vapor Pressure of Ethanol')\n",
    "plt.show()"
   ]
  },
  {
   "cell_type": "code",
   "execution_count": null,
   "metadata": {},
   "outputs": [],
   "source": [
    "# claculate average enthalpy of vaporization\n",
    "H = -8.314 * coefficients[0]  # J/mol\n",
    "print(f'The average enthalpy of vaporization of ethanol is {H:.2f} J/mol')\n",
    "\n",
    "H_standard = 39.97  # kJ/mol\n",
    "H_kJ = H / 1000\n",
    "error_H = np.abs(H_kJ - H_standard) / H_standard * 100\n",
    "\n",
    "print(f'The error in the average enthalpy of vaporization is {error_H:.2f}%')\n",
    "\n",
    "# predict vapor pressure at standard pressure (101.325 kPa)\n",
    "p_standard = 101.325\n",
    "\n",
    "T_predict = coefficients[0] / (np.log(p_standard) - coefficients[1]) - 273.15\n",
    "\n",
    "print(f'The boiling point of ethanol at standard pressure is {T_predict:.2f} deg C')\n",
    "\n",
    "# r2\n",
    "r2 = 1 - np.sum((p_logarithm - poly(T_reciprocal)) ** 2) / np.sum(\n",
    "    (p_logarithm - np.mean(p_logarithm)) ** 2\n",
    ")\n",
    "print(f'r2 = {r2:.4f}')"
   ]
  },
  {
   "cell_type": "code",
   "execution_count": null,
   "metadata": {},
   "outputs": [],
   "source": [
    "T_standard = 78.30  # deg C\n",
    "\n",
    "# error\n",
    "error = 100 * (T_predict - T_standard) / T_standard\n",
    "print(f'The error is {error:.2f}%')\n",
    "\n",
    "error_p = 100 * np.abs(T_predict - T_standard) / (T_standard + 273.15)\n",
    "print(f'The error is {error_p:.2f}%')"
   ]
  }
 ],
 "metadata": {
  "kernelspec": {
   "display_name": ".venv",
   "language": "python",
   "name": "python3"
  },
  "language_info": {
   "codemirror_mode": {
    "name": "ipython",
    "version": 3
   },
   "file_extension": ".py",
   "mimetype": "text/x-python",
   "name": "python",
   "nbconvert_exporter": "python",
   "pygments_lexer": "ipython3",
   "version": "3.13.3"
  }
 },
 "nbformat": 4,
 "nbformat_minor": 2
}
