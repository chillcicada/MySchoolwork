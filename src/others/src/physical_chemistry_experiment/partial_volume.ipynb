{
 "cells": [
  {
   "cell_type": "raw",
   "metadata": {
    "vscode": {
     "languageId": "raw"
    }
   },
   "source": [
    "---\n",
    "format: typst\n",
    "---"
   ]
  },
  {
   "cell_type": "code",
   "execution_count": 13,
   "metadata": {},
   "outputs": [],
   "source": [
    "import numpy as np\n",
    "import matplotlib.pyplot as plt\n",
    "import scipy.interpolate as interp"
   ]
  },
  {
   "cell_type": "code",
   "execution_count": 5,
   "metadata": {},
   "outputs": [],
   "source": [
    "# import data\n",
    "data = np.loadtxt('data/partial_volume.csv', delimiter=',').T"
   ]
  },
  {
   "cell_type": "code",
   "execution_count": 6,
   "metadata": {},
   "outputs": [],
   "source": [
    "c = data[0]  # concentration\n",
    "rho = data[1]  # density\n",
    "rho_0 = rho[0]  # reference density"
   ]
  },
  {
   "cell_type": "code",
   "execution_count": 10,
   "metadata": {},
   "outputs": [],
   "source": [
    "delta_rho = rho - rho_0\n",
    "V_ = [(1 - delta_rho[i] / c[i]) / rho_0 for i in range(1, len(c))]"
   ]
  },
  {
   "cell_type": "code",
   "execution_count": null,
   "metadata": {},
   "outputs": [],
   "source": [
    "interp_func = interp.interp1d(c[1:], V_, kind='cubic', fill_value='extrapolate')\n",
    "\n",
    "c_new = np.linspace(0, c[-1], 1000)\n",
    "V_new = interp_func(c_new)\n",
    "\n",
    "coff = np.polyfit(c[1:], V_, 3)\n",
    "V_new_ = np.polyval(coff, c_new)\n",
    "\n",
    "coff_rank1 = np.polyfit(c[1:], V_, 1)\n",
    "V_new_rank1 = np.polyval(coff_rank1, c_new)\n",
    "r2 = 1 - np.sum((V_ - np.polyval(coff_rank1, c[1:])) ** 2) / np.sum(\n",
    "    (V_ - np.mean(V_)) ** 2\n",
    ")\n",
    "\n",
    "plt.plot(c[1:], V_, 'o', label='data')\n",
    "plt.plot(c_new, V_new, label='interpolation')\n",
    "plt.plot(c_new, V_new_, label='polynomial fit')\n",
    "plt.plot(c_new, V_new_rank1, label='linear fit')\n",
    "plt.xlabel('concentration')\n",
    "plt.ylabel('partial volume')\n",
    "plt.legend()\n",
    "plt.show()\n",
    "\n",
    "# print value at c = 0\n",
    "print(f'interpolation: {interp_func(0):.4f}')\n",
    "print(f'polynomial fit: {np.polyval(coff, 0):.4f}')\n",
    "print(f'linear fit: {np.polyval(coff_rank1, 0):.4f}')\n",
    "print(f'R^2: {r2:.4f}')"
   ]
  }
 ],
 "metadata": {
  "kernelspec": {
   "display_name": ".venv",
   "language": "python",
   "name": "python3"
  },
  "language_info": {
   "codemirror_mode": {
    "name": "ipython",
    "version": 3
   },
   "file_extension": ".py",
   "mimetype": "text/x-python",
   "name": "python",
   "nbconvert_exporter": "python",
   "pygments_lexer": "ipython3",
   "version": "3.13.3"
  }
 },
 "nbformat": 4,
 "nbformat_minor": 2
}
