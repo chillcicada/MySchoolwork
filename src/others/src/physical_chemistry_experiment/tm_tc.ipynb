{
 "cells": [
  {
   "cell_type": "code",
   "execution_count": null,
   "metadata": {},
   "outputs": [],
   "source": [
    "import numpy as np\n",
    "import matplotlib.pyplot as plt\n",
    "from sklearn.linear_model import LinearRegression"
   ]
  },
  {
   "cell_type": "code",
   "execution_count": null,
   "metadata": {},
   "outputs": [],
   "source": [
    "# import data\n",
    "Tc = np.array([104.38, 105.36, 106.33, 107.31, 108.29, 109.27, 110.26, 111.25, 112.24])\n",
    "Tm = np.array([112.58, 113.19, 113.83, 114.50, 115.20, 115.96, 116.73, 117.72, 118.74])\n",
    "\n",
    "model = LinearRegression()\n",
    "model.fit(Tc.reshape(-1, 1), Tm)\n",
    "\n",
    "xmin = 100\n",
    "xmax = 150\n",
    "\n",
    "Tc_ = np.linspace(xmin, xmax, 100)\n",
    "Tm_ = model.predict(Tc_.reshape(-1, 1))\n",
    "\n",
    "print('slope:', model.coef_[0])\n",
    "print('intercept:', model.intercept_)\n",
    "print(f'Tm = {model.coef_[0]:.2f} * Tc + {model.intercept_:.2f}')\n",
    "\n",
    "Tm0 = model.intercept_ / (1 - model.coef_[0])\n",
    "print(f'Tm0 = {Tm0:.2f}')\n",
    "\n",
    "# plot data\n",
    "plt.plot(Tc, Tm, 'o')\n",
    "plt.plot(Tc_, Tm_)\n",
    "plt.plot(Tc_, Tc_, '--')\n",
    "plt.xlim(xmin, xmax)\n",
    "plt.ylim(xmin, xmax)\n",
    "plt.xlabel('Tc / degC')\n",
    "plt.ylabel('Tm / degC')\n",
    "plt.show()"
   ]
  }
 ],
 "metadata": {
  "kernelspec": {
   "display_name": ".venv",
   "language": "python",
   "name": "python3"
  },
  "language_info": {
   "codemirror_mode": {
    "name": "ipython",
    "version": 3
   },
   "file_extension": ".py",
   "mimetype": "text/x-python",
   "name": "python",
   "nbconvert_exporter": "python",
   "pygments_lexer": "ipython3",
   "version": "3.12.3"
  }
 },
 "nbformat": 4,
 "nbformat_minor": 2
}
