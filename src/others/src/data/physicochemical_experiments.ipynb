{
 "cells": [
  {
   "cell_type": "code",
   "execution_count": null,
   "metadata": {},
   "outputs": [],
   "source": [
    "# 参数\n",
    "flag_water = True  # 水为液态\n",
    "\n",
    "\n",
    "# data 燃烧热\n",
    "D = 2000  # g 水的质量\n",
    "C_water = 4.18  # J/gK 水的比热容\n",
    "# we don't need the data above\n",
    "R = 8.314  # J/(mol·K) 气体常数\n",
    "\n",
    "m_棉线 = 0.0170  # g 棉线的质量\n",
    "Qv_棉线 = -16736  # J/gK 棉线的恒容燃烧热\n",
    "\n",
    "m_点火丝 = 0.0093  # g 点火丝的质量\n",
    "Qv_点火丝 = -3243  # J/gK 点火丝的恒容燃烧热\n",
    "\n",
    "m = 0.7982  # g 总质量\n",
    "m_苯甲酸 = m - m_棉线 - m_点火丝  # g 苯甲酸的质量\n",
    "Mr_苯甲酸 = 122.12  # g/mol 苯甲酸的摩尔质量\n",
    "T = (21.603 + 23.6559) / 2 + 273.15  # K 初始温度\n",
    "Qp_苯甲酸 = -26460  # J/gK 苯甲酸的恒压燃烧热\n",
    "Qv_苯甲酸 = Qp_苯甲酸 - R * T * 1 / Mr_苯甲酸 * (-0.5 if flag_water else 2.5)  # J/gK 苯\n",
    "\n",
    "delta_T = 1.991  # K 温度变化\n",
    "\n",
    "K = (m_苯甲酸 * Qv_苯甲酸 + m_棉线 * Qv_棉线 + (m_点火丝 - 0.0060) * Qv_点火丝) / delta_T\n",
    "print(f'K = {K:.2f} J/K')"
   ]
  },
  {
   "cell_type": "code",
   "execution_count": null,
   "metadata": {},
   "outputs": [],
   "source": [
    "m_棉线 = 0.0184  # g 棉线的质量\n",
    "m_点火丝 = 0.0094  # g 点火丝的质量\n",
    "m = 0.6844  # g 总质量\n",
    "m_萘 = m - m_棉线 - m_点火丝  # g 萘的质量\n",
    "T = (21.7221 + 24.3713) / 2 + 273.15  # K 初始温度\n",
    "Mr_萘 = 128.174  # g/mol 萘的摩尔质量\n",
    "delta_T = 2.651 - 0.037  # K 温度变化\n",
    "print(f'delta_T = {delta_T:.3f} K')\n",
    "\n",
    "Qvm_萘 = Mr_萘 * (K * delta_T - Qv_棉线 * m_棉线 - Qv_点火丝 * (m_点火丝 - 0.0052)) / m_萘\n",
    "Qpm_萘 = Qvm_萘 + R * T * (-2 if flag_water else 2)\n",
    "\n",
    "print(f'Qvm_萘 = {Qvm_萘:.2f} J/Kmol')\n",
    "print(f'Qpm_萘 = {Qpm_萘:.2f} J/Kmol')"
   ]
  },
  {
   "cell_type": "code",
   "execution_count": null,
   "metadata": {},
   "outputs": [],
   "source": [
    "print(-(Qpm_萘 / 1000 + 5153.8) / 5153.8)"
   ]
  }
 ],
 "metadata": {
  "kernelspec": {
   "display_name": ".venv",
   "language": "python",
   "name": "python3"
  },
  "language_info": {
   "codemirror_mode": {
    "name": "ipython",
    "version": 3
   },
   "file_extension": ".py",
   "mimetype": "text/x-python",
   "name": "python",
   "nbconvert_exporter": "python",
   "pygments_lexer": "ipython3",
   "version": "3.12.3"
  }
 },
 "nbformat": 4,
 "nbformat_minor": 2
}
