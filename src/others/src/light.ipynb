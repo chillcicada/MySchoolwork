{
 "cells": [
  {
   "cell_type": "raw",
   "metadata": {
    "vscode": {
     "languageId": "raw"
    }
   },
   "source": [
    "---\n",
    "format: typst\n",
    "---"
   ]
  },
  {
   "cell_type": "code",
   "execution_count": 2,
   "metadata": {},
   "outputs": [],
   "source": [
    "import numpy as np\n",
    "import matplotlib.pyplot as plt\n",
    "import scipy.optimize as opt\n",
    "from slugify import slugify"
   ]
  },
  {
   "cell_type": "code",
   "execution_count": null,
   "metadata": {},
   "outputs": [],
   "source": [
    "# Light scattering\n",
    "# clac the range of q\n",
    "lambda_ = 500  # wavelength, nm\n",
    "\n",
    "n_eg = 1.431  # refractive index of the solvent\n",
    "\n",
    "theta_min = 30  # degree\n",
    "theta_max = 150  # degree\n",
    "\n",
    "theta_min = np.deg2rad(theta_min)\n",
    "theta_max = np.deg2rad(theta_max)\n",
    "\n",
    "q_min = 4 * np.pi * n_eg / lambda_ * np.sin(theta_min / 2) / 10  # 1/A\n",
    "q_max = 4 * np.pi * n_eg / lambda_ * np.sin(theta_max / 2) / 10  # 1/A\n",
    "\n",
    "print(f'q_min: {q_min:.4e}, q_max: {q_max:.4e}')"
   ]
  },
  {
   "cell_type": "code",
   "execution_count": 4,
   "metadata": {},
   "outputs": [],
   "source": [
    "# Utils\n",
    "def clac_q(_theta, _lambda, _n):\n",
    "  return 4 * np.pi * _n / _lambda * np.sin(np.deg2rad(_theta) / 2) / 10  # 1/A\n",
    "\n",
    "\n",
    "def filter_list(_iq, chunk_size=3):\n",
    "  return [np.mean(_iq[i : i + chunk_size]) for i in range(0, len(_iq), chunk_size)]"
   ]
  },
  {
   "cell_type": "code",
   "execution_count": null,
   "metadata": {},
   "outputs": [],
   "source": [
    "# S5\n",
    "temperture_s5 = 295.97  # K\n",
    "viscosity_s5 = 17.7867  # cP\n",
    "refractive_index_s5 = 1.429\n",
    "wave_length_s5 = 628.8  # nm\n",
    "duration_s5 = 300  # s\n",
    "\n",
    "# import data\n",
    "headers_s5 = np.loadtxt('data/light_scattering/S5.csv', delimiter=',', max_rows=1, dtype=str).T\n",
    "data_5 = np.loadtxt('data/light_scattering/S5.csv', delimiter=',', skiprows=1).T\n",
    "\n",
    "q_s5 = clac_q(data_5[0], wave_length_s5, refractive_index_s5)\n",
    "Iq_s5 = data_5[1]\n",
    "\n",
    "q_s5_filtered = filter_list(q_s5)\n",
    "Iq_s5_filtered = filter_list(Iq_s5)\n",
    "\n",
    "\n",
    "# plot\n",
    "def plot_s5_origin1(title):\n",
    "  plt.figure()\n",
    "  plt.scatter(q_s5, Iq_s5, label='S5')\n",
    "  plt.xlabel('q (1/A)')\n",
    "  plt.ylabel('I(q)')\n",
    "  plt.yscale('log')\n",
    "  plt.title(title)\n",
    "  plt.savefig(f'output/{slugify(title)}.png')\n",
    "  plt.legend()\n",
    "  plt.show()\n",
    "  return\n",
    "\n",
    "\n",
    "def plot_s5_origin2(title):\n",
    "  plt.figure()\n",
    "  plt.scatter(q_s5_filtered, Iq_s5_filtered, label='S5')\n",
    "  plt.xlabel('q (1/A)')\n",
    "  plt.ylabel('I(q)')\n",
    "  plt.xscale('log')\n",
    "  plt.yscale('log')\n",
    "  plt.title(title)\n",
    "  plt.savefig(f'output/{slugify(title)}.png')\n",
    "  plt.legend()\n",
    "  plt.show()\n",
    "  return\n",
    "\n",
    "\n",
    "def plot_s5_log10(title):\n",
    "  plt.figure()\n",
    "  plt.scatter(np.log10(q_s5_filtered), np.log10(Iq_s5_filtered), label='S5')\n",
    "  plt.xlabel('log10(q) (1/A)')\n",
    "  plt.ylabel('log10(I(q))')\n",
    "  plt.title(title)\n",
    "  plt.savefig(f'output/{slugify(title)}.png')\n",
    "  plt.legend()\n",
    "  plt.show()\n",
    "  return\n",
    "\n",
    "\n",
    "def plot_s5_log10_with_fit(title):\n",
    "  def linear(x, a, b):\n",
    "    return a * x + b\n",
    "\n",
    "  popt, pcov = opt.curve_fit(linear, np.log10(q_s5_filtered), np.log10(Iq_s5_filtered))\n",
    "  print(f'y = {popt[0]:.4f}x + {popt[1]:.4f}')\n",
    "  # print(f'pcov: {pcov}')\n",
    "\n",
    "  plt.figure()\n",
    "  plt.scatter(np.log10(q_s5_filtered), np.log10(Iq_s5_filtered), label='S5')\n",
    "  plt.plot(np.log10(q_s5_filtered), linear(np.log10(q_s5_filtered), *popt), label='fit', color='red')\n",
    "  plt.xlabel('log10(q) (1/A)')\n",
    "  plt.ylabel('log10(I(q))')\n",
    "  plt.title(title)\n",
    "  plt.savefig(f'output/{slugify(title)}.png')\n",
    "  plt.legend()\n",
    "  plt.show()\n",
    "  return\n",
    "\n",
    "\n",
    "# plot_s5_origin1('Light scattering - S5')\n",
    "# plot_s5_origin2('Light scattering - S5')\n",
    "# plot_s5_log10('Light scattering - S5')\n",
    "plot_s5_log10_with_fit('Light scattering - S5')"
   ]
  },
  {
   "cell_type": "code",
   "execution_count": null,
   "metadata": {},
   "outputs": [],
   "source": []
  }
 ],
 "metadata": {
  "kernelspec": {
   "display_name": ".venv",
   "language": "python",
   "name": "python3"
  },
  "language_info": {
   "codemirror_mode": {
    "name": "ipython",
    "version": 3
   },
   "file_extension": ".py",
   "mimetype": "text/x-python",
   "name": "python",
   "nbconvert_exporter": "python",
   "pygments_lexer": "ipython3",
   "version": "3.12.3"
  }
 },
 "nbformat": 4,
 "nbformat_minor": 2
}
