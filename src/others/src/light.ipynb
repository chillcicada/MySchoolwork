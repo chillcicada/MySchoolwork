{
 "cells": [
  {
   "cell_type": "raw",
   "metadata": {
    "vscode": {
     "languageId": "raw"
    }
   },
   "source": [
    "---\n",
    "format: typst\n",
    "---"
   ]
  },
  {
   "cell_type": "code",
   "execution_count": null,
   "metadata": {},
   "outputs": [],
   "source": [
    "import numpy as np"
   ]
  },
  {
   "cell_type": "code",
   "execution_count": null,
   "metadata": {},
   "outputs": [],
   "source": [
    "# Light scattering\n",
    "# clac the range of q\n",
    "lambda_ = 500  # wavelength, nm\n",
    "\n",
    "n_eg = 1.431  # refractive index of the solvent\n",
    "\n",
    "theta_min = 30  # degree\n",
    "theta_max = 150  # degree\n",
    "\n",
    "theta_min = np.deg2rad(theta_min)\n",
    "theta_max = np.deg2rad(theta_max)\n",
    "\n",
    "q_min = 4 * np.pi * n_eg / lambda_ * np.sin(theta_min / 2) / 10  # 1/A\n",
    "q_max = 4 * np.pi * n_eg / lambda_ * np.sin(theta_max / 2) / 10  # 1/A\n",
    "\n",
    "print(f'q_min: {q_min:.4e}, q_max: {q_max:.4e}')"
   ]
  }
 ],
 "metadata": {
  "kernelspec": {
   "display_name": ".venv",
   "language": "python",
   "name": "python3"
  },
  "language_info": {
   "name": "python",
   "version": "3.12.3"
  }
 },
 "nbformat": 4,
 "nbformat_minor": 2
}
