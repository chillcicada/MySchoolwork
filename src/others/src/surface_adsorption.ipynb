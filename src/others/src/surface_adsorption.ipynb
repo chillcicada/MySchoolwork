{
  "cells": [
    {
      "cell_type": "code",
      "execution_count": 1,
      "metadata": {},
      "outputs": [],
      "source": [
        "import numpy as np\n",
        "import matplotlib.pyplot as plt\n",
        "import scipy.stats as st"
      ]
    },
    {
      "cell_type": "code",
      "execution_count": 2,
      "metadata": {},
      "outputs": [],
      "source": [
        "# import constant data\n",
        "# set concentration\n",
        "concentration = np.array([0, 0.025, 0.0429, 0.0875, 0.1222, 0.15, 0.2, 0.2333, 0.275])\n",
        "\n",
        "# set other constants\n",
        "T = 30 + 273.15  # K\n",
        "R = 8.314  # J/(mol*K)\n",
        "\n",
        "gamma_water = 71.18  # mN/m"
      ]
    },
    {
      "cell_type": "code",
      "execution_count": null,
      "metadata": {},
      "outputs": [],
      "source": [
        "# data_gen\n",
        "raw_data = []\n",
        "\n",
        "for i in range(0, 9):\n",
        "  raw_data.append(np.loadtxt(f'data/surface_adsorption/0{i + 1}.txt', skiprows=1, delimiter=',').T[1])\n",
        "\n",
        "data = []\n",
        "\n",
        "# filter data\n",
        "for _raw_data in raw_data:\n",
        "  _temp = []\n",
        "  _min = np.min(_raw_data)\n",
        "  for i in range(0, len(_raw_data)):\n",
        "    if (\n",
        "      _raw_data[i] - _min <= 10\n",
        "      and i != 0\n",
        "      and i != len(_raw_data) - 1\n",
        "      and _raw_data[i] < _raw_data[i - 1]\n",
        "      and _raw_data[i] < _raw_data[i + 1]\n",
        "    ):\n",
        "      _temp.append(_raw_data[i])\n",
        "  data.append(_temp)\n",
        "\n",
        "for d in data:\n",
        "  # inspect data length\n",
        "  print(len(d), end=' ')\n",
        "\n",
        "# use average as target value\n",
        "avg = np.array([np.mean(d) for d in data])\n",
        "\n",
        "with open('data/surface_adsorption/avg_minimal_pressure.csv', 'w') as f:\n",
        "  f.write('concentration,minimal_pressure\\n')  # header\n",
        "  for i in range(0, len(concentration)):\n",
        "    f.write(f'{concentration[i]:.4f},{avg[i]:.3f}\\n')\n",
        "\n",
        "# clac the machine constant by zero concentration\n",
        "K = gamma_water / avg[0]\n",
        "\n",
        "gamma = K * avg\n",
        "\n",
        "gamma_ = gamma[1:]"
      ]
    },
    {
      "cell_type": "code",
      "execution_count": null,
      "metadata": {},
      "outputs": [],
      "source": [
        "# gamma - c\n"
      ]
    },
    {
      "cell_type": "code",
      "execution_count": null,
      "metadata": {},
      "outputs": [],
      "source": [
        "# gamma - ln(c)\n",
        "\n",
        "# clac ln(concentration)\n",
        "# ignore the first one (zero concentration)\n",
        "ln_concentration = np.log(concentration[1:])\n",
        "\n",
        "# linear regression\n",
        "slope, intercept, r_value, p_value, std_err = st.linregress(ln_concentration, gamma_)\n",
        "\n",
        "print(f'slope: {slope}')\n",
        "print(f'intercept: {intercept}')\n",
        "print(f'r2: {r_value**2}')\n",
        "\n",
        "Gamma_inf = -slope / R / T * 1e-3\n",
        "print(f'Gamma_inf: {Gamma_inf:e}')\n",
        "\n",
        "_ln_c_new = np.linspace(ln_concentration[0], ln_concentration[-1], 100)\n",
        "_gamma_new = [slope * x + intercept for x in _ln_c_new]\n",
        "\n",
        "# plot gamma-ln(c)\n",
        "plt.plot(ln_concentration, gamma_, 'o')\n",
        "plt.plot(_ln_c_new, _gamma_new, '--')\n",
        "plt.xlabel('ln(c)')\n",
        "plt.ylabel('gamma')\n",
        "plt.title('gamma-ln(c)')\n",
        "plt.show()\n",
        "\n",
        "# without last two data points\n",
        "_slope, _intercept, _r_value, _p_value, _std_err = st.linregress(ln_concentration[:-2], gamma_[:-2])\n",
        "\n",
        "print(f'slope: {_slope}')\n",
        "print(f'intercept: {_intercept}')\n",
        "print(f'r2: {_r_value**2}')\n",
        "\n",
        "_Gamma_inf = -_slope / R / T * 1e-3\n",
        "print(f'Gamma_inf: {_Gamma_inf:e}')\n",
        "\n",
        "__ln_c_new = np.linspace(ln_concentration[0], ln_concentration[-1], 100)\n",
        "_gamma_new = [_slope * x + _intercept for x in __ln_c_new]\n",
        "\n",
        "# plot gamma-ln(c)\n",
        "plt.plot(ln_concentration, gamma_, 'o')\n",
        "plt.plot(__ln_c_new, _gamma_new, '--')\n",
        "plt.xlabel('ln(c)')\n",
        "plt.ylabel('gamma')\n",
        "plt.title('gamma-ln(c) without last two data points')\n",
        "plt.show()"
      ]
    },
    {
      "cell_type": "code",
      "execution_count": null,
      "metadata": {},
      "outputs": [],
      "source": [
        "# plot gamma-c\n",
        "# _c_new = [np.exp(x) for x in _ln_c_new]\n",
        "# plt.plot(concentration[1:], gamma_, 'o')\n",
        "# plt.plot(_c_new, _gamma_new, '--')\n",
        "# plt.xlabel('c')\n",
        "# plt.ylabel('gamma')\n",
        "# plt.show()"
      ]
    },
    {
      "cell_type": "code",
      "execution_count": null,
      "metadata": {},
      "outputs": [],
      "source": [
        "# def dif(c):\n",
        "#   return slope / c\n",
        "\n",
        "Z = [-slope / c for c in concentration[1:]]\n",
        "Gamma = [z / R / T * 1e-3 for z in Z]\n",
        "\n",
        "c_Gamma = []\n",
        "\n",
        "for i in range(0, len(concentration[1:])):\n",
        "  c_Gamma.append(concentration[1:][i] / Gamma[i])\n",
        "\n",
        "slope_, intercept_, r_value_, p_value_, std_err_ = st.linregress(concentration[1:], c_Gamma)\n",
        "print(f'slope: {slope_}')\n",
        "print(f'intercept: {intercept_}')\n",
        "print(f'r2: {r_value_**2}')\n",
        "\n",
        "c_new_ = np.linspace(concentration[1], concentration[-1], 100)\n",
        "c_Gamma_new_ = [slope_ * x + intercept_ for x in c_new_]\n",
        "\n",
        "Gamma_inf_ = 1 / slope_\n",
        "print(f'Gamma_inf: {Gamma_inf_:e}')\n",
        "\n",
        "plt.plot(concentration[1:], c_Gamma, 'o')\n",
        "plt.plot(c_new_, c_Gamma_new_, '--')\n",
        "plt.xlabel('c')\n",
        "plt.ylabel('c / Gamma')\n",
        "plt.show()"
      ]
    },
    {
      "cell_type": "code",
      "execution_count": null,
      "metadata": {},
      "outputs": [],
      "source": [
        "# claculate the error\n",
        "Gamma_inf_err = (Gamma_inf - Gamma_inf_) / Gamma_inf\n",
        "print(f'Gamma_inf_err: {Gamma_inf_err * 100}%')"
      ]
    }
  ],
  "metadata": {
    "kernelspec": {
      "display_name": ".venv",
      "language": "python",
      "name": "python3"
    },
    "language_info": {
      "codemirror_mode": {
        "name": "ipython",
        "version": 3
      },
      "file_extension": ".py",
      "mimetype": "text/x-python",
      "name": "python",
      "nbconvert_exporter": "python",
      "pygments_lexer": "ipython3",
      "version": "3.12.3"
    }
  },
  "nbformat": 4,
  "nbformat_minor": 2
}