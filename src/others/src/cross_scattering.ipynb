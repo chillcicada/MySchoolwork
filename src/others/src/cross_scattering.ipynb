{
 "cells": [
  {
   "cell_type": "raw",
   "metadata": {
    "vscode": {
     "languageId": "raw"
    }
   },
   "source": [
    "---\n",
    "format: typst\n",
    "---"
   ]
  },
  {
   "cell_type": "code",
   "execution_count": 1,
   "metadata": {},
   "outputs": [],
   "source": [
    "import numpy as np\n",
    "import matplotlib.pyplot as plt\n",
    "from slugify import slugify"
   ]
  },
  {
   "cell_type": "code",
   "execution_count": 2,
   "metadata": {},
   "outputs": [],
   "source": [
    "# config for plot\n",
    "x_max = 0.4\n",
    "y_min = 0.5"
   ]
  },
  {
   "cell_type": "code",
   "execution_count": 3,
   "metadata": {},
   "outputs": [],
   "source": [
    "# Utils\n",
    "def clac_q(_theta, _lambda, _n):\n",
    "  return 4 * np.pi * _n / _lambda * np.sin(np.deg2rad(_theta) / 2) / 10  # 1/A\n",
    "\n",
    "\n",
    "def filter_list(_iq, chunk_size=3):\n",
    "  return np.array([np.mean(_iq[i : i + chunk_size]) for i in range(0, len(_iq), chunk_size)])"
   ]
  },
  {
   "cell_type": "code",
   "execution_count": null,
   "metadata": {},
   "outputs": [],
   "source": [
    "# S5\n",
    "temperture_s5 = 295.97  # K\n",
    "viscosity_s5 = 17.7867  # cP\n",
    "refractive_index_s5 = 1.429\n",
    "wave_length_s5 = 628.8  # nm\n",
    "duration_s5 = 300  # s\n",
    "\n",
    "\n",
    "# import data s5\n",
    "saxs_data_s5 = np.loadtxt('data/saxs-202411/S_LK-5.dat', skiprows=4, max_rows=1150).T\n",
    "ls_data_s5 = np.loadtxt('data/light_scattering/S5.csv', delimiter=',', skiprows=1).T\n",
    "\n",
    "# get data s5 in a proper range\n",
    "saxs_q_s5_raw = saxs_data_s5[0]\n",
    "range_s5 = saxs_q_s5_raw < x_max\n",
    "saxs_q_s5 = saxs_q_s5_raw[range_s5]\n",
    "saxs_Iq_s5_raw = saxs_data_s5[1]\n",
    "saxs_Iq_s5 = saxs_Iq_s5_raw[range_s5]\n",
    "\n",
    "ls_q_s5 = filter_list(clac_q(ls_data_s5[0], wave_length_s5, refractive_index_s5))\n",
    "ls_Iq_s5 = filter_list(ls_data_s5[1])\n",
    "\n",
    "\n",
    "def plot_s5_origin(title='S5'):\n",
    "  plt.plot(saxs_q_s5_raw, saxs_Iq_s5_raw, label='SAXS')\n",
    "  plt.plot(ls_q_s5, ls_Iq_s5, label='LS')\n",
    "  plt.xlabel('q (1/A)')\n",
    "  plt.ylabel('I(q)')\n",
    "  plt.xscale('log')\n",
    "  plt.yscale('log')\n",
    "  plt.ylim(y_min)\n",
    "  plt.legend()\n",
    "  plt.title(title)\n",
    "  plt.savefig(f'output/{slugify(title)}.png')\n",
    "  plt.show()\n",
    "\n",
    "  pass\n",
    "\n",
    "\n",
    "plot_s5_origin('Light scattering | SAXS - S5')"
   ]
  }
 ],
 "metadata": {
  "kernelspec": {
   "display_name": ".venv",
   "language": "python",
   "name": "python3"
  },
  "language_info": {
   "codemirror_mode": {
    "name": "ipython",
    "version": 3
   },
   "file_extension": ".py",
   "mimetype": "text/x-python",
   "name": "python",
   "nbconvert_exporter": "python",
   "pygments_lexer": "ipython3",
   "version": "3.12.3"
  }
 },
 "nbformat": 4,
 "nbformat_minor": 2
}
