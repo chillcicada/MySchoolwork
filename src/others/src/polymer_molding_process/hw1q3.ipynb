{
 "cells": [
  {
   "cell_type": "code",
   "execution_count": null,
   "metadata": {},
   "outputs": [],
   "source": [
    "import numpy as np\n",
    "import matplotlib.pyplot as plt\n",
    "from scipy.stats import linregress"
   ]
  },
  {
   "cell_type": "code",
   "execution_count": null,
   "metadata": {},
   "outputs": [],
   "source": [
    "# constants\n",
    "T = 2.4e2  # deg C\n",
    "D = 2e-2  # m\n",
    "R = D / 2\n",
    "rho = 8e2  # kg/m^3\n",
    "Q_mass = 0.1  # kg/s\n",
    "Q = Q_mass / rho  # m^3/s\n",
    "\n",
    "print(f'R = {R} m')\n",
    "print(f'Q = {Q} m^3/s')\n",
    "\n",
    "dot_gamma_w_newtonian = 4 * Q / (np.pi * R**3)\n",
    "\n",
    "print(f'dot_gamma_w_newtonian = {dot_gamma_w_newtonian} s^-1')"
   ]
  },
  {
   "cell_type": "code",
   "execution_count": null,
   "metadata": {},
   "outputs": [],
   "source": [
    "# shear rate\n",
    "dot_gamma = np.array([31.6, 100, 316, 1000, 3160])  # s^-1\n",
    "log10_dot_gamma = np.log10(dot_gamma)\n",
    "\n",
    "# shear force\n",
    "tau_w = np.array([1.78e5, 3.16e5, 5.62e5, 1e6, 1.78e6])  # dyn/cm^2\n",
    "tau_w = tau_w * 1e-1  # N/m^2\n",
    "log10_tau_w = np.log10(tau_w)\n",
    "\n",
    "# calculate non-newton index\n",
    "slope, intercept, r_value, p_value, std_err = linregress(log10_dot_gamma, log10_tau_w)\n",
    "\n",
    "n = slope\n",
    "K = 10**intercept\n",
    "print('n:', n)\n",
    "print('K:', K)\n",
    "print('r2 value:', r_value**2)\n",
    "\n",
    "\n",
    "# plot\n",
    "def plot():\n",
    "    _x = np.linspace(min(log10_dot_gamma), max(log10_dot_gamma), 100)\n",
    "    _y = slope * _x + intercept\n",
    "\n",
    "    plt.figure()\n",
    "    plt.plot(log10_dot_gamma, log10_tau_w, '.')\n",
    "    plt.plot(_x, _y, 'r')\n",
    "    plt.xlabel('log10(dot_gamma) [s^-1]')\n",
    "    plt.ylabel('log10(tau_w) [N/m^2]')\n",
    "    plt.grid()\n",
    "    plt.show()\n",
    "    return\n",
    "\n",
    "\n",
    "plot()"
   ]
  },
  {
   "cell_type": "code",
   "execution_count": null,
   "metadata": {},
   "outputs": [],
   "source": [
    "dot_gamma_w_non_newtonian = (3 * n + 1) / (4 * n) * dot_gamma_w_newtonian\n",
    "\n",
    "print(f'dot_gamma_w_non_newtonian = {dot_gamma_w_non_newtonian} s^-1')\n",
    "\n",
    "tau_w_non_newtonian = K * dot_gamma_w_non_newtonian**n\n",
    "\n",
    "print(f'tau_w_non_newtonian = {tau_w_non_newtonian} N/m^2')\n",
    "\n",
    "eta = tau_w_non_newtonian / dot_gamma_w_non_newtonian\n",
    "\n",
    "print(f'eta = {eta} Pa s')"
   ]
  }
 ],
 "metadata": {
  "kernelspec": {
   "display_name": ".venv",
   "language": "python",
   "name": "python3"
  },
  "language_info": {
   "codemirror_mode": {
    "name": "ipython",
    "version": 3
   },
   "file_extension": ".py",
   "mimetype": "text/x-python",
   "name": "python",
   "nbconvert_exporter": "python",
   "pygments_lexer": "ipython3",
   "version": "3.12.3"
  }
 },
 "nbformat": 4,
 "nbformat_minor": 2
}
