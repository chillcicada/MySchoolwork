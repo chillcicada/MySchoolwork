{
 "cells": [
  {
   "cell_type": "code",
   "execution_count": null,
   "metadata": {},
   "outputs": [],
   "source": [
    "import numpy as np\n",
    "import matplotlib.pyplot as plt"
   ]
  },
  {
   "cell_type": "code",
   "execution_count": null,
   "metadata": {},
   "outputs": [],
   "source": [
    "# 定义函数\n",
    "def func(x):\n",
    "  return 1 / (1 - np.exp(-x - 1))\n",
    "\n",
    "\n",
    "# 生成 x 值，避免 x = 0\n",
    "x_values = np.linspace(-5, 2, 400)\n",
    "x_values = x_values[x_values != -1]  # 去除 x=0 以避免除以零\n",
    "\n",
    "# 计算 y 值\n",
    "y_values = func(x_values)\n",
    "\n",
    "# 绘制图像\n",
    "plt.plot(x_values, y_values, label=r'$f(x) = \\frac{1}{1 - \\exp(-x)}$')\n",
    "plt.axhline(0, color='gray', lw=0.5)\n",
    "plt.axvline(0, color='gray', lw=0.5, ls='--')\n",
    "plt.ylim(-10, 10)  # 限制 y 轴以更好地观察趋势\n",
    "plt.xlabel('x')\n",
    "plt.ylabel('f(x)')\n",
    "plt.title('Plot of $f(x) = \\\\frac{1}{1 - \\\\exp(-x)}$')\n",
    "plt.legend()\n",
    "plt.grid(True)\n",
    "plt.show()"
   ]
  },
  {
   "cell_type": "code",
   "execution_count": null,
   "metadata": {},
   "outputs": [],
   "source": [
    "aa = np.array([2, 6])\n",
    "\n",
    "bb = np.array([2, 3])\n",
    "\n",
    "print(aa / bb)"
   ]
  },
  {
   "cell_type": "code",
   "execution_count": null,
   "metadata": {},
   "outputs": [],
   "source": [
    "K = 1.97\n",
    "R = 8.314 * 1e-3\n",
    "T = 298\n",
    "G_standard = -R * T * np.log(K)\n",
    "print(G_standard)"
   ]
  },
  {
   "cell_type": "code",
   "execution_count": null,
   "metadata": {},
   "outputs": [],
   "source": [
    "G = G_standard + R * T * np.log(1 / 3)\n",
    "print(G)"
   ]
  },
  {
   "cell_type": "code",
   "execution_count": null,
   "metadata": {},
   "outputs": [],
   "source": [
    "use_c1 = 0.4\n",
    "use_c2 = 0.5\n",
    "targets = [0.3, 0.25, 0.2, 0.15, 0.1, 0.05, 0.025]\n",
    "\n",
    "use1 = [i * 100 / use_c1 for i in targets]\n",
    "use2 = [i * 100 / use_c2 for i in targets]\n",
    "\n",
    "print(use1)\n",
    "print(use2)"
   ]
  },
  {
   "cell_type": "code",
   "execution_count": null,
   "metadata": {},
   "outputs": [],
   "source": [
    "rho = 1.205  # kg/m3\n",
    "mu = 1.79 * 1e-5  # Pa s\n",
    "d = 0.1 * 1e-3  # m\n",
    "u0 = 0.01  # m/s\n",
    "\n",
    "Re = rho * u0 * d / mu\n",
    "print(Re)"
   ]
  },
  {
   "cell_type": "code",
   "execution_count": null,
   "metadata": {},
   "outputs": [],
   "source": [
    "r0 = d / 2\n",
    "\n",
    "\n",
    "def ur(r, theta):\n",
    "  _ = r0 / r\n",
    "  return u0 * np.cos(theta) * (1 - 3 / 2 * _ + 1 / 2 * _**3)\n",
    "\n",
    "\n",
    "def utheta(r, theta):\n",
    "  _ = r0 / r\n",
    "  return -u0 * np.sin(theta) * (1 - 3 / 4 * _ - 1 / 4 * _**3)\n",
    "\n",
    "\n",
    "print(ur(0.3 * 1e-3, np.pi / 4))\n",
    "print(utheta(0.3 * 1e-3, np.pi / 4))"
   ]
  },
  {
   "cell_type": "code",
   "execution_count": null,
   "metadata": {},
   "outputs": [],
   "source": [
    "def F_df(r):\n",
    "  return 2 * np.pi * r * mu * u0\n",
    "\n",
    "\n",
    "def F_ds(r):\n",
    "  return 4 * np.pi * r * mu * u0\n",
    "\n",
    "\n",
    "def F_d(r):\n",
    "  return F_df(r) + F_ds(r)\n",
    "\n",
    "\n",
    "print(F_df(r0))\n",
    "print(F_ds(r0))\n",
    "print(F_d(r0))"
   ]
  }
 ],
 "metadata": {
  "kernelspec": {
   "display_name": ".venv",
   "language": "python",
   "name": "python3"
  },
  "language_info": {
   "codemirror_mode": {
    "name": "ipython",
    "version": 3
   },
   "file_extension": ".py",
   "mimetype": "text/x-python",
   "name": "python",
   "nbconvert_exporter": "python",
   "pygments_lexer": "ipython3",
   "version": "3.12.3"
  }
 },
 "nbformat": 4,
 "nbformat_minor": 2
}
