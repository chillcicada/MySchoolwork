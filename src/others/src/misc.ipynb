{
 "cells": [
  {
   "cell_type": "code",
   "execution_count": null,
   "metadata": {},
   "outputs": [],
   "source": [
    "import numpy as np"
   ]
  },
  {
   "cell_type": "code",
   "execution_count": null,
   "metadata": {},
   "outputs": [],
   "source": [
    "aa = np.array([2, 6])\n",
    "\n",
    "bb = np.array([2, 3])\n",
    "\n",
    "print(aa / bb)"
   ]
  },
  {
   "cell_type": "code",
   "execution_count": null,
   "metadata": {},
   "outputs": [],
   "source": [
    "K = 1.97\n",
    "R = 8.314 * 1e-3\n",
    "T = 298\n",
    "G_standard = -R * T * np.log(K)\n",
    "print(G_standard)"
   ]
  },
  {
   "cell_type": "code",
   "execution_count": null,
   "metadata": {},
   "outputs": [],
   "source": [
    "G = G_standard + R * T * np.log(1 / 3)\n",
    "print(G)"
   ]
  },
  {
   "cell_type": "code",
   "execution_count": null,
   "metadata": {},
   "outputs": [],
   "source": [
    "use_c1 = 0.4\n",
    "use_c2 = 0.5\n",
    "targets = [0.3, 0.25, 0.2, 0.15, 0.1, 0.05, 0.025]\n",
    "\n",
    "use1 = [i * 100 / use_c1 for i in targets]\n",
    "use2 = [i * 100 / use_c2 for i in targets]\n",
    "\n",
    "print(use1)\n",
    "print(use2)"
   ]
  },
  {
   "cell_type": "code",
   "execution_count": null,
   "metadata": {},
   "outputs": [],
   "source": [
    "rho = 1.205  # kg/m3\n",
    "mu = 1.79 * 1e-5  # Pa s\n",
    "d = 0.1 * 1e-3  # m\n",
    "u0 = 0.01  # m/s\n",
    "\n",
    "Re = rho * u0 * d / mu\n",
    "print(Re)"
   ]
  },
  {
   "cell_type": "code",
   "execution_count": null,
   "metadata": {},
   "outputs": [],
   "source": [
    "r0 = d / 2\n",
    "\n",
    "\n",
    "def ur(r, theta):\n",
    "  _ = r0 / r\n",
    "  return u0 * np.cos(theta) * (1 - 3 / 2 * _ + 1 / 2 * _**3)\n",
    "\n",
    "\n",
    "def utheta(r, theta):\n",
    "  _ = r0 / r\n",
    "  return -u0 * np.sin(theta) * (1 - 3 / 4 * _ - 1 / 4 * _**3)\n",
    "\n",
    "\n",
    "print(ur(0.3 * 1e-3, np.pi / 4))\n",
    "print(utheta(0.3 * 1e-3, np.pi / 4))"
   ]
  },
  {
   "cell_type": "code",
   "execution_count": null,
   "metadata": {},
   "outputs": [],
   "source": [
    "def F_df(r):\n",
    "  return 2 * np.pi * r * mu * u0\n",
    "\n",
    "\n",
    "def F_ds(r):\n",
    "  return 4 * np.pi * r * mu * u0\n",
    "\n",
    "\n",
    "def F_d(r):\n",
    "  return F_df(r) + F_ds(r)\n",
    "\n",
    "\n",
    "print(F_df(r0))\n",
    "print(F_ds(r0))\n",
    "print(F_d(r0))"
   ]
  }
 ],
 "metadata": {
  "kernelspec": {
   "display_name": ".venv",
   "language": "python",
   "name": "python3"
  },
  "language_info": {
   "codemirror_mode": {
    "name": "ipython",
    "version": 3
   },
   "file_extension": ".py",
   "mimetype": "text/x-python",
   "name": "python",
   "nbconvert_exporter": "python",
   "pygments_lexer": "ipython3",
   "version": "3.12.3"
  }
 },
 "nbformat": 4,
 "nbformat_minor": 2
}
