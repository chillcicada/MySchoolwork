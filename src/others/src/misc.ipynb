{
 "cells": [
  {
   "cell_type": "code",
   "execution_count": 1,
   "metadata": {},
   "outputs": [],
   "source": [
    "import numpy as np"
   ]
  },
  {
   "cell_type": "code",
   "execution_count": null,
   "metadata": {},
   "outputs": [],
   "source": [
    "K = 1.97\n",
    "R = 8.314 * 1e-3\n",
    "T = 298\n",
    "G_standard = -R * T * np.log(K)\n",
    "print(G_standard)"
   ]
  },
  {
   "cell_type": "code",
   "execution_count": null,
   "metadata": {},
   "outputs": [],
   "source": [
    "G = G_standard + R * T * np.log(1 / 3)\n",
    "print(G)"
   ]
  },
  {
   "cell_type": "code",
   "execution_count": null,
   "metadata": {},
   "outputs": [],
   "source": [
    "use_c1 = 0.4\n",
    "use_c2 = 0.5\n",
    "targets = [0.3, 0.25, 0.2, 0.15, 0.1, 0.05, 0.025]\n",
    "\n",
    "use1 = [i * 100 / use_c1 for i in targets]\n",
    "use2 = [i * 100 / use_c2 for i in targets]\n",
    "\n",
    "print(use1)\n",
    "print(use2)"
   ]
  }
 ],
 "metadata": {
  "kernelspec": {
   "display_name": ".venv",
   "language": "python",
   "name": "python3"
  },
  "language_info": {
   "codemirror_mode": {
    "name": "ipython",
    "version": 3
   },
   "file_extension": ".py",
   "mimetype": "text/x-python",
   "name": "python",
   "nbconvert_exporter": "python",
   "pygments_lexer": "ipython3",
   "version": "3.12.3"
  }
 },
 "nbformat": 4,
 "nbformat_minor": 2
}
