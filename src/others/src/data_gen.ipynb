{
 "cells": [
  {
   "cell_type": "code",
   "execution_count": 1,
   "metadata": {},
   "outputs": [],
   "source": [
    "import numpy as np"
   ]
  },
  {
   "cell_type": "code",
   "execution_count": null,
   "metadata": {},
   "outputs": [],
   "source": [
    "# data begins at line 15-61\n",
    "data1 = np.loadtxt('data/2024-9-25-lk_swj_1.txt', skiprows=14)\n",
    "data2 = np.loadtxt('data/2024-9-25-lk_swj_2.txt', skiprows=14)\n",
    "\n",
    "delta_data1 = [data1[i] - data1[0] for i in range(len(data1))]\n",
    "delta_data2 = [data2[i] - data2[0] for i in range(len(data2))]\n",
    "\n",
    "times = np.linspace(0, 24, 48)\n",
    "# remove the last element\n",
    "times = times[:-1]\n",
    "\n",
    "data1.shape == data2.shape == (47,)"
   ]
  },
  {
   "cell_type": "code",
   "execution_count": 7,
   "metadata": {},
   "outputs": [],
   "source": [
    "with open('data/benzoic_acid.csv', 'w') as f:\n",
    "  # times, delta_data1\n",
    "  for i in range(len(times)):\n",
    "    f.write(f'{times[i]},{delta_data1[i]}\\n')"
   ]
  },
  {
   "cell_type": "code",
   "execution_count": 8,
   "metadata": {},
   "outputs": [],
   "source": [
    "with open('data/naphthalene.csv', 'w') as f:\n",
    "  # times, delta_data2\n",
    "  for i in range(len(times)):\n",
    "    f.write(f'{times[i]},{delta_data2[i]}\\n')"
   ]
  }
 ],
 "metadata": {
  "kernelspec": {
   "display_name": ".venv",
   "language": "python",
   "name": "python3"
  },
  "language_info": {
   "codemirror_mode": {
    "name": "ipython",
    "version": 3
   },
   "file_extension": ".py",
   "mimetype": "text/x-python",
   "name": "python",
   "nbconvert_exporter": "python",
   "pygments_lexer": "ipython3",
   "version": "3.12.3"
  }
 },
 "nbformat": 4,
 "nbformat_minor": 2
}
