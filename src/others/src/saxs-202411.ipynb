{
 "cells": [
  {
   "cell_type": "code",
   "execution_count": null,
   "metadata": {},
   "outputs": [],
   "source": [
    "import numpy as np\n",
    "import matplotlib.pyplot as plt"
   ]
  },
  {
   "cell_type": "code",
   "execution_count": null,
   "metadata": {},
   "outputs": [],
   "source": [
    "# import data\n",
    "data_num = 9\n",
    "\n",
    "raw_data = []\n",
    "\n",
    "for i in range(data_num):\n",
    "  raw_data.append(np.loadtxt('data/saxs-202411/S_LK-' + str(i + 1) + '.dat', skiprows=4, max_rows=1150).T)\n",
    "\n",
    "raw_data = np.array(raw_data)\n",
    "\n",
    "print(raw_data.shape)\n",
    "\n",
    "labels = [\n",
    "  '1 gL 0% HCl',\n",
    "  '1 gL 40% HCl',\n",
    "  '1 gL 60% HCl',\n",
    "  '1 gL 80% HCl',\n",
    "  '1 gL 100% HCl',\n",
    "  '5 gL 40% HCl',\n",
    "  '5 gL 60% HCl',\n",
    "  '5 gL 80% HCl',\n",
    "  '5 gL 100% HCl',\n",
    "]\n",
    "\n",
    "class_one = [0, 1, 2, 3, 4]\n",
    "\n",
    "class_two = [5, 6, 7, 8]\n",
    "\n",
    "class_three = [[1, 5], [2, 6], [3, 7], [4, 8]]"
   ]
  },
  {
   "cell_type": "code",
   "execution_count": null,
   "metadata": {},
   "outputs": [],
   "source": [
    "# config for plot\n",
    "x_min = 0.008\n",
    "x_max = 0.3\n",
    "y_min = 0.8"
   ]
  },
  {
   "cell_type": "code",
   "execution_count": null,
   "metadata": {},
   "outputs": [],
   "source": [
    "# plot zeroth class\n",
    "plt.figure()\n",
    "plt.loglog(raw_data[0, 0], raw_data[0, 1], label=labels[0])\n",
    "plt.xlabel('q (1/A)')\n",
    "plt.ylabel('Intensity (a.u.)')\n",
    "plt.title('Zeroth class')\n",
    "plt.xlim(x_min, x_max)\n",
    "plt.ylim(y_min)\n",
    "plt.legend()\n",
    "plt.show()"
   ]
  },
  {
   "cell_type": "code",
   "execution_count": null,
   "metadata": {},
   "outputs": [],
   "source": [
    "# plot all data\n",
    "plt.figure()\n",
    "for i in range(data_num):\n",
    "  plt.loglog(raw_data[i, 0], raw_data[i, 1], label=labels[i])\n",
    "\n",
    "plt.xlabel('q (1/A)')\n",
    "plt.ylabel('Intensity (a.u.)')\n",
    "plt.title('All data')\n",
    "plt.xlim(x_min, x_max)\n",
    "plt.ylim(y_min)\n",
    "plt.legend()\n",
    "plt.show()"
   ]
  },
  {
   "cell_type": "code",
   "execution_count": null,
   "metadata": {},
   "outputs": [],
   "source": [
    "# plot data for calss one\n",
    "plt.figure()\n",
    "for i in class_one:\n",
    "  plt.loglog(raw_data[i, 0], raw_data[i, 1], label=labels[i])\n",
    "\n",
    "plt.xlabel('q (1/A)')\n",
    "plt.ylabel('Intensity (a.u.)')\n",
    "plt.title('Class One')\n",
    "plt.xlim(x_min, x_max)\n",
    "plt.ylim(y_min)\n",
    "plt.legend()\n",
    "plt.show()"
   ]
  },
  {
   "cell_type": "code",
   "execution_count": null,
   "metadata": {},
   "outputs": [],
   "source": [
    "# plot data for calss two\n",
    "plt.figure()\n",
    "for i in class_two:\n",
    "  plt.loglog(raw_data[i, 0], raw_data[i, 1], label=labels[i])\n",
    "\n",
    "plt.xlabel('q (1/A)')\n",
    "plt.ylabel('Intensity (a.u.)')\n",
    "plt.title('Class Two')\n",
    "plt.xlim(x_min, x_max)\n",
    "plt.ylim(y_min)\n",
    "plt.legend()\n",
    "plt.show()"
   ]
  },
  {
   "cell_type": "code",
   "execution_count": null,
   "metadata": {},
   "outputs": [],
   "source": [
    "# plt data for class three with subplots\n",
    "plt.figure(figsize=(10, 10))\n",
    "fig, axs = plt.subplots(2, 2)\n",
    "for i, ax in enumerate(axs.flat):\n",
    "  for j in class_three[i]:\n",
    "    ax.loglog(raw_data[j, 0], raw_data[j, 1], label=labels[j])\n",
    "\n",
    "  ax.set_xlabel('q (1/A)')\n",
    "  ax.set_ylabel('Intensity (a.u.)')\n",
    "  ax.set_title('Class Three ' + str(i + 1))\n",
    "  ax.set_xlim(x_min, x_max)\n",
    "  ax.set_ylim(y_min)\n",
    "  ax.legend()\n",
    "\n",
    "plt.tight_layout()\n",
    "plt.show()"
   ]
  }
 ],
 "metadata": {
  "kernelspec": {
   "display_name": ".venv",
   "language": "python",
   "name": "python3"
  },
  "language_info": {
   "codemirror_mode": {
    "name": "ipython",
    "version": 3
   },
   "file_extension": ".py",
   "mimetype": "text/x-python",
   "name": "python",
   "nbconvert_exporter": "python",
   "pygments_lexer": "ipython3",
   "version": "3.12.3"
  }
 },
 "nbformat": 4,
 "nbformat_minor": 2
}
