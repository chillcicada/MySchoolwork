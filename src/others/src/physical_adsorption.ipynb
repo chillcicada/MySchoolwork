{
 "cells": [
  {
   "cell_type": "code",
   "execution_count": null,
   "metadata": {},
   "outputs": [],
   "source": [
    "import numpy as np\n",
    "import scipy.integrate as itg\n",
    "import matplotlib.pyplot as plt\n",
    "from matplotlib.ticker import ScalarFormatter"
   ]
  },
  {
   "cell_type": "code",
   "execution_count": null,
   "metadata": {},
   "outputs": [],
   "source": [
    "# load data\n",
    "data_5 = np.loadtxt('data/physical_adsorption/241030-4A-5.csv', delimiter=',', skiprows=1).T\n",
    "data_10 = np.loadtxt('data/physical_adsorption/241030-4A-10.csv', delimiter=',', skiprows=1).T\n",
    "data_15 = np.loadtxt('data/physical_adsorption/241030-4A-15.csv', delimiter=',', skiprows=1).T\n",
    "data_20 = np.loadtxt('data/physical_adsorption/241030-4A-20.csv', delimiter=',', skiprows=1).T\n",
    "\n",
    "data = [data_5, data_10, data_15, data_20]\n",
    "\n",
    "start_end = np.loadtxt('data/physical_adsorption/start_end.csv', delimiter=',')"
   ]
  },
  {
   "cell_type": "code",
   "execution_count": null,
   "metadata": {},
   "outputs": [],
   "source": [
    "plt.figure(figsize=(10, 8))  # 设置图形大小\n",
    "\n",
    "# 创建一个格式化器对象，设置使用科学记数法（指数）\n",
    "formatter = ScalarFormatter(useMathText=True)\n",
    "formatter.set_scientific(True)\n",
    "formatter.set_powerlimits((-1, 1))  # 设置科学记数法阈值\n",
    "\n",
    "# 第一个子图\n",
    "ax1 = plt.subplot(2, 2, 1)\n",
    "ax1.plot(data_5[0], data_5[2], label='Sample 5')\n",
    "ax1.set_title('Sample 5')\n",
    "ax1.set_xlabel('Relative Pressure')\n",
    "ax1.set_ylabel('Adsorption')\n",
    "ax1.legend()\n",
    "ax1.xaxis.set_major_formatter(formatter)  # 设置x轴格式器\n",
    "\n",
    "# 第二个子图\n",
    "ax2 = plt.subplot(2, 2, 2)\n",
    "ax2.plot(data_10[0], data_10[2], label='Sample 10')\n",
    "ax2.set_title('Sample 10')\n",
    "ax2.set_xlabel('Relative Pressure')\n",
    "ax2.set_ylabel('Adsorption')\n",
    "ax2.legend()\n",
    "ax2.xaxis.set_major_formatter(formatter)\n",
    "\n",
    "# 第三个子图\n",
    "ax3 = plt.subplot(2, 2, 3)\n",
    "ax3.plot(data_15[0], data_15[2], label='Sample 15')\n",
    "ax3.set_title('Sample 15')\n",
    "ax3.set_xlabel('Relative Pressure')\n",
    "ax3.set_ylabel('Adsorption')\n",
    "ax3.legend()\n",
    "ax3.xaxis.set_major_formatter(formatter)\n",
    "\n",
    "# 第四个子图\n",
    "ax4 = plt.subplot(2, 2, 4)\n",
    "ax4.plot(data_20[0], data_20[2], label='Sample 20')\n",
    "ax4.set_title('Sample 20')\n",
    "ax4.set_xlabel('Relative Pressure')\n",
    "ax4.set_ylabel('Adsorption')\n",
    "ax4.legend()\n",
    "ax4.xaxis.set_major_formatter(formatter)\n",
    "\n",
    "# 调整子图间距，避免标签重叠\n",
    "plt.tight_layout()\n",
    "\n",
    "plt.show()"
   ]
  },
  {
   "cell_type": "code",
   "execution_count": null,
   "metadata": {},
   "outputs": [],
   "source": [
    "# claculate the area for data_5\n",
    "_idx = 0\n",
    "_class = 0\n",
    "result = []\n",
    "_result = []\n",
    "for ab in start_end:\n",
    "  if _idx > 2:\n",
    "    _class += 1\n",
    "    _idx = 0\n",
    "    result.append(_result)\n",
    "    _result = []\n",
    "\n",
    "  _data = data[_class]\n",
    "\n",
    "  a, b = ab\n",
    "  start_ = np.searchsorted(_data[0], a)\n",
    "  end_ = np.searchsorted(_data[0], b)\n",
    "\n",
    "  area = itg.simpson(_data[2][start_ : end_ + 1], x=_data[0][start_ : end_ + 1])\n",
    "\n",
    "  _result.append(area)\n",
    "\n",
    "  print(f'data_{(_class + 1)*5}  {a} to {b}: {area:e}')\n",
    "  _idx += 1\n",
    "\n",
    "result.append(_result)\n",
    "\n",
    "with open('data/physical_adsorption/area.csv', 'w') as f:\n",
    "  for r in result:\n",
    "    f.write(','.join([str(i) for i in r]) + '\\n')"
   ]
  },
  {
   "cell_type": "code",
   "execution_count": null,
   "metadata": {},
   "outputs": [],
   "source": []
  }
 ],
 "metadata": {
  "kernelspec": {
   "display_name": ".venv",
   "language": "python",
   "name": "python3"
  },
  "language_info": {
   "codemirror_mode": {
    "name": "ipython",
    "version": 3
   },
   "file_extension": ".py",
   "mimetype": "text/x-python",
   "name": "python",
   "nbconvert_exporter": "python",
   "pygments_lexer": "ipython3",
   "version": "3.12.3"
  }
 },
 "nbformat": 4,
 "nbformat_minor": 2
}
