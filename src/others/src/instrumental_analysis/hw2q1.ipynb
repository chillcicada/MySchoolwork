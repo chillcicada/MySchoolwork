{
 "cells": [
  {
   "cell_type": "code",
   "execution_count": null,
   "metadata": {},
   "outputs": [],
   "source": [
    "import numpy as np\n",
    "import matplotlib.pyplot as plt\n",
    "from scipy.stats import linregress"
   ]
  },
  {
   "cell_type": "code",
   "execution_count": null,
   "metadata": {},
   "outputs": [],
   "source": [
    "# M_n = np.array([1000, 4170, 6150, 16000])\n",
    "M_n = np.array([1000, 6150, 16000])\n",
    "\n",
    "reciprocal_M_n = 1 / M_n\n",
    "\n",
    "# T_m = np.array([36.7, 41.5, 61.3, 68.5]) + 273.15  # K\n",
    "T_m = np.array([36.7, 61.3, 68.5]) + 273.15  # K\n",
    "\n",
    "reciprocal_T_m = 1 / T_m\n",
    "\n",
    "slope, intercept, r_value, p_value, std_err = linregress(reciprocal_M_n, reciprocal_T_m)\n",
    "print(f'R^2 = {r_value**2:.4f}')\n",
    "\n",
    "T_m_0 = 1 / intercept\n",
    "print(f'intercept = {intercept:.5f}')\n",
    "print(f'T_m_0 = {T_m_0:.2f} K, {T_m_0 - 273.15:.2f} °C')"
   ]
  },
  {
   "cell_type": "code",
   "execution_count": null,
   "metadata": {},
   "outputs": [],
   "source": [
    "def plot():\n",
    "    _x = np.linspace(min(reciprocal_M_n), max(reciprocal_M_n), 100)\n",
    "    _y = slope * _x + intercept\n",
    "\n",
    "    plt.figure()\n",
    "    plt.plot(reciprocal_M_n, reciprocal_T_m, 'o')\n",
    "    plt.plot(_x, _y)\n",
    "    plt.xlabel('1 / M_n')\n",
    "    plt.ylabel('1 / T_m')\n",
    "    plt.title('1 / T_m vs 1 / M_n')\n",
    "    plt.grid()\n",
    "    plt.show()\n",
    "    pass\n",
    "\n",
    "\n",
    "plot()"
   ]
  }
 ],
 "metadata": {
  "kernelspec": {
   "display_name": ".venv",
   "language": "python",
   "name": "python3"
  },
  "language_info": {
   "codemirror_mode": {
    "name": "ipython",
    "version": 3
   },
   "file_extension": ".py",
   "mimetype": "text/x-python",
   "name": "python",
   "nbconvert_exporter": "python",
   "pygments_lexer": "ipython3",
   "version": "3.12.3"
  }
 },
 "nbformat": 4,
 "nbformat_minor": 2
}
