{
 "cells": [
  {
   "cell_type": "code",
   "execution_count": null,
   "metadata": {},
   "outputs": [],
   "source": [
    "import numpy as np"
   ]
  },
  {
   "cell_type": "code",
   "execution_count": null,
   "metadata": {},
   "outputs": [],
   "source": [
    "A = np.array([[3, 1], [4, 1]])\n",
    "\n",
    "b = np.array([np.log10(8.6), np.log10(9.83)])\n",
    "\n",
    "try:\n",
    "    x = np.linalg.solve(A, b)\n",
    "except np.linalg.LinAlgError:\n",
    "    print('Matrix is singular')\n",
    "\n",
    "[a, b] = x\n",
    "\n",
    "print(f'a = {a:.4f}, b = {b:.4f}')\n",
    "\n",
    "\n",
    "def get_t_R(n):\n",
    "    return 10 ** (a * n + b)\n",
    "\n",
    "\n",
    "print(get_t_R(2))"
   ]
  },
  {
   "cell_type": "code",
   "execution_count": null,
   "metadata": {},
   "outputs": [],
   "source": [
    "lg = np.log10\n",
    "\n",
    "i_1 = 100 * (\n",
    "    4 + (lg(2.95 - 0.28) - lg(2.49 - 0.28)) / (lg(4.38 - 0.28) - lg(2.49 - 0.28))\n",
    ")\n",
    "print(f'I = {i_1:.0f}')\n",
    "\n",
    "i_2 = 100 * (\n",
    "    6 + (lg(10.11 - 0.28) - lg(7.89 - 0.28)) / (lg(14.36 - 0.28) - lg(7.89 - 0.28))\n",
    ")\n",
    "print(f'I = {i_2:.0f}')"
   ]
  }
 ],
 "metadata": {
  "kernelspec": {
   "display_name": ".venv",
   "language": "python",
   "name": "python3"
  },
  "language_info": {
   "codemirror_mode": {
    "name": "ipython",
    "version": 3
   },
   "file_extension": ".py",
   "mimetype": "text/x-python",
   "name": "python",
   "nbconvert_exporter": "python",
   "pygments_lexer": "ipython3",
   "version": "3.13.3"
  }
 },
 "nbformat": 4,
 "nbformat_minor": 2
}
