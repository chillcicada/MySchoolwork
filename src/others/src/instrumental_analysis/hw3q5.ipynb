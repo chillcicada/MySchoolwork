{
 "cells": [
  {
   "cell_type": "code",
   "execution_count": null,
   "metadata": {},
   "outputs": [],
   "source": [
    "import numpy as np"
   ]
  },
  {
   "cell_type": "code",
   "execution_count": null,
   "metadata": {},
   "outputs": [],
   "source": [
    "H = np.array([8.299e-4, 8e-4, 1e-3])\n",
    "\n",
    "b = np.array([[1, 1 / 10, 10], [1, 1 / 20, 20], [1, 1 / 40, 40]])\n",
    "\n",
    "try:\n",
    "    x = np.linalg.solve(b, H)\n",
    "    print('解为:', x)\n",
    "except np.linalg.LinAlgError:\n",
    "    print('矩阵A是奇异的，方程组无唯一解。')"
   ]
  },
  {
   "cell_type": "code",
   "execution_count": null,
   "metadata": {},
   "outputs": [],
   "source": [
    "A, B, C = x\n",
    "\n",
    "u_m = np.sqrt(B / C)\n",
    "print(f'u_m = {u_m:.3f}')"
   ]
  },
  {
   "cell_type": "code",
   "execution_count": null,
   "metadata": {},
   "outputs": [],
   "source": [
    "def get_H(u):\n",
    "    return A + B / u + C * u\n",
    "\n",
    "\n",
    "print(f'H(u_m) = {get_H(u_m):.3e}')"
   ]
  }
 ],
 "metadata": {
  "kernelspec": {
   "display_name": ".venv",
   "language": "python",
   "name": "python3"
  },
  "language_info": {
   "codemirror_mode": {
    "name": "ipython",
    "version": 3
   },
   "file_extension": ".py",
   "mimetype": "text/x-python",
   "name": "python",
   "nbconvert_exporter": "python",
   "pygments_lexer": "ipython3",
   "version": "3.12.3"
  }
 },
 "nbformat": 4,
 "nbformat_minor": 2
}
