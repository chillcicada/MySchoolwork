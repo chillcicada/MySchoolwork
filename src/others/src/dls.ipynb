{
 "cells": [
  {
   "cell_type": "raw",
   "metadata": {
    "vscode": {
     "languageId": "raw"
    }
   },
   "source": [
    "---\n",
    "format: typst\n",
    "---"
   ]
  },
  {
   "cell_type": "code",
   "execution_count": null,
   "metadata": {},
   "outputs": [],
   "source": [
    "import numpy as np\n",
    "import matplotlib.pyplot as plt"
   ]
  },
  {
   "cell_type": "code",
   "execution_count": null,
   "metadata": {},
   "outputs": [],
   "source": [
    "# import data\n",
    "\n",
    "# name rules:\n",
    "# original concentration, polymer, acid, chem, salt env, z scale, type\n",
    "# type: i - intensity, n - number\n",
    "\n",
    "data_map = {\n",
    "  '0711-1': {  # 20gL_PSS-PVP200_0.3HCl_0.1chem_salt_0.25z\n",
    "    'i': '20gL_PSS-PVP200_0.3HCl_0.1chem_salt_0.25z_i',\n",
    "    'n': '20gL_PSS-PVP200_0.3HCl_0.1chem_salt_0.25z_n',\n",
    "  },\n",
    "}"
   ]
  },
  {
   "cell_type": "code",
   "execution_count": null,
   "metadata": {},
   "outputs": [],
   "source": [
    "# plot\n",
    "def use_plot(data, title, label, x_label, y_label):\n",
    "  plt.figure(figsize=(10, 5))\n",
    "  x = data[:, 0]\n",
    "\n",
    "  for i, y in enumerate(data[:, 1:].T):\n",
    "    plt.plot(x, y, label=f'{label}_{i + 1}')\n",
    "    pass\n",
    "\n",
    "  plt.xscale('symlog')\n",
    "  plt.xlim(0.1, 10000)\n",
    "  plt.title(title)\n",
    "  plt.xlabel(x_label)\n",
    "  plt.ylabel(y_label)\n",
    "  plt.legend()\n",
    "  plt.savefig(f'output/{title}.png', dpi=800)\n",
    "  plt.show()\n",
    "  return\n",
    "\n",
    "\n",
    "use_plot(\n",
    "  np.loadtxt(f'data/{data_map[\"0711-1\"][\"i\"]}.csv', delimiter=',', skiprows=1),\n",
    "  'X-Intensity',\n",
    "  'Intensity',\n",
    "  'Size (d.nm)',\n",
    "  'Intensity',\n",
    ")\n",
    "\n",
    "use_plot(\n",
    "  np.loadtxt(f'data/{data_map[\"0711-1\"][\"n\"]}.csv', delimiter=',', skiprows=1),\n",
    "  'X-Number',\n",
    "  'Number',\n",
    "  'Size (d.nm)',\n",
    "  'Number',\n",
    ")"
   ]
  },
  {
   "cell_type": "code",
   "execution_count": null,
   "metadata": {},
   "outputs": [],
   "source": []
  }
 ],
 "metadata": {
  "kernelspec": {
   "display_name": ".venv",
   "language": "python",
   "name": "python3"
  },
  "language_info": {
   "codemirror_mode": {
    "name": "ipython",
    "version": 3
   },
   "file_extension": ".py",
   "mimetype": "text/x-python",
   "name": "python",
   "nbconvert_exporter": "python",
   "pygments_lexer": "ipython3",
   "version": "3.12.3"
  }
 },
 "nbformat": 4,
 "nbformat_minor": 2
}
