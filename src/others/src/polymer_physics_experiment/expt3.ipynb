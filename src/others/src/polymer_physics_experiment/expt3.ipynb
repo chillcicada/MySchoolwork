{
 "cells": [
  {
   "cell_type": "code",
   "execution_count": null,
   "metadata": {},
   "outputs": [],
   "source": [
    "import numpy as np"
   ]
  },
  {
   "cell_type": "code",
   "execution_count": null,
   "metadata": {},
   "outputs": [],
   "source": [
    "point = np.array([184, 213])\n",
    "\n",
    "center = np.array([200, 200])\n",
    "\n",
    "d = np.linalg.norm(point - center)\n",
    "d_real = d / 200 * 50.45  # mm\n",
    "L = 300.1  # mm\n",
    "lambda_ = 780e-9  # m\n",
    "\n",
    "theta = np.arctan(d_real / L)\n",
    "\n",
    "R = 4.09 * lambda_ / np.sin(theta / 2) / 4 / np.pi\n",
    "print(R)"
   ]
  }
 ],
 "metadata": {
  "kernelspec": {
   "display_name": ".venv (3.12.3)",
   "language": "python",
   "name": "python3"
  },
  "language_info": {
   "codemirror_mode": {
    "name": "ipython",
    "version": 3
   },
   "file_extension": ".py",
   "mimetype": "text/x-python",
   "name": "python",
   "nbconvert_exporter": "python",
   "pygments_lexer": "ipython3",
   "version": "3.12.3"
  }
 },
 "nbformat": 4,
 "nbformat_minor": 2
}
