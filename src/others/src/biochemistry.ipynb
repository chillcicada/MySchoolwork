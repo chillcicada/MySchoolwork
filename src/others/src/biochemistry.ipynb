{
 "cells": [
  {
   "cell_type": "code",
   "execution_count": 1,
   "metadata": {},
   "outputs": [],
   "source": [
    "from matplotlib import pyplot as plt\n",
    "import numpy as np"
   ]
  },
  {
   "cell_type": "code",
   "execution_count": 2,
   "metadata": {},
   "outputs": [],
   "source": [
    "ATP = np.array([5, 3, 1, 0.2, 5])\n",
    "ADP = np.array([0.2, 2.2, 4.2, 5.0, 25])\n",
    "Pi = np.array([10, 12.1, 14.1, 14.9, 10])"
   ]
  },
  {
   "cell_type": "code",
   "execution_count": null,
   "metadata": {},
   "outputs": [],
   "source": [
    "Q = ADP * Pi / ATP\n",
    "print(Q)\n",
    "print(np.log(Q * 1e-3))"
   ]
  },
  {
   "cell_type": "code",
   "execution_count": null,
   "metadata": {},
   "outputs": [],
   "source": [
    "G_change_standard = -30.5  # kJ*mol-1\n",
    "R = 8.314 * 1e-3  # kJ*mol-1*K-1\n",
    "T = 298  # K\n",
    "G_change = R * T * np.log(Q * 1e-3) + G_change_standard\n",
    "print(G_change)"
   ]
  },
  {
   "cell_type": "code",
   "execution_count": null,
   "metadata": {},
   "outputs": [],
   "source": [
    "InQ = np.log(Q * 1e-3)\n",
    "plt.plot(InQ, G_change, '--')\n",
    "plt.plot(InQ, G_change, 'o', label='data')\n",
    "plt.xlabel('InQ')\n",
    "plt.ylabel('ΔG')\n",
    "plt.show()"
   ]
  }
 ],
 "metadata": {
  "kernelspec": {
   "display_name": ".venv",
   "language": "python",
   "name": "python3"
  },
  "language_info": {
   "codemirror_mode": {
    "name": "ipython",
    "version": 3
   },
   "file_extension": ".py",
   "mimetype": "text/x-python",
   "name": "python",
   "nbconvert_exporter": "python",
   "pygments_lexer": "ipython3",
   "version": "3.12.3"
  }
 },
 "nbformat": 4,
 "nbformat_minor": 2
}
