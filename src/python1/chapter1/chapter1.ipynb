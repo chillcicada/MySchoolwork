{
 "cells": [
  {
   "cell_type": "raw",
   "id": "1b67f989",
   "metadata": {
    "vscode": {
     "languageId": "raw"
    }
   },
   "source": [
    "---\n",
    "format: typst\n",
    "---"
   ]
  },
  {
   "cell_type": "markdown",
   "id": "4e24071a",
   "metadata": {},
   "source": [
    "```{=typst}\n",
    "#import \"../common/template.typ\": conf\n",
    "#import \"../common/dotenv.typ\": env\n",
    "\n",
    "#show: doc => conf(\n",
    "  title: [第一章作业报告],\n",
    "  authors: (\n",
    "    (\n",
    "      name: env.STUDENT_NAME,\n",
    "      studentID: env.STUDENT_ID,\n",
    "      email: env.STUDENT_EMAIL,\n",
    "    ),\n",
    "  ),\n",
    "  doc,\n",
    ")\n",
    "\n",
    "```\n"
   ]
  },
  {
   "cell_type": "markdown",
   "id": "e77dc6c5",
   "metadata": {},
   "source": [
    "```{=typst}\n",
    "= 习题一\n",
    "\n",
    "== 题目\n",
    "\n",
    "接受两个数，一个为用户一年期定期存款本金，一个为一年期定期存款利率。计算一年期满后本金与利息总额。说明：（1）存款金额以人民币元为单位；（2）输入利率时不需要输入百分号，例如一年期定期存款年利率为2.52%，用户输入 2.52 即可。\n",
    "\n",
    "== 思路\n",
    "\n",
    "输入输出，输入格式为 `number1 number2`。\n",
    "\n",
    "== 代码\n",
    "\n",
    "```\n"
   ]
  },
  {
   "cell_type": "code",
   "execution_count": null,
   "id": "initial_id",
   "metadata": {
    "ExecuteTime": {
     "end_time": "2024-03-21T08:01:14.860345Z",
     "start_time": "2024-03-21T08:01:09.539362Z"
    },
    "collapsed": true,
    "jupyter": {
     "outputs_hidden": true
    }
   },
   "outputs": [],
   "source": [
    "# chapter1_1\n",
    "(principalRaw, rateRaw) = input('Type two numbers as `principal rate`:').split()\n",
    "print(f'You typed: principal = {principalRaw} and rate = {rateRaw}')\n",
    "\n",
    "principal, rate = float(principalRaw), float(rateRaw)\n",
    "\n",
    "newPrincipal = principal * (1 + rate)\n",
    "print(f'The principal plus interest is: {newPrincipal:.2f}')"
   ]
  },
  {
   "cell_type": "markdown",
   "id": "914e82f7",
   "metadata": {},
   "source": [
    "```{=typst}\n",
    "= 习题二\n",
    "\n",
    "== 题目\n",
    "\n",
    "现实生活中，储户在填定期存单时有“到期自动转存”选项，它表示在存单期满后自动转存为同样存期的新定期存单，结存的本金与利息总额将作为新本金。计算自动转存一次和两次后的期满金额。\n",
    "\n",
    "== 思路\n",
    "\n",
    "输入输出，示例复用了习题一的数据\n",
    "\n",
    "== 代码\n",
    "\n",
    "```\n"
   ]
  },
  {
   "cell_type": "code",
   "execution_count": null,
   "id": "e889aabdcaf56572",
   "metadata": {
    "ExecuteTime": {
     "end_time": "2024-03-21T08:01:36.533759Z",
     "start_time": "2024-03-21T08:01:36.530680Z"
    },
    "collapsed": false,
    "jupyter": {
     "outputs_hidden": false
    }
   },
   "outputs": [],
   "source": [
    "# chapter1_2\n",
    "# data inherited from `chapter1_1`\n",
    "\n",
    "PrincipalDumpOnce = newPrincipal * (1 + rate)\n",
    "PrincipalDumpTwice = PrincipalDumpOnce * (1 + rate)\n",
    "\n",
    "print(f'The principal plus interest dumped one year is: {PrincipalDumpOnce:.2f}')\n",
    "print(f'The principal plus interest dumped two years is: {PrincipalDumpTwice:.2f}')"
   ]
  },
  {
   "cell_type": "markdown",
   "id": "ceab575d",
   "metadata": {},
   "source": [
    "```{=typst}\n",
    "= 习题三\n",
    "\n",
    "== 题目\n",
    "\n",
    "接受用户输入的两个整数，求其阶乘之和并输出结果。\n",
    "\n",
    "== 思路\n",
    "\n",
    "考虑到阶乘最简单的计算方法即递归算法算法，并且是典型的递归算法，故在此基础上用函数装饰器 lru_cache 进行缓存优化。\n",
    "\n",
    "== 代码\n",
    "\n",
    "```\n"
   ]
  },
  {
   "cell_type": "code",
   "execution_count": null,
   "id": "4f414549b8266835",
   "metadata": {
    "ExecuteTime": {
     "end_time": "2024-03-21T07:56:27.182091Z",
     "start_time": "2024-03-21T07:56:23.224176Z"
    },
    "collapsed": false,
    "jupyter": {
     "outputs_hidden": false
    }
   },
   "outputs": [],
   "source": [
    "# chapter1_3\n",
    "from functools import lru_cache\n",
    "\n",
    "\n",
    "@lru_cache(maxsize=None)\n",
    "def factorial(n: int) -> int:\n",
    "  \"\"\"\n",
    "  use function tool `lru_cache` as a cache mechanism to speed the recursion\n",
    "\n",
    "  :param n: an integer to calc its factorial\n",
    "  :return: the factorial of `n`\n",
    "  \"\"\"\n",
    "  return 1 if n == 0 else factorial(n - 1) * n\n",
    "\n",
    "\n",
    "(a, b) = input('Type two integers as `a, b`:').split()\n",
    "print(f'You typed: a = {a} and b = {b}')\n",
    "\n",
    "print(f\"The result of the plus of two integer's factorial is: {factorial(int(a)) + factorial(int(b))}\")"
   ]
  },
  {
   "cell_type": "markdown",
   "id": "e723bb60",
   "metadata": {},
   "source": [
    "```{=typst}\n",
    "= 结论\n",
    "\n",
    "为了使测试样例和相关足够简洁易懂，`chapter1_3`（即习题三）的源码删去了 stdio 内容以及相关的输入输出操作，仅保留了计算逻辑，以避免 mock 操作x。出于类似的原因，`chapter1_1` 和 `chapter1_2` 由于足够简单，也没有进行测试。\n",
    "\n",
    "您可以在 #link(env.TARGET_URL)[此处] 找到更多的测试样例。\n",
    "\n",
    "```\n"
   ]
  }
 ],
 "metadata": {
  "kernelspec": {
   "display_name": "Python 3 (ipykernel)",
   "language": "python",
   "name": "python3"
  },
  "language_info": {
   "codemirror_mode": {
    "name": "ipython",
    "version": 3
   },
   "file_extension": ".py",
   "mimetype": "text/x-python",
   "name": "python",
   "nbconvert_exporter": "python",
   "pygments_lexer": "ipython3",
   "version": "3.11.5"
  }
 },
 "nbformat": 4,
 "nbformat_minor": 5
}
