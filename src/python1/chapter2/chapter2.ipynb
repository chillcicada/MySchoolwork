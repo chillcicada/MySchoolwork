{
 "cells": [
  {
   "cell_type": "raw",
   "metadata": {
    "vscode": {
     "languageId": "raw"
    }
   },
   "source": [
    "---\n",
    "format: typst\n",
    "---"
   ]
  },
  {
   "cell_type": "markdown",
   "metadata": {},
   "source": [
    "```{=typst}\n",
    "#import \"../common/template.typ\": conf\n",
    "#import \"../common/dotenv.typ\": env\n",
    "\n",
    "#show: doc => conf(\n",
    "  title: [第二章作业报告],\n",
    "  authors: (\n",
    "    (\n",
    "      name: env.STUDENT_NAME,\n",
    "      studentID: env.STUDENT_ID,\n",
    "      email: env.STUDENT_EMAIL,\n",
    "    ),\n",
    "  ),\n",
    "  doc,\n",
    ")\n",
    "\n",
    "```\n"
   ]
  },
  {
   "cell_type": "markdown",
   "metadata": {},
   "source": [
    "````{=typst}\n",
    "= 习题一\n",
    "\n",
    "== 题目\n",
    "\n",
    "打印所有 100 至 999 之间的水仙花数，所谓水仙花数是指各位数字立方和为该数字本身的整数。\n",
    "\n",
    "== 思路\n",
    "\n",
    "纯输出型题目，将判断逻辑 `daffodils` 单独列出以降耦合。\n",
    "\n",
    "== 测试\n",
    "\n",
    "```python\n",
    "# test_chapter2.py\n",
    "\n",
    "from chapter2.chapter2_1 import daffodils\n",
    "\n",
    "\n",
    "def test_daffodils():\n",
    "  assert daffodils(153)      # 1^3 + 5^3 + 3^3 == 153\n",
    "  assert not daffodils(154)  # 1^3 + 5^3 + 4^3 != 154\n",
    "```\n",
    "\n",
    "所有测试均通过。\n",
    "\n",
    "== 代码\n",
    "\n",
    "````\n"
   ]
  },
  {
   "cell_type": "code",
   "execution_count": null,
   "metadata": {},
   "outputs": [],
   "source": [
    "# chapter2_1\n",
    "\n",
    "\n",
    "def daffodils(x):\n",
    "  return x == sum([int(i) ** 3 for i in str(x)])\n",
    "\n",
    "\n",
    "def slv2_1():\n",
    "  for i in range(100, 1000):\n",
    "    if daffodils(i):\n",
    "      print(i)\n",
    "\n",
    "\n",
    "slv2_1()"
   ]
  },
  {
   "cell_type": "markdown",
   "metadata": {},
   "source": [
    "```{=typst}\n",
    "= 习题二\n",
    "\n",
    "== 题目\n",
    "\n",
    "假设您准备拿出一笔闲置资金投资，并准备长期持有 30 年。分别以投资收益率 1%、2%、、30% 计算最终收益率。若初始投入本金为 n 元，最终资产是多少元？n 值由用户输入。\n",
    "\n",
    "== 思路\n",
    "\n",
    "纯输出题目，递归逻辑。\n",
    "\n",
    "== 代码\n",
    "\n",
    "```\n"
   ]
  },
  {
   "cell_type": "code",
   "execution_count": null,
   "metadata": {},
   "outputs": [],
   "source": [
    "# chapter2_2\n",
    "\n",
    "\n",
    "def investment(init, rate, years):\n",
    "  return init * (1 + rate) ** years\n",
    "\n",
    "\n",
    "init = float(input())\n",
    "print('the initial investment is:', init)\n",
    "\n",
    "for i in range(1, 31):\n",
    "  final = investment(init, i / 100, 20)\n",
    "\n",
    "print(f'the final asset is: {final:.2f}')"
   ]
  },
  {
   "cell_type": "markdown",
   "metadata": {},
   "source": [
    "````{=typst}\n",
    "= 习题三\n",
    "\n",
    "== 题目\n",
    "\n",
    "输出下三角九九乘法表。因为乘积位数不同，数据可能无法对齐。思考如何对齐数据。\n",
    "\n",
    "== 思路\n",
    "\n",
    "使用格式化字符串进行格式化输出。\n",
    "\n",
    "== 测试\n",
    "\n",
    "```python\n",
    "# test_chapter2.py\n",
    "\n",
    "from chapter2.chapter2_2 import formatOutput\n",
    "\n",
    "\n",
    "def test_formatOutput():\n",
    "  assert formatOutput(1, 1) == '\\033[94m1*1\\033[93m=\\033[92m 1\\033[0m'\n",
    "  assert formatOutput(1, 2).__len__() == 25\n",
    "```\n",
    "\n",
    "所有测试均通过。\n",
    "\n",
    "== 代码\n",
    "\n",
    "````\n"
   ]
  },
  {
   "cell_type": "code",
   "execution_count": null,
   "metadata": {},
   "outputs": [],
   "source": [
    "# chapter2_3\n",
    "GREEN, YELLOW, BLUE, END = '\\033[92m', '\\033[93m', '\\033[94m', '\\033[0m'\n",
    "\n",
    "\n",
    "def formatOutput(i, j):\n",
    "  return f'{BLUE}{i}*{j}{YELLOW}={GREEN}{i * j:>2}{END}'\n",
    "\n",
    "\n",
    "def slv2_3():\n",
    "  for i in range(1, 10):\n",
    "    for j in range(1, i + 1):\n",
    "      print(formatOutput(j, i), end=' ')\n",
    "    print()\n",
    "\n",
    "\n",
    "slv2_3()"
   ]
  },
  {
   "cell_type": "markdown",
   "metadata": {},
   "source": [
    "```{=typst}\n",
    "= 习题四\n",
    "\n",
    "== 题目\n",
    "\n",
    "接受用户输入的多个实数，计算其均值，用户输入 0 时结束。\n",
    "\n",
    "== 思路\n",
    "\n",
    "- 对于一行输入的数据，使用 `split` 方法将其分割为多个实数，然后计算均值。\n",
    "- 对于以换行符分割的多行数据，使用 while (True) 循环，直到用户输入 0 时结束。\n",
    "\n",
    "== 代码\n",
    "\n",
    "```\n"
   ]
  },
  {
   "cell_type": "code",
   "execution_count": null,
   "metadata": {},
   "outputs": [],
   "source": [
    "# chapter2_4\n",
    "cache = []\n",
    "\n",
    "\n",
    "while True:\n",
    "  temp = input()\n",
    "  try:\n",
    "    temp = float(temp)\n",
    "    if temp == 0:\n",
    "      result = sum(cache) / len(cache)\n",
    "      print(f'the input is: {cache}')\n",
    "      print(f'the result is: {result:.2f}')\n",
    "      break\n",
    "    cache.append(temp)\n",
    "  except ValueError:\n",
    "    result = sum([float(i) for i in temp.split()]) / (len(temp.split()) - 1)\n",
    "    print(f'the input is: {temp}')\n",
    "    print(f'the result is: {result:.2f}')\n",
    "    break"
   ]
  },
  {
   "cell_type": "markdown",
   "metadata": {},
   "source": [
    "```{=typst}\n",
    "= 结论\n",
    "\n",
    "由于打包前后项目结构有所调整，测试文件需要经过调整才能正常运行，去除 `import` 语句的包头名称即可，您可以在 #link(env.TARGET_URL)[此处] 找到完整的项目结构。\n",
    "\n",
    "```\n"
   ]
  }
 ],
 "metadata": {
  "kernelspec": {
   "display_name": "venv",
   "language": "python",
   "name": "python3"
  },
  "language_info": {
   "codemirror_mode": {
    "name": "ipython",
    "version": 3
   },
   "file_extension": ".py",
   "mimetype": "text/x-python",
   "name": "python",
   "nbconvert_exporter": "python",
   "pygments_lexer": "ipython3",
   "version": "3.11.5"
  }
 },
 "nbformat": 4,
 "nbformat_minor": 2
}
