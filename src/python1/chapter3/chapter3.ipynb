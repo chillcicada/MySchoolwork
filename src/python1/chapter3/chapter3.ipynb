{
 "cells": [
  {
   "cell_type": "raw",
   "metadata": {
    "vscode": {
     "languageId": "raw"
    }
   },
   "source": [
    "---\n",
    "format: typst\n",
    "---"
   ]
  },
  {
   "cell_type": "markdown",
   "metadata": {},
   "source": [
    "```{=typst}\n",
    "#import \"../common/template.typ\": conf\n",
    "#import \"../common/dotenv.typ\": env\n",
    "\n",
    "#show: doc => conf(\n",
    "  title: [第二章作业报告],\n",
    "  authors: (\n",
    "    (\n",
    "      name: env.STUDENT_NAME,\n",
    "      studentID: env.STUDENT_ID,\n",
    "      email: env.STUDENT_EMAIL,\n",
    "    ),\n",
    "  ),\n",
    "  doc,\n",
    ")\n",
    "\n",
    "```\n"
   ]
  },
  {
   "cell_type": "markdown",
   "metadata": {},
   "source": [
    "````{=typst}\n",
    "= 习题一\n",
    "\n",
    "== 题目\n",
    "\n",
    "给定自然数 n，编写函数，求其各位数字之和，如数 1234 各位数字之和为 10。编写函数，重复上述过程，直至得到 1～9 之间的某个数。\n",
    "\n",
    "== 思路\n",
    "\n",
    "`map` 求其各位数字之和，再调用递归。\n",
    "\n",
    "== 测试\n",
    "\n",
    "```python\n",
    "# test_chapter3.py\n",
    "\n",
    "from chapter3.chapter3_1 import subN, subNN\n",
    "\n",
    "\n",
    "def test_subN():\n",
    "  assert subN(123) == 6\n",
    "  assert subN(1234) == 10\n",
    "  assert subN(12345) == 15\n",
    "  assert subN(123456) == 21\n",
    "  assert subN(1234567) == 28\n",
    "  assert subN(12345678) == 36\n",
    "  assert subN(123456789) == 45\n",
    "  pass\n",
    "\n",
    "\n",
    "def test_subNN():\n",
    "  assert subNN(123) == 6\n",
    "  assert subNN(1234) == 1\n",
    "  assert subNN(12345) == 6\n",
    "  assert subNN(123456) == 3\n",
    "  assert subNN(1234567) == 1\n",
    "  assert subNN(12345678) == 9\n",
    "  assert subNN(123456789) == 9\n",
    "  pass\n",
    "```\n",
    "\n",
    "所有测试均通过。\n",
    "\n",
    "== 代码\n",
    "\n",
    "````\n"
   ]
  },
  {
   "cell_type": "code",
   "execution_count": 1,
   "metadata": {},
   "outputs": [],
   "source": [
    "def subN(n):\n",
    "  return sum(map(int, str(n)))\n",
    "\n",
    "\n",
    "def subNN(n):\n",
    "  return n if n < 10 else subNN(subN(n))"
   ]
  },
  {
   "cell_type": "markdown",
   "metadata": {},
   "source": [
    "```{=typst}\n",
    "= 习题二\n",
    "\n",
    "== 题目\n",
    "\n",
    "继续上一题。编写函数，检查 1～99999 之间所有数，给出最终结果中 1～9 出现比例。\n",
    "\n",
    "== 思路\n",
    "\n",
    "字典计数 + 循环。\n",
    "\n",
    "== 代码\n",
    "\n",
    "```\n"
   ]
  },
  {
   "cell_type": "code",
   "execution_count": 2,
   "metadata": {},
   "outputs": [
    {
     "name": "stdout",
     "output_type": "stream",
     "text": [
      "{1: 11111, 2: 11111, 3: 11111, 4: 11111, 5: 11111, 6: 11111, 7: 11111, 8: 11111, 9: 11111}\n"
     ]
    }
   ],
   "source": [
    "N = 100000\n",
    "\n",
    "dt = {}\n",
    "\n",
    "for i in range(1, N):\n",
    "  dt[subNN(i)] = dt.get(subNN(i), 0) + 1\n",
    "  pass\n",
    "\n",
    "print(dt)"
   ]
  },
  {
   "cell_type": "markdown",
   "metadata": {},
   "source": [
    "````{=typst}\n",
    "= 习题三\n",
    "\n",
    "== 题目\n",
    "\n",
    "编写函数，使用递归方法求 C(n, k) 。\n",
    "\n",
    "== 思路\n",
    "\n",
    "使用递推公式 $C(n, m) = C(n - 1, m - 1) + C(n, m - 1)$，不合法情况置零处理。\n",
    "\n",
    "== 测试\n",
    "\n",
    "```python\n",
    "# test_chapter3.py\n",
    "\n",
    "from chapter3.chapter3_3 import C\n",
    "\n",
    "\n",
    "def test_C():\n",
    "  assert C(5, -1) == 0\n",
    "\n",
    "  assert C(5, 0) == 1\n",
    "  assert C(5, 1) == 5\n",
    "  assert C(5, 2) == 10\n",
    "  assert C(5, 3) == 10\n",
    "  assert C(5, 4) == 5\n",
    "  assert C(5, 5) == 1\n",
    "\n",
    "  assert C(5, 6) == 0\n",
    "  pass\n",
    "```\n",
    "\n",
    "所有测试均通过。\n",
    "\n",
    "== 代码\n",
    "\n",
    "````\n"
   ]
  },
  {
   "cell_type": "code",
   "execution_count": 3,
   "metadata": {},
   "outputs": [],
   "source": [
    "def C(n: int, m: int) -> int:\n",
    "  if n < m or m < 0:\n",
    "    return 0\n",
    "\n",
    "  return C(n - 1, m - 1) + C(n - 1, m) if m > 0 else 1"
   ]
  },
  {
   "cell_type": "markdown",
   "metadata": {},
   "source": [
    "```{=typst}\n",
    "= 习题四\n",
    "\n",
    "== 题目\n",
    "\n",
    "编写函数，计算圆周率。存在圆心在直角坐标系原点且半径为 1 的圆及其外切正方形。为计算方便，仅考虑位于第一象限的四分之一正方形和四分之一圆。随机生成该四分之一正方形中一系列点，散布于四分之一圆内比例即为圆周率四分之一。散步点越多，结果越精确，耗时也越长。\n",
    "\n",
    "== 思路\n",
    "\n",
    "蒙特卡洛模拟，对于单模块开多进程加速。\n",
    "\n",
    "== 代码\n",
    "\n",
    "```\n"
   ]
  },
  {
   "cell_type": "code",
   "execution_count": 4,
   "metadata": {},
   "outputs": [
    {
     "name": "stdout",
     "output_type": "stream",
     "text": [
      "3.15024\n"
     ]
    }
   ],
   "source": [
    "from random import random\n",
    "import multiprocessing as mp\n",
    "\n",
    "# we will use cpu count sub 1 to run the monte carlo simulation\n",
    "use_cpu_count = mp.cpu_count() - 2\n",
    "\n",
    "\n",
    "def compute_pi(times: int) -> int:\n",
    "  count = 0\n",
    "  for _ in range(times):\n",
    "    x, y = random(), random()\n",
    "    if x**2 + y**2 < 1:\n",
    "      count += 1\n",
    "  return count\n",
    "\n",
    "\n",
    "times = 100000\n",
    "print(compute_pi(times) * 4 / times)\n",
    "\n",
    "\n",
    "# below is a parallel monte carlo simulation to calculate pi\n",
    "# it can only be run in the main module, @see chapter3_4.py\n",
    "def monte_carlo_pi(times: int, processes=use_cpu_count) -> float:\n",
    "  pool = mp.Pool(processes)\n",
    "  counts = pool.map(compute_pi, [times] * processes)\n",
    "  pool.close()\n",
    "  pool.join()\n",
    "  count = sum(counts)\n",
    "  return 4 * count / times / processes"
   ]
  },
  {
   "cell_type": "markdown",
   "metadata": {},
   "source": [
    "```{=typst}\n",
    "= 结论\n",
    "\n",
    "蒙特卡洛估计 $pi$ 的收敛速度极慢，效果不好。\n",
    "\n",
    "由于打包前后项目结构有所调整，测试文件需要经过调整才能正常运行，去除 `import` 语句的包头名称即可，您可以在 #link(\"https://git.tsinghua.edu.cn/liukuan22/workspace4py\")[此处] 找到完整的项目结构。\n",
    "\n",
    "```\n"
   ]
  }
 ],
 "metadata": {
  "kernelspec": {
   "display_name": ".venv",
   "language": "python",
   "name": "python3"
  },
  "language_info": {
   "codemirror_mode": {
    "name": "ipython",
    "version": 3
   },
   "file_extension": ".py",
   "mimetype": "text/x-python",
   "name": "python",
   "nbconvert_exporter": "python",
   "pygments_lexer": "ipython3",
   "version": "3.12.2"
  }
 },
 "nbformat": 4,
 "nbformat_minor": 2
}
